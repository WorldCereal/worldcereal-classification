{
 "cells": [
  {
   "cell_type": "markdown",
   "metadata": {},
   "source": [
    "![](./resources/MOOC_refdata_RDM_exploration.png)"
   ]
  },
  {
   "cell_type": "markdown",
   "metadata": {},
   "source": [
    "### Introduction\n",
    "\n",
    "This notebook demonstrates the different possibilities to explore and download our harmonized reference data, hosted in the [WorldCereal Reference Data Module (RDM)](https://rdm.esa-worldcereal.org/).<br>\n",
    "Here, we use the dedicated [RDM API](https://ewoc-rdm-api.iiasa.ac.at/swagger/index.html) to interact with the data through Python code.<br>\n",
    "For quick exploration of the reference data, you can obviously also make use of our [user interface](https://rdm.esa-worldcereal.org/map).\n",
    "\n",
    "This notebook only covers the processes of inspecting and downloading existing reference data within the WorldCereal RDM.<br>\n",
    "Data harmonization and upload should be done through the dedicated user interface, which can be accessed by clicking the \"Contribute\" button, [here](https://rdm.esa-worldcereal.org/).\n",
    "\n",
    "For more background information on our vision and approach regarding reference data, visit [the reference data section on our project website](https://esa-worldcereal.org/en/reference-data).\n",
    "\n",
    "For more technical background information, visit [our documentation portal](https://worldcereal.github.io/worldcereal-documentation/rdm/overview.html).\n",
    "\n",
    "To engage with us on the topic of reference data, reach out on our [user forum](https://forum.esa-worldcereal.org/c/ref-data/6)."
   ]
  },
  {
   "cell_type": "markdown",
   "metadata": {},
   "source": [
    "### How to run this notebook?\n",
    "\n",
    "#### Option 1: Run on Terrascope\n",
    "\n",
    "You can use a preconfigured environment on [**Terrascope**](https://terrascope.be/en) to run the workflows in a Jupyter notebook environment. Just register as a new user on Terrascope or use one of the supported EGI eduGAIN login methods to get started.\n",
    "\n",
    "Once you have a Terrascope account, you can run this notebook by clicking the button shown below.\n",
    "\n",
    "<div class=\"alert alert-block alert-warning\">When you click the button, you will be prompted with \"Server Options\". Make sure to select the \"Worldcereal\" image here. Did you choose \"Terrascope\" by accident? Then go to File > Hub Control Panel > Stop my server, and click the link below once again.</div>\n",
    "\n",
    "<a href=\"https://notebooks.terrascope.be/hub/user-redirect/git-pull?repo=https%3A%2F%2Fgithub.com%2FWorldCereal%2Fworldcereal-classification&urlpath=lab%2Ftree%2Fworldcereal-classification%2Fnotebooks%2Fworldcereal_RDM_demo.ipynb&branch=main\"><img src=\"https://img.shields.io/badge/run%20RDM%20demo-Terrascope-brightgreen\" alt=\"Run RDM demo\" valign=\"middle\"></a>\n",
    "\n",
    "\n",
    "#### Option 2: Install Locally\n",
    "\n",
    "If you prefer to install the package locally, you can create the WorldCereal environment using **Conda** or **pip**.\n",
    "\n",
    "First clone the repository:\n",
    "```bash\n",
    "git clone https://github.com/WorldCereal/worldcereal-classification.git\n",
    "cd worldcereal-classification\n",
    "```\n",
    "Next, install the package locally:\n",
    "- for Conda: `conda env create -f environment.yml`\n",
    "- for Pip: `pip install .[train,notebooks]`"
   ]
  },
  {
   "cell_type": "markdown",
   "metadata": {},
   "source": [
    "### Content\n",
    "  \n",
    "- [Before you start](###-Before-you-start)\n",
    "- [1. Browse and explore collections](#1.-Browse-and-explore-collections)\n",
    "- [2. Download individual collections](#2.-Download-individual-collections)\n",
    "- [3. Filter collections](#3.-Filter-collections)\n",
    "- [4. Get crop counts across datasets](#4.-Get-crop-counts-across-datasets)\n",
    "- [5. Get individual samples across multiple collections](#5.-Get-individual-samples-across-multiple-collections)"
   ]
  },
  {
   "cell_type": "markdown",
   "metadata": {},
   "source": [
    "### Before you start\n",
    "\n",
    "Reference data in the WorldCereal RDM are organized in collections.<br>\n",
    "A collection contains observations derived from a single source and for a single year.<br>\n",
    "\n",
    "Each collection is characterized by a **data privacy level**, controlling who can access the data:<br>\n",
    "- *Public datasets* can be accessed by anyone and have been explicitly curated by the WorldCereal consortium;\n",
    "- *Private datasets* can only be accessed by the user who uploaded the data;\n",
    "- *Restricted datasets* are private datasets which were approved by the uploader to be used for training the global WorldCereal classification models, but which are not shared publicly.\n",
    "\n",
    "Anyone is able to access, explore and download public datasets, without the need for any registration or user account.\n",
    "\n",
    "In order to upload and access private datasets, you need to sign up for a [Terrascope account](https://terrascope.be/en).<br>\n",
    "This is completely free of charge!"
   ]
  },
  {
   "cell_type": "markdown",
   "metadata": {},
   "source": [
    "### 1. Browse and explore collections\n",
    "\n",
    "In this section, we demonstrate how to retrieve a list of available collections and how to get a bit more information about an individual collection.<br>\n",
    "For now we will focus on public collections only."
   ]
  },
  {
   "cell_type": "code",
   "execution_count": 1,
   "metadata": {},
   "outputs": [
    {
     "name": "stdout",
     "output_type": "stream",
     "text": [
      "Number of collections found: 137\n"
     ]
    },
    {
     "data": {
      "text/plain": [
       "['2021_deu_eurocropsls_poly_110',\n",
       " '2018_mli_nhicropharvest_poly_110',\n",
       " '2019_mli_nhicropharvest_poly_110',\n",
       " '2021_mex_cimmyt1_poly_111',\n",
       " '2022_aus_clumcom_poly_110',\n",
       " '2020_mex_cimmyt1_poly_111',\n",
       " '2023_mex_cimmyt1_poly_111',\n",
       " '2017_tza_osfafsis_point_110',\n",
       " '2018_af_oneacrefundmel_point_110',\n",
       " '2017_bel_lpisflanders_poly_110',\n",
       " '2023_npl_cimmyt_poly_110',\n",
       " '2018_bel_lpisflanders_poly_110',\n",
       " '2021_glo_ewocval_poly_111',\n",
       " '2022_glo_ewocval_poly_111',\n",
       " '2022_mex_cimmyt1_poly_111',\n",
       " '2020_aus_clumcom_poly_110',\n",
       " '2022_af_dewatrain1_poly_100',\n",
       " '2023idnvitomanualpoint100',\n",
       " '2018_irl_lpis_poly_110',\n",
       " '2019_aus_clumcom_poly_110',\n",
       " '2021_aus_clumcom_poly_110',\n",
       " '2019_irl_lpis_poly_110',\n",
       " '2019_mex_cimmyt1_poly_111',\n",
       " '2022_idn_vitomanualpoints_point_100',\n",
       " '2020_irl_lpis_poly_110',\n",
       " '2018_glo_glance_point_100',\n",
       " '2019_glo_glance_point_100',\n",
       " '2019_esp_sigpaccatalunya_poly_111',\n",
       " '2022_aut_lpis_poly_110',\n",
       " '2018_aus_clumcom_poly_110',\n",
       " '2023_aus_clumcom_poly_110',\n",
       " '2020_glo_glance_point_100',\n",
       " '2023_irl_lpis_poly_110',\n",
       " '2022_irl_lpis_poly_110',\n",
       " '2021_irl_lpis_poly_110',\n",
       " '2019_can_aafccropinventory_point_110',\n",
       " '2019_egy_faowapor1_poly_111',\n",
       " '2021_moz_faowapor1_poly_111',\n",
       " '2021_swe_eurocrops_poly_110',\n",
       " '2021_svk_eurocrops_poly_110',\n",
       " '2020_svn_lpis_poly_110',\n",
       " '2021_est_eurocrops_poly_110',\n",
       " '2018_nld_lpis_poly_110',\n",
       " '2021_lva_lpis_poly_110',\n",
       " '2020_esp_eurocropsnavarre_poly_110',\n",
       " '2020_fin_lpis_poly_110',\n",
       " '2020_nld_lpis_poly_110',\n",
       " '2019_aut_lpis_poly_110',\n",
       " '2018_fra_lpis_poly_110',\n",
       " '2020_aut_lpis_poly_110',\n",
       " '2019_fra_lpis_poly_110',\n",
       " '2020_bel_lpisflanders_poly_110',\n",
       " '2017_aut_lpis_poly_110',\n",
       " '2020_bra_inpelemaug_poly_110',\n",
       " '2020_bra_inpelemfeb_poly_110',\n",
       " '2020_bra_inpelemmar_poly_110',\n",
       " '2020_can_aafccropinventory_point_110',\n",
       " '2018_aut_lpis_poly_110',\n",
       " '2017_lbn_faowapor1_poly_111',\n",
       " '2017_lbn_faowapor2_poly_111',\n",
       " '2017_mdg_jecamcirad_poly_111',\n",
       " '2017_nga_cgiargardian_point_110',\n",
       " '2017_uga_radiantearth01_poly_110',\n",
       " '2017_zaf_jecamcirad_poly_111',\n",
       " '2018_as_cawaproject_poly_111',\n",
       " '2018_bfa_jecamcirad_poly_111',\n",
       " '2018_can_aafccropinventory_point_110',\n",
       " '2018_eth_faowapor1_poly_111',\n",
       " '2018_eth_faowapor2_poly_111',\n",
       " '2018_eu_lucas_point_110',\n",
       " '2018_mdg_jecamcirad_poly_111',\n",
       " '2018_ind_cgiargardian_point_110',\n",
       " '2018_ner_faowapor1_poly_111',\n",
       " '2018_sen_jecamcirad_poly_111',\n",
       " '2018_tza_osfafsis_point_110',\n",
       " '2018_tza_radiantearth01_poly_110',\n",
       " '2019_af_nhicropharvest_poly_100',\n",
       " '2019_egy_faowapor2_poly_111',\n",
       " '2019_af_dewatrain1_poly_100',\n",
       " '2019_af_dewaval1_point_100',\n",
       " '2019_af_dewatrain2_poly_100',\n",
       " '2019_af_dewaval2_point_100',\n",
       " '2019_ken_nhicropharvest_point_100',\n",
       " '2019_ken_radiantearth01_poly_101',\n",
       " '2019_ken_radiantearth01_poly_111',\n",
       " '2019_mdg_jecamcirad_poly_111',\n",
       " '2019_sen_jecamcirad_poly_111',\n",
       " '2019_tza_cimmytdm1_point_110',\n",
       " '2019_tza_cimmytdm2_point_110',\n",
       " '2019_tza_oneacrefundmel_point_110',\n",
       " '2019_tza_osfafsis_point_110',\n",
       " '2019_usausda2019cdls_point_110',\n",
       " '2020_eth_nhicropharvest_poly_100',\n",
       " '2020_rwa_faowapor1_point_111',\n",
       " '2020_rwa_faowapor2_point_111',\n",
       " '2020_rwa_faowaporakagera_point_111',\n",
       " '2020_sdn_faowapor1_poly_110',\n",
       " '2020_sdn_faowapor2_poly_111',\n",
       " '2020_zwe_nhicropharvest_point_110',\n",
       " '2020_glo_nhicropharvest_point_100',\n",
       " '2021_af_dewatrain1_poly_100',\n",
       " '2021_af_dewaval1_point_100',\n",
       " '2022_af_dewaval1_point_100',\n",
       " '2021_rwa_faowaporyan_poly_111',\n",
       " '2021_sen_faowapor1_poly_111',\n",
       " '2021_sen_faowapor2_poly_111',\n",
       " '2021_tza_copernicusgeoglam_point_110',\n",
       " '2021_uga_copernicusgeoglamlr_point_111',\n",
       " '2021_uga_copernicusgeoglamsr_point_111',\n",
       " '2023_idn_vitocampaign_poly_110',\n",
       " '2019_bel_lpisflanders_poly_110',\n",
       " '2019_af_oneacrefundmel_point_110',\n",
       " '2021_lka_faowapor2_poly_111',\n",
       " '2021_deu_eurocropsnrw_poly_110',\n",
       " '2021_fin_lpis_poly_110',\n",
       " '2021_ltu_eurocrops_poly_110',\n",
       " '2019_dnk_eurocrops_poly_110',\n",
       " '2019_nld_lpis_poly_110',\n",
       " '2021_nld_lpis_poly_110',\n",
       " '2019_lva_lpis_poly_110',\n",
       " '2017_af_oneacrefundmel_point_110',\n",
       " '2017_as_cawaproject_poly_111',\n",
       " '2017_bfa_jecamcirad_poly_111',\n",
       " '2017_bra_jecamcirad_poly_111',\n",
       " '2017_can_aafccropinventory_point_110',\n",
       " '2017_cmr_cgiargardian_point_110',\n",
       " '2017_fra_lpis_poly_110',\n",
       " '2021_bel_lpisflanders_poly_110',\n",
       " '2021_can_aafccropinventory_point_110',\n",
       " '2023_idn_vitomanualpoints_100',\n",
       " '2021_ken_copernicusgeoglamlr_point_111',\n",
       " '2021_ken_copernicusgeoglamsr_point_111',\n",
       " '2021_lka_faowapor1_poly_111',\n",
       " '2021_rwa_faowaporakagera_poly_111',\n",
       " '2021_rwa_faowapormuvu_poly_111',\n",
       " '2020_fra_lpis_poly_110',\n",
       " '2021_aut_lpis_poly_110']"
      ]
     },
     "execution_count": 1,
     "metadata": {},
     "output_type": "execute_result"
    }
   ],
   "source": [
    "# We first initiate an interaction session with the RDM:\n",
    "from worldcereal.rdm_api import RdmInteraction\n",
    "rdm = RdmInteraction()\n",
    "\n",
    "# Get a list of available collections\n",
    "# (by default, the following method only returns public collections)\n",
    "collections = rdm.get_collections()\n",
    "\n",
    "# Extract the collection ID's\n",
    "ids = [col.id for col in collections]\n",
    "print(f'Number of collections found: {len(ids)}')\n",
    "ids"
   ]
  },
  {
   "cell_type": "markdown",
   "metadata": {},
   "source": [
    "Collection ID's are constructed according to a fixed naming convention:<br>\n",
    "(year) _ (country/region) _ (identifier) _ (point or poly) _ (information content)<br>\n",
    "The latter is represented by a numeric code:\n",
    "- 100: only land cover information\n",
    "- 110: land cover and crop type information\n",
    "- 111: land cover, crop type and irrigation information\n",
    "\n",
    "Find out more on [this page](https://worldcereal.github.io/worldcereal-documentation/rdm/refdata.html#dataset-naming-convention)."
   ]
  },
  {
   "cell_type": "markdown",
   "metadata": {},
   "source": [
    "Each individual collection is accompanied by a standard set of metadata.\n",
    "Let's see what basic information is available:"
   ]
  },
  {
   "cell_type": "code",
   "execution_count": 2,
   "metadata": {},
   "outputs": [
    {
     "name": "stdout",
     "output_type": "stream",
     "text": [
      "#######################\n",
      "Collection Metadata:\n",
      "ID: 2021_deu_eurocropsls_poly_110\n",
      "Title: EUROCROPS Germany Lower Saxony 2021\n",
      "Number of samples: 432889\n",
      "Data type: Polygon\n",
      "Access type: Public\n",
      "Observation method: Unknown\n",
      "Confidence score for land cover: 97\n",
      "Confidence score for crop type: 97\n",
      "Confidence score for irrigation label: 0\n",
      "List of available crop types: [1101010011, 1101020001, 2001020000, 1101010021, 1201050000, 1110000000, 1101060001, 1101060002, 1101030001, 1100000000, 1107000010, 1107000031, 1101050001, 1401000000, 1201000000, 1110000300, 1106000031, 1101020002, 1207000000, 1111010000, 1115000000, 1101040001, 1105010020, 1101010041, 1101040002, 1103020000, 1103020040, 1105000040, 1101030002, 1105010010, 1103040030, 4000000000, 1101010012, 1201000010, 1108020020, 1103000000, 1103040010, 1103060000, 1103080000, 1103090070, 1103080060, 1103080050, 1106000032, 1107000032, 1110000440, 1105000000, 1101110012, 1101000000, 1103120010, 1200000000, 1111020010, 1111020030, 1101010042, 1103110000, 1103070000, 1110000470, 1105000030, 1101050002, 1107000020, 1106000010, 1103090040, 1106000020, 1110000370, 1102000030, 1210000010, 1103090100, 1103080010, 1103090060, 1103010010, 1106000080, 1101010052, 1101010022, 1102000020, 1103020050, 1103020010, 1103080080, 1201010120, 1109000260, 1109000500, 1111010070, 1201040060, 1111020060, 1109000000, 1101110011, 1101010051, 1109000390, 1109000270, 1103080020, 1109000170, 1103030070, 1201010110, 1201040020, 1201010020, 1201010040, 1106000090, 1109000220, 1109000410, 1110000100, 1109000040, 1109000150, 1108020010, 1103060110, 1109000280, 1109000230, 1109000160, 1103090080, 1109000350, 1105010040, 1111020050, 1109000110, 1106000110, 1109000120, 1110000140, 1109000200, 1109000060, 1103090090, 1110000460, 1110000210, 1109000090, 1201050080, 1110000510, 1109000520, 1103090050, 1103080090, 1110000120, 1109000400]\n",
      "List of available irrigation labels: [0]\n",
      "Spatial extent: {'bbox': [[6.6687925715381295, 51.324970728191396, 10.895156407370337, 53.86603746756331]], 'crs': 'http://www.opengis.net/def/crs/OGC/1.3/CRS84'}\n",
      "Coordinate reference system (CRS): ['http://www.opengis.net/def/crs/EPSG/0/4326']\n",
      "Temporal extent: ['2021-06-01T00:00:00', '2021-06-01T00:00:00']\n",
      "Additional data: \n",
      "Last modified: 2025-02-11T10:44:53.147507\n",
      "Last modified by: None\n",
      "Creation time: 2025-02-11T07:42:44.364433\n",
      "Created by: None\n",
      "fid: 3a180622-b68b-ca66-dba8-788ed518f6e7\n"
     ]
    }
   ],
   "source": [
    "# We get the first collection\n",
    "col = collections[0]\n",
    "\n",
    "# We can now access the collection's metadata\n",
    "col.print_metadata()\n"
   ]
  },
  {
   "cell_type": "markdown",
   "metadata": {},
   "source": [
    "Most of these metadata items speak for themselves. Let's for now have a look at 3 of them:<br>\n",
    "\n",
    "- The **list of available crop types** mentions which crop types are present within the collection, but does not inform you on the quantity of samples per type. Further down in this notebook you will see how to extract actual sample counts per crop type.<br>\n",
    "\n",
    "Crop types are indicated using numeric codes, as defined by our [hierarchical land cover/crop type legend](https://artifactory.vgt.vito.be/artifactory/auxdata-public/worldcereal//legend/WorldCereal_LC_CT_legend_latest.pdf).<br>\n",
    "To ease interpretation of these codes, the following function translates the information into a more human-readable format:"
   ]
  },
  {
   "cell_type": "code",
   "execution_count": 3,
   "metadata": {},
   "outputs": [
    {
     "data": {
      "text/html": [
       "<div>\n",
       "<style scoped>\n",
       "    .dataframe tbody tr th:only-of-type {\n",
       "        vertical-align: middle;\n",
       "    }\n",
       "\n",
       "    .dataframe tbody tr th {\n",
       "        vertical-align: top;\n",
       "    }\n",
       "\n",
       "    .dataframe thead th {\n",
       "        text-align: right;\n",
       "    }\n",
       "</style>\n",
       "<table border=\"1\" class=\"dataframe\">\n",
       "  <thead>\n",
       "    <tr style=\"text-align: right;\">\n",
       "      <th></th>\n",
       "      <th>label_full</th>\n",
       "      <th>level_1</th>\n",
       "      <th>level_2</th>\n",
       "      <th>level_3</th>\n",
       "      <th>level_4</th>\n",
       "      <th>level_5</th>\n",
       "      <th>definition</th>\n",
       "    </tr>\n",
       "    <tr>\n",
       "      <th>ewoc_code</th>\n",
       "      <th></th>\n",
       "      <th></th>\n",
       "      <th></th>\n",
       "      <th></th>\n",
       "      <th></th>\n",
       "      <th></th>\n",
       "      <th></th>\n",
       "    </tr>\n",
       "  </thead>\n",
       "  <tbody>\n",
       "    <tr>\n",
       "      <th>1000000000</th>\n",
       "      <td>cropland_unspecified</td>\n",
       "      <td>cropland_unspecified</td>\n",
       "      <td></td>\n",
       "      <td></td>\n",
       "      <td></td>\n",
       "      <td></td>\n",
       "      <td>Unknown cropped land, either annual or perennial</td>\n",
       "    </tr>\n",
       "    <tr>\n",
       "      <th>1101010000</th>\n",
       "      <td>unspecified_wheat</td>\n",
       "      <td>temporary_crops</td>\n",
       "      <td>cereals</td>\n",
       "      <td>wheat</td>\n",
       "      <td>unspecified_wheat</td>\n",
       "      <td></td>\n",
       "      <td>Triticum genus</td>\n",
       "    </tr>\n",
       "    <tr>\n",
       "      <th>1101060000</th>\n",
       "      <td>maize</td>\n",
       "      <td>temporary_crops</td>\n",
       "      <td>cereals</td>\n",
       "      <td>maize</td>\n",
       "      <td>maize</td>\n",
       "      <td></td>\n",
       "      <td>Zea mays</td>\n",
       "    </tr>\n",
       "    <tr>\n",
       "      <th>1101070000</th>\n",
       "      <td>unspecified_sorghum</td>\n",
       "      <td>temporary_crops</td>\n",
       "      <td>cereals</td>\n",
       "      <td>sorghum</td>\n",
       "      <td>unspecified_sorghum</td>\n",
       "      <td></td>\n",
       "      <td></td>\n",
       "    </tr>\n",
       "    <tr>\n",
       "      <th>1101080000</th>\n",
       "      <td>rice</td>\n",
       "      <td>temporary_crops</td>\n",
       "      <td>cereals</td>\n",
       "      <td>rice</td>\n",
       "      <td>rice</td>\n",
       "      <td></td>\n",
       "      <td></td>\n",
       "    </tr>\n",
       "    <tr>\n",
       "      <th>1101120000</th>\n",
       "      <td>unspecified_millet</td>\n",
       "      <td>temporary_crops</td>\n",
       "      <td>cereals</td>\n",
       "      <td>millet</td>\n",
       "      <td>unspecified_millet</td>\n",
       "      <td></td>\n",
       "      <td></td>\n",
       "    </tr>\n",
       "    <tr>\n",
       "      <th>1105000000</th>\n",
       "      <td>dry_pulses_legumes</td>\n",
       "      <td>temporary_crops</td>\n",
       "      <td>dry_pulses_legumes</td>\n",
       "      <td></td>\n",
       "      <td></td>\n",
       "      <td></td>\n",
       "      <td></td>\n",
       "    </tr>\n",
       "    <tr>\n",
       "      <th>1105010010</th>\n",
       "      <td>beans</td>\n",
       "      <td>temporary_crops</td>\n",
       "      <td>dry_pulses_legumes</td>\n",
       "      <td>beans_peas</td>\n",
       "      <td>beans</td>\n",
       "      <td></td>\n",
       "      <td></td>\n",
       "    </tr>\n",
       "    <tr>\n",
       "      <th>1107000020</th>\n",
       "      <td>sweet_potatoes</td>\n",
       "      <td>temporary_crops</td>\n",
       "      <td>root_tuber_crops</td>\n",
       "      <td></td>\n",
       "      <td>sweet_potatoes</td>\n",
       "      <td></td>\n",
       "      <td></td>\n",
       "    </tr>\n",
       "  </tbody>\n",
       "</table>\n",
       "</div>"
      ],
      "text/plain": [
       "                      label_full               level_1             level_2  \\\n",
       "ewoc_code                                                                    \n",
       "1000000000  cropland_unspecified  cropland_unspecified                       \n",
       "1101010000     unspecified_wheat       temporary_crops             cereals   \n",
       "1101060000                 maize       temporary_crops             cereals   \n",
       "1101070000   unspecified_sorghum       temporary_crops             cereals   \n",
       "1101080000                  rice       temporary_crops             cereals   \n",
       "1101120000    unspecified_millet       temporary_crops             cereals   \n",
       "1105000000    dry_pulses_legumes       temporary_crops  dry_pulses_legumes   \n",
       "1105010010                 beans       temporary_crops  dry_pulses_legumes   \n",
       "1107000020        sweet_potatoes       temporary_crops    root_tuber_crops   \n",
       "\n",
       "               level_3              level_4 level_5  \\\n",
       "ewoc_code                                             \n",
       "1000000000                                            \n",
       "1101010000       wheat    unspecified_wheat           \n",
       "1101060000       maize                maize           \n",
       "1101070000     sorghum  unspecified_sorghum           \n",
       "1101080000        rice                 rice           \n",
       "1101120000      millet   unspecified_millet           \n",
       "1105000000                                            \n",
       "1105010010  beans_peas                beans           \n",
       "1107000020                   sweet_potatoes           \n",
       "\n",
       "                                                  definition  \n",
       "ewoc_code                                                     \n",
       "1000000000  Unknown cropped land, either annual or perennial  \n",
       "1101010000                                    Triticum genus  \n",
       "1101060000                                          Zea mays  \n",
       "1101070000                                                    \n",
       "1101080000                                                    \n",
       "1101120000                                                    \n",
       "1105000000                                                    \n",
       "1105010010                                                    \n",
       "1107000020                                                    "
      ]
     },
     "execution_count": 3,
     "metadata": {},
     "output_type": "execute_result"
    }
   ],
   "source": [
    "from worldcereal.utils.legend import translate_ewoc_codes\n",
    "\n",
    "crop_types = translate_ewoc_codes(col.ewoc_codes)\n",
    "crop_types"
   ]
  },
  {
   "cell_type": "markdown",
   "metadata": {},
   "source": [
    "- The **temporal extent** shows the range of observation dates present in the dataset and can give you a rough indication whether this dataset would be useful for you to consider given a specific growing season of interest.<br>"
   ]
  },
  {
   "cell_type": "code",
   "execution_count": 4,
   "metadata": {},
   "outputs": [
    {
     "name": "stdout",
     "output_type": "stream",
     "text": [
      "Start date: 2017-01-01T00:00:00, End date: 2017-08-03T00:00:00\n"
     ]
    }
   ],
   "source": [
    "print(f'Start date: {col.temporal_extent[0]}, End date: {col.temporal_extent[1]}')"
   ]
  },
  {
   "cell_type": "markdown",
   "metadata": {},
   "source": [
    "- The **spatial extent** provides you with a bounding box in which all observations are contained and gives you an idea about the location of the samples.\n",
    "\n",
    "To get a better idea on where the dataset is located, we can visualize the spatial extent on a map:"
   ]
  },
  {
   "cell_type": "code",
   "execution_count": 4,
   "metadata": {},
   "outputs": [
    {
     "data": {
      "application/vnd.jupyter.widget-view+json": {
       "model_id": "a9882d5fffa247db9b57ea4ccbdae01b",
       "version_major": 2,
       "version_minor": 0
      },
      "text/plain": [
       "Map(center=[52.59550409787735, 8.781974489454234], controls=(ZoomControl(options=['position', 'zoom_in_text', …"
      ]
     },
     "execution_count": 4,
     "metadata": {},
     "output_type": "execute_result"
    }
   ],
   "source": [
    "from worldcereal.rdm_api.rdm_collection import visualize_spatial_extents\n",
    "visualize_spatial_extents([col])"
   ]
  },
  {
   "cell_type": "markdown",
   "metadata": {},
   "source": [
    "### 2. Download individual collections\n",
    "\n",
    "Let's explore which assets are available for each collection."
   ]
  },
  {
   "cell_type": "markdown",
   "metadata": {},
   "source": [
    "#### 2.1 The samples (individual observations)\n",
    "\n",
    "Samples for individual collections can be downloaded as GeoParquet files.\n",
    "Each sample at minimum holds information on:\n",
    "- the observed land cover/crop type (attribute: *ewoc_code*)\n",
    "- the location (point or polygon, captured in the *geometry* attribute)\n",
    "- the date for which the observation is valid, i.e. the designated crop was present on the field (attribute: *valid_time*)\n",
    "\n",
    "Large public collections containing many observations have been automatically subsampled into a representative subset, taking into account crop type variability and spatial distribution of the data. As a user, you have the ability to either download this subset, or the full dataset (by specifying the `subset` parameter in the function below).\n",
    "\n",
    "Let's create a new *download* folder where this notebook is located and download the samples of our example collection:"
   ]
  },
  {
   "cell_type": "code",
   "execution_count": 6,
   "metadata": {},
   "outputs": [
    {
     "name": "stderr",
     "output_type": "stream",
     "text": [
      "\u001b[32m2025-01-28 13:40:45.511\u001b[0m | \u001b[1mINFO    \u001b[0m | \u001b[36mworldcereal.rdm_api.rdm_interaction\u001b[0m:\u001b[36mdownload_collection_geoparquet\u001b[0m:\u001b[36m686\u001b[0m - \u001b[1mSamples for collection 2017_tza_osfafsis_point_110 downloaded to download/sample_2017_TZA_OSF-AFSIS_POINT_110.parquet\u001b[0m\n"
     ]
    }
   ],
   "source": [
    "dwnld_folder = './download'\n",
    "# the following function will automatically create the download folder in case it does not exist\n",
    "parquet_file = rdm.download_collection_geoparquet(col.id, dwnld_folder, subset=True)"
   ]
  },
  {
   "cell_type": "markdown",
   "metadata": {},
   "source": [
    "The resulting file can be visualized in QGIS or, for a quick view, using the function below:"
   ]
  },
  {
   "cell_type": "code",
   "execution_count": 7,
   "metadata": {},
   "outputs": [
    {
     "data": {
      "application/vnd.jupyter.widget-view+json": {
       "model_id": "6bb9ee60392440faab80b394dc4343a4",
       "version_major": 2,
       "version_minor": 0
      },
      "text/plain": [
       "Map(center=[-7.049473005453702, 34.468186726851854], controls=(ZoomControl(options=['position', 'zoom_in_text'…"
      ]
     },
     "execution_count": 7,
     "metadata": {},
     "output_type": "execute_result"
    }
   ],
   "source": [
    "from worldcereal.utils.map import visualize_rdm_geoparquet\n",
    "\n",
    "visualize_rdm_geoparquet(parquet_file)"
   ]
  },
  {
   "cell_type": "markdown",
   "metadata": {},
   "source": [
    "#### 2.2 Full metadata\n",
    "\n",
    "We have previously seen a basic set of metadata for our reference data collection.<br>\n",
    "During the harmonization of public datasets, the WorldCereal moderators are  collecting an extensive set of metadata to fully document both the original dataset and the harmonization steps that have been undertaken.\n",
    "\n",
    "Most of this metadata is bundled in a metadata Excel file, hosted on the RDM portal. This metadata can either be downloaded as a dictionary, or as an xlsx file:"
   ]
  },
  {
   "cell_type": "code",
   "execution_count": 8,
   "metadata": {},
   "outputs": [
    {
     "name": "stderr",
     "output_type": "stream",
     "text": [
      "\u001b[32m2025-01-28 12:37:50.161\u001b[0m | \u001b[1mINFO    \u001b[0m | \u001b[36mworldcereal.rdm_api.rdm_interaction\u001b[0m:\u001b[36mdownload_collection_metadata\u001b[0m:\u001b[36m634\u001b[0m - \u001b[1mMetadata for collection 2017_tza_osfafsis_point_110 downloaded to ./download\u001b[0m\n"
     ]
    },
    {
     "data": {
      "text/plain": [
       "{'CuratedDataSet:ReferenceCuratedDataSet:NameCuratedDataSet:': '2017_tza_osfafsis_point_110',\n",
       " 'CuratedDataSet::TitleCuratedDataSet:': 'TanSIS, 2017',\n",
       " 'OriginalDataSet:Provider:Code:': 'TanSIS',\n",
       " 'OriginalDataSet:Provider:DescriptionCuratedDataSet:': 'Tanzania Soil Information Service (TanSIS), a project  under the auspices of the Division of Research and Development (DRD) of the Ministry of Agriculture of Tanzania.',\n",
       " 'OriginalDataSet:Provider:URL:': 'https://osf.io/4ngau',\n",
       " 'OriginalDataSet:Provider:Contact:': 'Markus Walsh',\n",
       " 'OriginalDataSet:NameDataSet::': 'TanSIS data set, 2017',\n",
       " 'OriginalDataSet:DOI::': '10.17605/OSF.IO/4NGAU',\n",
       " 'OriginalDataSet:License:TypeOfLicense:': 'CC_BY',\n",
       " 'OriginalDataSet:License:ReferenceToLicense:': 'CC-By Attribution 4.0 International',\n",
       " 'OriginalDataSet:License:RequiredCitation:': 'Walsh, Markus, Joel Meliyo, Bruce Scott, Barbara Walsh, and Bob Macmillan. 2021. “Tanzania Soil Information Service (TanSIS).” OSF. September 6. doi:10.17605/OSF.IO/4NGAU.',\n",
       " 'OriginalDataSet:Objective::': 'This project develops soil and cropland condition & monitoring assessments for Tanzania.',\n",
       " 'OriginalDataSet:Observation:ObservationMethod:TypeOfObservationMethod': 'FieldObservationSurvey',\n",
       " 'OriginalDataSet:Observation:ObservationMethod:SamplingDesign': 'Yes',\n",
       " 'OriginalDataSet:Observation:ObservationMethod:InfoOnSamplingDesign': 'Locations selected on the basis of the predicted Level-1, 250m resolution cropland mask',\n",
       " 'OriginalDataSet:Observation:ObservationMethod:Validation': 'Yes',\n",
       " 'OriginalDataSet:Observation:ObservationMethod:InfoOnValidation': 'Limited info but there is a distinction between raw and tidy files. See ODK form Crop_scout.xlsx for info on spatial accuracy',\n",
       " 'OriginalDataSet:Observation::ClassificationAccuracy': '',\n",
       " 'OriginalDataSet:Observation::SupportingMaterial': '',\n",
       " 'OriginalDataSet:Observation:Geometry:TypeOfGeometry': 'FieldRegisteredSinglePoint',\n",
       " 'OriginalDataSet:Observation::GPSFieldMethod': 'SinglePoint',\n",
       " 'OriginalDataSet:Observation::CoordinateSystem': 'EPSG:4326',\n",
       " 'OriginalDataSet:DataFormat::': 'csv',\n",
       " 'OriginalDataSet:Language::': 'english',\n",
       " 'CuratedDataSet:ObservationCuratedDataset:Geometry:PointOrPolygonOrRaster': 'Point',\n",
       " 'CuratedDataSet:ObservationCuratedDataset::NoOfObservations': '192',\n",
       " 'CuratedDataSet::DescriptionCuratedDataSet:': 'A data set collected in the frame of the project Tanzania Soil Information Service (TanSIS) 2017',\n",
       " 'CuratedDataSet:ObservationCuratedDataset:Geometry:Accuracy': '10',\n",
       " 'CuratedDataSet:ObservationCuratedDataset::ListOfLandCovers': '11;10',\n",
       " 'CuratedDataSet:ObservationCuratedDataset::ListOfCropTypes': '1101060000;1000000000;1101120000;1101070000;1105010010;1101010000;1107000020;1105000000;1101080000',\n",
       " 'CuratedDataSet:ObservationCuratedDataset::ListOfIrrigationCodes': '0',\n",
       " 'CuratedDataSet:ObservationCuratedDataset:Geometry:Country': 'TZA',\n",
       " 'CuratedDataSet:ObservationCuratedDataset:Geometry:Continent': 'AF',\n",
       " 'CuratedDataSet:ObservationCuratedDataset:ObservationTime:': 'RealDate',\n",
       " 'CuratedDataSet:ObservationCuratedDataset:Geometry:BoundingBoxLL': '31.00750774;-9.621459148',\n",
       " 'CuratedDataSet:ObservationCuratedDataset:Geometry:BoundingBoxUR': '37.96971575;-3.229718633',\n",
       " 'CuratedDataSet:ObservationCuratedDataset:Summary:FirstDateObservation': '1/1/2017',\n",
       " 'CuratedDataSet:ObservationCuratedDataset::LastDateObservation': '3/8/2017',\n",
       " 'CuratedDataSet:CurationByWordCereal::': '2017_TZ_AFSIS_POINT_110.pdf',\n",
       " 'CuratedDataSet:ConfidenceCropType::': '71',\n",
       " 'CuratedDataSet:ConfidenceLandCover::': '71',\n",
       " 'CuratedDataSet:ConfidenceIrrigationRainfed::': '0',\n",
       " 'GeoParquetDownloadUrl': 'https://ewocstorage.blob.core.windows.net/public/2017_tza_osfafsis_point_110/2017_TZA_OSF-AFSIS_POINT_110.geoparquet',\n",
       " 'SampleDownloadUrl': 'https://ewocstorage.blob.core.windows.net/public/2017_tza_osfafsis_point_110/sample_2017_TZA_OSF-AFSIS_POINT_110.parquet',\n",
       " 'CuratedDataSet:Harmonization:Pdf': 'https://ewocstorage.blob.core.windows.net/public/2017_tza_osfafsis_point_110/2017_TZA_OSF-AFSIS_POINT_110.pdf',\n",
       " 'CuratedDataSet:Harmonization:Xl': 'https://ewocstorage.blob.core.windows.net/public/2017_tza_osfafsis_point_110/2017_TZA_OSF-AFSIS_POINT_110.xlsx',\n",
       " 'link': 'https://ewocstorage.blob.core.windows.net/public/2017_tza_osfafsis_point_110/Mapping_WorldCereal_CT_phase_I_20241216.csv',\n",
       " 'codeStats': '{\"LcStats\":[{\"Code\":11,\"Count\":108},{\"Code\":10,\"Count\":84}],\"EwocStats\":[{\"Code\":1101060000,\"Count\":91},{\"Code\":1000000000,\"Count\":84},{\"Code\":1101070000,\"Count\":5},{\"Code\":1105010010,\"Count\":3},{\"Code\":1107000020,\"Count\":3},{\"Code\":1101120000,\"Count\":2},{\"Code\":1101010000,\"Count\":2},{\"Code\":1101080000,\"Count\":1},{\"Code\":1105000000,\"Count\":1}],\"IrrStats\":[{\"Code\":0,\"Count\":192}]}'}"
      ]
     },
     "execution_count": 8,
     "metadata": {},
     "output_type": "execute_result"
    }
   ],
   "source": [
    "metadata_file = rdm.download_collection_metadata(col.id, dwnld_folder)\n",
    "\n",
    "metadata = rdm.get_collection_metadata(col.id)\n",
    "metadata"
   ]
  },
  {
   "cell_type": "markdown",
   "metadata": {},
   "source": [
    "Explore the contents of the metadata.<br>\n",
    "Note that in addition to a list of available crop types, the extended metadata version also includes crop statistics (i.e. the amount of samples per crop type):"
   ]
  },
  {
   "cell_type": "code",
   "execution_count": 9,
   "metadata": {},
   "outputs": [
    {
     "data": {
      "text/html": [
       "<div>\n",
       "<style scoped>\n",
       "    .dataframe tbody tr th:only-of-type {\n",
       "        vertical-align: middle;\n",
       "    }\n",
       "\n",
       "    .dataframe tbody tr th {\n",
       "        vertical-align: top;\n",
       "    }\n",
       "\n",
       "    .dataframe thead th {\n",
       "        text-align: right;\n",
       "    }\n",
       "</style>\n",
       "<table border=\"1\" class=\"dataframe\">\n",
       "  <thead>\n",
       "    <tr style=\"text-align: right;\">\n",
       "      <th></th>\n",
       "      <th>Count</th>\n",
       "      <th>Label</th>\n",
       "    </tr>\n",
       "    <tr>\n",
       "      <th>Code</th>\n",
       "      <th></th>\n",
       "      <th></th>\n",
       "    </tr>\n",
       "  </thead>\n",
       "  <tbody>\n",
       "    <tr>\n",
       "      <th>1101060000</th>\n",
       "      <td>91</td>\n",
       "      <td>maize</td>\n",
       "    </tr>\n",
       "    <tr>\n",
       "      <th>1000000000</th>\n",
       "      <td>84</td>\n",
       "      <td>cropland_unspecified</td>\n",
       "    </tr>\n",
       "    <tr>\n",
       "      <th>1101070000</th>\n",
       "      <td>5</td>\n",
       "      <td>unspecified_sorghum</td>\n",
       "    </tr>\n",
       "    <tr>\n",
       "      <th>1105010010</th>\n",
       "      <td>3</td>\n",
       "      <td>beans</td>\n",
       "    </tr>\n",
       "    <tr>\n",
       "      <th>1107000020</th>\n",
       "      <td>3</td>\n",
       "      <td>sweet_potatoes</td>\n",
       "    </tr>\n",
       "    <tr>\n",
       "      <th>1101120000</th>\n",
       "      <td>2</td>\n",
       "      <td>unspecified_millet</td>\n",
       "    </tr>\n",
       "    <tr>\n",
       "      <th>1101010000</th>\n",
       "      <td>2</td>\n",
       "      <td>unspecified_wheat</td>\n",
       "    </tr>\n",
       "    <tr>\n",
       "      <th>1101080000</th>\n",
       "      <td>1</td>\n",
       "      <td>rice</td>\n",
       "    </tr>\n",
       "    <tr>\n",
       "      <th>1105000000</th>\n",
       "      <td>1</td>\n",
       "      <td>dry_pulses_legumes</td>\n",
       "    </tr>\n",
       "  </tbody>\n",
       "</table>\n",
       "</div>"
      ],
      "text/plain": [
       "            Count                 Label\n",
       "Code                                   \n",
       "1101060000     91                 maize\n",
       "1000000000     84  cropland_unspecified\n",
       "1101070000      5   unspecified_sorghum\n",
       "1105010010      3                 beans\n",
       "1107000020      3        sweet_potatoes\n",
       "1101120000      2    unspecified_millet\n",
       "1101010000      2     unspecified_wheat\n",
       "1101080000      1                  rice\n",
       "1105000000      1    dry_pulses_legumes"
      ]
     },
     "execution_count": 9,
     "metadata": {},
     "output_type": "execute_result"
    }
   ],
   "source": [
    "crop_counts = rdm.get_collection_stats(col.id)\n",
    "crop_counts"
   ]
  },
  {
   "cell_type": "markdown",
   "metadata": {},
   "source": [
    "#### 2.3 Harmonization information\n",
    "\n",
    "Next to the metadata, each PUBLIC dataset is also accompanied by a harmonization document (PDF), including information about all steps that have been undertaken during data curation and harmonization by the WorldCereal moderator, including the translation of original land cover/crop type information to the WorldCereal legend and computation of the dataset confidence score.<br>\n",
    "Below, we show how to get this document for an individual dataset:"
   ]
  },
  {
   "cell_type": "code",
   "execution_count": null,
   "metadata": {},
   "outputs": [
    {
     "name": "stderr",
     "output_type": "stream",
     "text": [
      "\u001b[32m2025-01-27 17:24:54.280\u001b[0m | \u001b[1mINFO    \u001b[0m | \u001b[36mworldcereal.rdm_api.rdm_interaction\u001b[0m:\u001b[36mdownload_collection_harmonization_info\u001b[0m:\u001b[36m661\u001b[0m - \u001b[1mHarmonization PDF for collection 2017_tza_osfafsis_point_110 downloaded to download/2017_TZA_OSF-AFSIS_POINT_110.pdf\u001b[0m\n"
     ]
    }
   ],
   "source": [
    "# Note: this only works for public datasets!\n",
    "harmonization_file = rdm.download_collection_harmonization_info(col.id, dwnld_folder)"
   ]
  },
  {
   "cell_type": "markdown",
   "metadata": {},
   "source": [
    "### 3. Filter collections\n",
    "\n",
    "Now that you have a basic understanding of how reference data is organized in collections and how to access information about and data within individual collections, let's now focus on how to find relevant reference data for your use case.\n",
    "\n",
    "We have implemented various filtering methods allowing you to identify collections that contain the data you are looking for.\n",
    "\n",
    "At the moment you can filter based on:\n",
    "- crop type\n",
    "- spatial extent\n",
    "- temporal extent\n",
    "- access type (public vs private)\n",
    "\n",
    "In the sections below we demonstrate each of these cases."
   ]
  },
  {
   "cell_type": "markdown",
   "metadata": {},
   "source": [
    "#### 3.1 Filter based on crop types\n",
    "\n",
    "To filter collections on crop type, you need to provide a list of numerical crop type codes.<br>\n",
    "All collections containing at least one of the mentioned crop types will be returned.<br>\n",
    "\n",
    "You can either manually enter a list of crop types, or use the application below to select crop types of interest:"
   ]
  },
  {
   "cell_type": "code",
   "execution_count": 2,
   "metadata": {},
   "outputs": [
    {
     "data": {
      "application/vnd.jupyter.widget-view+json": {
       "model_id": "d87de5ed8120468bab7c9977d699f1d7",
       "version_major": 2,
       "version_minor": 0
      },
      "text/plain": [
       "VBox(children=(HTML(value='<h2>Select your crop types of interest:</h2>'), VBox(children=(Checkbox(value=False…"
      ]
     },
     "execution_count": 2,
     "metadata": {},
     "output_type": "execute_result"
    }
   ],
   "source": [
    "from notebook_utils.croptypepicker import CropTypePicker, DEMO_CROPS\n",
    "\n",
    "croptypepicker = CropTypePicker()\n",
    "croptypepicker.display()"
   ]
  },
  {
   "cell_type": "markdown",
   "metadata": {},
   "source": [
    "The croptypepicker application returns a dataframe containing the ewoc_codes you selected. In case you chose to aggregate multiple classes into a single class, this information is shown in the \"*new_label*\" column. "
   ]
  },
  {
   "cell_type": "code",
   "execution_count": 21,
   "metadata": {},
   "outputs": [
    {
     "data": {
      "text/html": [
       "<div>\n",
       "<style scoped>\n",
       "    .dataframe tbody tr th:only-of-type {\n",
       "        vertical-align: middle;\n",
       "    }\n",
       "\n",
       "    .dataframe tbody tr th {\n",
       "        vertical-align: top;\n",
       "    }\n",
       "\n",
       "    .dataframe thead th {\n",
       "        text-align: right;\n",
       "    }\n",
       "</style>\n",
       "<table border=\"1\" class=\"dataframe\">\n",
       "  <thead>\n",
       "    <tr style=\"text-align: right;\">\n",
       "      <th></th>\n",
       "      <th>new_label</th>\n",
       "      <th>original_label</th>\n",
       "    </tr>\n",
       "  </thead>\n",
       "  <tbody>\n",
       "    <tr>\n",
       "      <th>1107000000</th>\n",
       "      <td>root_tuber_crops</td>\n",
       "      <td>root_tuber_crops</td>\n",
       "    </tr>\n",
       "    <tr>\n",
       "      <th>1107000010</th>\n",
       "      <td>root_tuber_crops</td>\n",
       "      <td>potatoes</td>\n",
       "    </tr>\n",
       "    <tr>\n",
       "      <th>1107000040</th>\n",
       "      <td>root_tuber_crops</td>\n",
       "      <td>cassava</td>\n",
       "    </tr>\n",
       "    <tr>\n",
       "      <th>1105000030</th>\n",
       "      <td>lentils</td>\n",
       "      <td>lentils</td>\n",
       "    </tr>\n",
       "  </tbody>\n",
       "</table>\n",
       "</div>"
      ],
      "text/plain": [
       "                   new_label    original_label\n",
       "1107000000  root_tuber_crops  root_tuber_crops\n",
       "1107000010  root_tuber_crops          potatoes\n",
       "1107000040  root_tuber_crops           cassava\n",
       "1105000030           lentils           lentils"
      ]
     },
     "execution_count": 21,
     "metadata": {},
     "output_type": "execute_result"
    }
   ],
   "source": [
    "croptypes = croptypepicker.croptypes\n",
    "croptypes"
   ]
  },
  {
   "cell_type": "code",
   "execution_count": 22,
   "metadata": {},
   "outputs": [
    {
     "name": "stdout",
     "output_type": "stream",
     "text": [
      "Number of collections found: 59\n"
     ]
    },
    {
     "data": {
      "text/plain": [
       "['2019_can_aafccropinventory_point_110',\n",
       " '2021_swe_eurocrops_poly_110',\n",
       " '2021_svk_eurocrops_poly_110',\n",
       " '2021_est_eurocrops_poly_110',\n",
       " '2018_nld_lpis_poly_110',\n",
       " '2021_lva_lpis_poly_110',\n",
       " '2020_fin_lpis_poly_110',\n",
       " '2020_nld_lpis_poly_110',\n",
       " '2019_aut_lpis_poly_110',\n",
       " '2018_fra_lpis_poly_110',\n",
       " '2020_aut_lpis_poly_110',\n",
       " '2019_fra_lpis_poly_110',\n",
       " '2020_bel_lpisflanders_poly_110',\n",
       " '2017_aut_lpis_poly_110',\n",
       " '2020_can_aafccropinventory_point_110',\n",
       " '2018_aut_lpis_poly_110',\n",
       " '2017_lbn_faowapor1_poly_111',\n",
       " '2017_lbn_faowapor2_poly_111',\n",
       " '2017_mdg_jecamcirad_poly_111',\n",
       " '2018_can_aafccropinventory_point_110',\n",
       " '2018_eth_faowapor1_poly_111',\n",
       " '2018_eu_lucas_point_110',\n",
       " '2018_mdg_jecamcirad_poly_111',\n",
       " '2018_tza_osfafsis_point_110',\n",
       " '2019_egy_faowapor2_poly_111',\n",
       " '2019_ken_radiantearth01_poly_111',\n",
       " '2019_mdg_jecamcirad_poly_111',\n",
       " '2019_tza_osfafsis_point_110',\n",
       " '2019_usausda2019cdls_point_110',\n",
       " '2020_rwa_faowapor1_point_111',\n",
       " '2020_rwa_faowapor2_point_111',\n",
       " '2020_rwa_faowaporakagera_point_111',\n",
       " '2021_rwa_faowaporyan_poly_111',\n",
       " '2021_tza_copernicusgeoglam_point_110',\n",
       " '2021_uga_copernicusgeoglamlr_point_111',\n",
       " '2021_uga_copernicusgeoglamsr_point_111',\n",
       " '2023_idn_vitocampaign_poly_110',\n",
       " '2019_bel_lpisflanders_poly_110',\n",
       " '2019_af_oneacrefundmel_point_110',\n",
       " '2021_lka_faowapor2_poly_111',\n",
       " '2021_deu_eurocropsnrw_poly_110',\n",
       " '2021_fin_lpis_poly_110',\n",
       " '2019_dnk_eurocrops_poly_110',\n",
       " '2019_nld_lpis_poly_110',\n",
       " '2021_nld_lpis_poly_110',\n",
       " '2019_esp_sigpaccatalunya_poly_111',\n",
       " '2019_lva_lpis_poly_110',\n",
       " '2017_bra_jecamcirad_poly_111',\n",
       " '2017_can_aafccropinventory_point_110',\n",
       " '2017_fra_lpis_poly_110',\n",
       " '2021_bel_lpisflanders_poly_110',\n",
       " '2021_can_aafccropinventory_point_110',\n",
       " '2021_ken_copernicusgeoglamlr_point_111',\n",
       " '2021_ken_copernicusgeoglamsr_point_111',\n",
       " '2021_lka_faowapor1_poly_111',\n",
       " '2021_rwa_faowaporakagera_poly_111',\n",
       " '2021_rwa_faowapormuvu_poly_111',\n",
       " '2020_fra_lpis_poly_110',\n",
       " '2021_aut_lpis_poly_110']"
      ]
     },
     "execution_count": 22,
     "metadata": {},
     "output_type": "execute_result"
    }
   ],
   "source": [
    "# Get a list of public collections containing these crop types\n",
    "ewoc_codes = list(croptypes.index.values)\n",
    "\n",
    "collections = rdm.get_collections(ewoc_codes=ewoc_codes)\n",
    "ids = [col.id for col in collections]\n",
    "print(f'Number of collections found: {len(ids)}')\n",
    "ids"
   ]
  },
  {
   "cell_type": "markdown",
   "metadata": {},
   "source": [
    "#### 3.2 Filter based on location\n",
    "\n",
    "To retrieve a list of collections intersecting a certain area of interest, you need to provide a spatial bounding box to the `get_collections` function.<br>\n",
    "Either enter a bounding box manually, or use the below application to draw a bounding box:"
   ]
  },
  {
   "cell_type": "code",
   "execution_count": null,
   "metadata": {},
   "outputs": [
    {
     "data": {
      "application/vnd.jupyter.widget-view+json": {
       "model_id": "c03b349c2ea04c32ac3ed29eaad67f4f",
       "version_major": 2,
       "version_minor": 0
      },
      "text/plain": [
       "VBox(children=(Map(center=[51.1872, 5.1154], controls=(ZoomControl(options=['position', 'zoom_in_text', 'zoom_…"
      ]
     },
     "metadata": {},
     "output_type": "display_data"
    }
   ],
   "source": [
    "from worldcereal.utils.map import ui_map\n",
    "\n",
    "map = ui_map()"
   ]
  },
  {
   "cell_type": "code",
   "execution_count": 24,
   "metadata": {},
   "outputs": [
    {
     "name": "stderr",
     "output_type": "stream",
     "text": [
      "\u001b[32m2025-01-27 17:26:56.387\u001b[0m | \u001b[1mINFO    \u001b[0m | \u001b[36mworldcereal.utils.map\u001b[0m:\u001b[36mget_processing_extent\u001b[0m:\u001b[36m170\u001b[0m - \u001b[1mYour processing extent: (-100.005946, 49.060932, -97.104723, 49.633507)\u001b[0m\n"
     ]
    },
    {
     "name": "stdout",
     "output_type": "stream",
     "text": [
      "Number of collections found: 6\n"
     ]
    },
    {
     "data": {
      "text/plain": [
       "['2019_can_aafccropinventory_point_110',\n",
       " '2020_can_aafccropinventory_point_110',\n",
       " '2018_can_aafccropinventory_point_110',\n",
       " '2019_usausda2019cdls_point_110',\n",
       " '2017_can_aafccropinventory_point_110',\n",
       " '2021_can_aafccropinventory_point_110']"
      ]
     },
     "execution_count": 24,
     "metadata": {},
     "output_type": "execute_result"
    }
   ],
   "source": [
    "bbox = map.get_extent(projection=\"latlon\")\n",
    "\n",
    "collections = rdm.get_collections(bbox=bbox)\n",
    "\n",
    "ids = [col.id for col in collections]\n",
    "print(f'Number of collections found: {len(ids)}')\n",
    "ids"
   ]
  },
  {
   "cell_type": "markdown",
   "metadata": {},
   "source": [
    "To manually define a bounding box, enter the desired coordinates below (lat/lon):"
   ]
  },
  {
   "cell_type": "code",
   "execution_count": 25,
   "metadata": {},
   "outputs": [],
   "source": [
    "from openeo_gfmap import BoundingBoxExtent\n",
    "\n",
    "north = 34.79638823\n",
    "east = -0.34539808\n",
    "south = 34.45619011\n",
    "west = -0.91010781\n",
    "\n",
    "bbox = BoundingBoxExtent(north=north, east=east, south=south, west=west)"
   ]
  },
  {
   "cell_type": "markdown",
   "metadata": {},
   "source": [
    "#### 3.3 Filter based on temporal extent\n",
    "\n",
    "Simply define a start and end date for your period of interest:"
   ]
  },
  {
   "cell_type": "code",
   "execution_count": 26,
   "metadata": {},
   "outputs": [
    {
     "name": "stdout",
     "output_type": "stream",
     "text": [
      "Number of collections found: 21\n"
     ]
    },
    {
     "data": {
      "text/plain": [
       "['2020_svn_lpis_poly_110',\n",
       " '2020_esp_eurocropsnavarre_poly_110',\n",
       " '2020_fin_lpis_poly_110',\n",
       " '2020_nld_lpis_poly_110',\n",
       " '2020_aut_lpis_poly_110',\n",
       " '2020_bel_lpisflanders_poly_110',\n",
       " '2020_bra_inpelemaug_poly_110',\n",
       " '2020_bra_inpelemfeb_poly_110',\n",
       " '2020_bra_inpelemmar_poly_110',\n",
       " '2020_can_aafccropinventory_point_110',\n",
       " '2020_eth_nhicropharvest_poly_100',\n",
       " '2020_glo_nhicropharvest_point_100',\n",
       " '2020_rwa_faowapor1_point_111',\n",
       " '2020_rwa_faowapor2_point_111',\n",
       " '2020_rwa_faowaporakagera_point_111',\n",
       " '2020_sdn_faowapor1_poly_110',\n",
       " '2020_sdn_faowapor2_poly_111',\n",
       " '2020_zwe_nhicropharvest_point_110',\n",
       " '2021_rwa_faowaporyan_poly_111',\n",
       " '2021_rwa_faowapormuvu_poly_111',\n",
       " '2020_fra_lpis_poly_110']"
      ]
     },
     "execution_count": 26,
     "metadata": {},
     "output_type": "execute_result"
    }
   ],
   "source": [
    "from openeo_gfmap import TemporalContext\n",
    "\n",
    "# We use the year 2020 as an example:\n",
    "start_date = \"2020-01-01\"\n",
    "end_date = \"2020-12-31\"\n",
    "\n",
    "temporal_extent = TemporalContext(start_date=start_date, end_date=end_date)\n",
    "\n",
    "# Access public collections for the specific temporal range\n",
    "collections = rdm.get_collections(temporal_extent=temporal_extent)\n",
    "ids = [col.id for col in collections]\n",
    "print(f'Number of collections found: {len(ids)}')\n",
    "ids\n",
    "\n"
   ]
  },
  {
   "cell_type": "markdown",
   "metadata": {},
   "source": [
    "#### 3.4 Filter based on data privacy\n",
    "\n",
    "To change the default behaviour of `get_collections` and get (only) private collections, you can set the `include_public` and `include_private` parameters, as demonstrated below.\n",
    "\n",
    "NOTE that requesting private collections will trigger a login prompt if you are not already logged in.<br>\n",
    "Simply click the designated link to login to your Terrascope account.\n",
    "\n",
    "Reminder: Uploading your own collections to the RDM can be accomplished by hitting the \"Contribute\" button on [this page](https://rdm.esa-worldcereal.org/), where you will be guided through the upload procedure."
   ]
  },
  {
   "cell_type": "code",
   "execution_count": 4,
   "metadata": {},
   "outputs": [
    {
     "name": "stderr",
     "output_type": "stream",
     "text": [
      "\u001b[32m2025-01-27 14:05:41.596\u001b[0m | \u001b[1mINFO    \u001b[0m | \u001b[36mworldcereal.rdm_api.rdm_interaction\u001b[0m:\u001b[36mget_collections\u001b[0m:\u001b[36m146\u001b[0m - \u001b[1mTo access private collections, you need to authenticate.\u001b[0m\n"
     ]
    },
    {
     "data": {
      "text/html": [
       "Visit <a href=\"https://sso.terrascope.be/auth/realms/terrascope/device?user_code=KSMV-SFLQ\" title=\"Authenticate at https://sso.terrascope.be/auth/realms/terrascope/device?user_code=KSMV-SFLQ\" target=\"_blank\" rel=\"noopener noreferrer\">https://sso.terrascope.be/auth/realms/terrascope/device?user_code=KSMV-SFLQ</a> <a href=\"#\" onclick=\"navigator.clipboard.writeText('https://sso.terrascope.be/auth/realms/terrascope/device?user_code=KSMV-SFLQ');return false;\" title=\"Copy authentication URL to clipboard\">&#128203;</a> to authenticate."
      ]
     },
     "metadata": {},
     "output_type": "display_data"
    },
    {
     "data": {
      "text/html": [
       "✅ Authorized successfully"
      ]
     },
     "metadata": {},
     "output_type": "display_data"
    },
    {
     "name": "stderr",
     "output_type": "stream",
     "text": [
      "\u001b[32m2025-01-27 14:05:54.213\u001b[0m | \u001b[1mINFO    \u001b[0m | \u001b[36mworldcereal.rdm_api.rdm_interaction\u001b[0m:\u001b[36mget_collections\u001b[0m:\u001b[36m194\u001b[0m - \u001b[1mNo collections found in the RDM for your search criteria.\u001b[0m\n"
     ]
    },
    {
     "name": "stdout",
     "output_type": "stream",
     "text": [
      "Number of private collections found: 0\n"
     ]
    },
    {
     "data": {
      "text/plain": [
       "[]"
      ]
     },
     "execution_count": 4,
     "metadata": {},
     "output_type": "execute_result"
    }
   ],
   "source": [
    "private_collections = rdm.get_collections(include_public=False, include_private=True)\n",
    "private_ids = [col.id for col in private_collections]\n",
    "print(f'Number of private collections found: {len(private_ids)}')\n",
    "private_ids"
   ]
  },
  {
   "cell_type": "markdown",
   "metadata": {},
   "source": [
    "#### 3.5 Your turn!\n",
    "\n",
    "Use a combination of the filters as presented above to look for collections in Kenya containing samples for maize.\n",
    "Additionally filter on the year 2021.\n",
    "\n",
    "How many public maize samples can be found for this country in the RDM?"
   ]
  },
  {
   "cell_type": "markdown",
   "metadata": {},
   "source": [
    "### 4. Get crop counts across datasets\n",
    "\n",
    "So far we have gone through the process of first identifying your collections of interest, and then checking the amount of samples for these datasets one by one by downloading each dataset's metadata.<br>\n",
    "\n",
    "This way of working is quite cumbersome in case you would like to get crop counts over a large area of interest, as potentially many different collections are involved.<br>\n",
    "Below, we demonstrate how you can request crop statistics for one or multiple crop types over one or multiple collections in one go."
   ]
  },
  {
   "cell_type": "code",
   "execution_count": 3,
   "metadata": {},
   "outputs": [
    {
     "data": {
      "text/html": [
       "<div>\n",
       "<style scoped>\n",
       "    .dataframe tbody tr th:only-of-type {\n",
       "        vertical-align: middle;\n",
       "    }\n",
       "\n",
       "    .dataframe tbody tr th {\n",
       "        vertical-align: top;\n",
       "    }\n",
       "\n",
       "    .dataframe thead th {\n",
       "        text-align: right;\n",
       "    }\n",
       "</style>\n",
       "<table border=\"1\" class=\"dataframe\">\n",
       "  <thead>\n",
       "    <tr style=\"text-align: right;\">\n",
       "      <th></th>\n",
       "      <th>ref_id</th>\n",
       "      <th>2018_can_aafccropinventory_point_110</th>\n",
       "      <th>2021_can_aafccropinventory_point_110</th>\n",
       "    </tr>\n",
       "    <tr>\n",
       "      <th>ewoc_code</th>\n",
       "      <th>Label</th>\n",
       "      <th></th>\n",
       "      <th></th>\n",
       "    </tr>\n",
       "  </thead>\n",
       "  <tbody>\n",
       "    <tr>\n",
       "      <th>1101010002</th>\n",
       "      <th>unspecified_spring_wheat</th>\n",
       "      <td>799</td>\n",
       "      <td>345</td>\n",
       "    </tr>\n",
       "    <tr>\n",
       "      <th>1106000020</th>\n",
       "      <th>soy_soybeans</th>\n",
       "      <td>15180</td>\n",
       "      <td>6180</td>\n",
       "    </tr>\n",
       "  </tbody>\n",
       "</table>\n",
       "</div>"
      ],
      "text/plain": [
       "ref_id                               2018_can_aafccropinventory_point_110  \\\n",
       "ewoc_code  Label                                                            \n",
       "1101010002 unspecified_spring_wheat                                   799   \n",
       "1106000020 soy_soybeans                                             15180   \n",
       "\n",
       "ref_id                               2021_can_aafccropinventory_point_110  \n",
       "ewoc_code  Label                                                           \n",
       "1101010002 unspecified_spring_wheat                                   345  \n",
       "1106000020 soy_soybeans                                              6180  "
      ]
     },
     "execution_count": 3,
     "metadata": {},
     "output_type": "execute_result"
    }
   ],
   "source": [
    "# Get total count of soybean and spring wheat samples across two collections in Canada:\n",
    "collection_ids = ['2021_can_aafccropinventory_point_110', '2018_can_aafccropinventory_point_110']\n",
    "crop_codes = [1106000020, 1101010002] # soybean + spring wheat\n",
    "\n",
    "counts = rdm.get_crop_counts(ref_ids=collection_ids, ewoc_codes=crop_codes)\n",
    "counts"
   ]
  },
  {
   "cell_type": "markdown",
   "metadata": {},
   "source": [
    "Note that in case you do not specify a list of crop types, the statistics for all crop types present in the collections of interest are returned."
   ]
  },
  {
   "cell_type": "code",
   "execution_count": 2,
   "metadata": {},
   "outputs": [
    {
     "data": {
      "text/html": [
       "<div>\n",
       "<style scoped>\n",
       "    .dataframe tbody tr th:only-of-type {\n",
       "        vertical-align: middle;\n",
       "    }\n",
       "\n",
       "    .dataframe tbody tr th {\n",
       "        vertical-align: top;\n",
       "    }\n",
       "\n",
       "    .dataframe thead th {\n",
       "        text-align: right;\n",
       "    }\n",
       "</style>\n",
       "<table border=\"1\" class=\"dataframe\">\n",
       "  <thead>\n",
       "    <tr style=\"text-align: right;\">\n",
       "      <th></th>\n",
       "      <th>ref_id</th>\n",
       "      <th>2018_sen_jecamcirad_poly_111</th>\n",
       "      <th>2019_mli_nhicropharvest_poly_110</th>\n",
       "    </tr>\n",
       "    <tr>\n",
       "      <th>ewoc_code</th>\n",
       "      <th>Label</th>\n",
       "      <th></th>\n",
       "      <th></th>\n",
       "    </tr>\n",
       "  </thead>\n",
       "  <tbody>\n",
       "    <tr>\n",
       "      <th>1000000000</th>\n",
       "      <th>cropland_unspecified</th>\n",
       "      <td>261</td>\n",
       "      <td>0</td>\n",
       "    </tr>\n",
       "    <tr>\n",
       "      <th>1101060000</th>\n",
       "      <th>maize</th>\n",
       "      <td>20</td>\n",
       "      <td>20</td>\n",
       "    </tr>\n",
       "    <tr>\n",
       "      <th>1101070000</th>\n",
       "      <th>unspecified_sorghum</th>\n",
       "      <td>28</td>\n",
       "      <td>25</td>\n",
       "    </tr>\n",
       "    <tr>\n",
       "      <th>1101080000</th>\n",
       "      <th>rice</th>\n",
       "      <td>0</td>\n",
       "      <td>7</td>\n",
       "    </tr>\n",
       "    <tr>\n",
       "      <th>1101120000</th>\n",
       "      <th>unspecified_millet</th>\n",
       "      <td>285</td>\n",
       "      <td>22</td>\n",
       "    </tr>\n",
       "    <tr>\n",
       "      <th>1103020050</th>\n",
       "      <th>watermelon</th>\n",
       "      <td>2</td>\n",
       "      <td>0</td>\n",
       "    </tr>\n",
       "    <tr>\n",
       "      <th>1105010050</th>\n",
       "      <th>cow_peas</th>\n",
       "      <td>21</td>\n",
       "      <td>0</td>\n",
       "    </tr>\n",
       "    <tr>\n",
       "      <th>1106000050</th>\n",
       "      <th>groundnuts</th>\n",
       "      <td>143</td>\n",
       "      <td>0</td>\n",
       "    </tr>\n",
       "    <tr>\n",
       "      <th>1106000100</th>\n",
       "      <th>sesame</th>\n",
       "      <td>1</td>\n",
       "      <td>0</td>\n",
       "    </tr>\n",
       "    <tr>\n",
       "      <th>2000000000</th>\n",
       "      <th>non_cropland_herbaceous</th>\n",
       "      <td>22</td>\n",
       "      <td>0</td>\n",
       "    </tr>\n",
       "    <tr>\n",
       "      <th>2001000000</th>\n",
       "      <th>grasslands</th>\n",
       "      <td>5</td>\n",
       "      <td>0</td>\n",
       "    </tr>\n",
       "    <tr>\n",
       "      <th>3000000000</th>\n",
       "      <th>shrubland</th>\n",
       "      <td>50</td>\n",
       "      <td>0</td>\n",
       "    </tr>\n",
       "    <tr>\n",
       "      <th>5000000000</th>\n",
       "      <th>bare_sparsely_vegetated</th>\n",
       "      <td>50</td>\n",
       "      <td>0</td>\n",
       "    </tr>\n",
       "    <tr>\n",
       "      <th>6000000000</th>\n",
       "      <th>built_up</th>\n",
       "      <td>246</td>\n",
       "      <td>0</td>\n",
       "    </tr>\n",
       "    <tr>\n",
       "      <th>7000000000</th>\n",
       "      <th>open_water</th>\n",
       "      <td>57</td>\n",
       "      <td>0</td>\n",
       "    </tr>\n",
       "  </tbody>\n",
       "</table>\n",
       "</div>"
      ],
      "text/plain": [
       "ref_id                              2018_sen_jecamcirad_poly_111  \\\n",
       "ewoc_code  Label                                                   \n",
       "1000000000 cropland_unspecified                              261   \n",
       "1101060000 maize                                              20   \n",
       "1101070000 unspecified_sorghum                                28   \n",
       "1101080000 rice                                                0   \n",
       "1101120000 unspecified_millet                                285   \n",
       "1103020050 watermelon                                          2   \n",
       "1105010050 cow_peas                                           21   \n",
       "1106000050 groundnuts                                        143   \n",
       "1106000100 sesame                                              1   \n",
       "2000000000 non_cropland_herbaceous                            22   \n",
       "2001000000 grasslands                                          5   \n",
       "3000000000 shrubland                                          50   \n",
       "5000000000 bare_sparsely_vegetated                            50   \n",
       "6000000000 built_up                                          246   \n",
       "7000000000 open_water                                         57   \n",
       "\n",
       "ref_id                              2019_mli_nhicropharvest_poly_110  \n",
       "ewoc_code  Label                                                      \n",
       "1000000000 cropland_unspecified                                    0  \n",
       "1101060000 maize                                                  20  \n",
       "1101070000 unspecified_sorghum                                    25  \n",
       "1101080000 rice                                                    7  \n",
       "1101120000 unspecified_millet                                     22  \n",
       "1103020050 watermelon                                              0  \n",
       "1105010050 cow_peas                                                0  \n",
       "1106000050 groundnuts                                              0  \n",
       "1106000100 sesame                                                  0  \n",
       "2000000000 non_cropland_herbaceous                                 0  \n",
       "2001000000 grasslands                                              0  \n",
       "3000000000 shrubland                                               0  \n",
       "5000000000 bare_sparsely_vegetated                                 0  \n",
       "6000000000 built_up                                                0  \n",
       "7000000000 open_water                                              0  "
      ]
     },
     "execution_count": 2,
     "metadata": {},
     "output_type": "execute_result"
    }
   ],
   "source": [
    "ref_ids = ['2018_sen_jecamcirad_poly_111', '2019_mli_nhicropharvest_poly_110']\n",
    "\n",
    "counts = rdm.get_crop_counts(ref_ids)\n",
    "counts"
   ]
  },
  {
   "cell_type": "markdown",
   "metadata": {},
   "source": [
    "### 5. Get individual samples across multiple collections\n",
    "\n",
    "Of course we kept the best for last: we implemented a function that allows you to download individual samples across collections, matching your custom search criteria.\n",
    "\n",
    "There are different ways to filter the samples you wish to download. You can freely combine these different filters in a single request. You will recognize most of these filters from the `get_collections` functionality:\n",
    "\n",
    "- `ref_ids`: a list of collection id's\n",
    "- `ewoc_codes`: a list of crop types\n",
    "- `bbox`: a spatial bounding box\n",
    "- `temporal_extent`: a temporal range as defined by a start and end date\n",
    "- `include_public`: whether or not to include public collections\n",
    "- `include_private`: whether or not to include private collections\n",
    "- `subset`: if True, the function will only download a subsample of the samples for which the \"extract\" attribute is 1 or higher. If False (default), all samples matching your search criteria will be downloaded.\n",
    "- `min_quality_lc`: only download samples for which the land cover quality score is higher than this number\n",
    "- `min_quality_ct`: only download samples for which the crop type quality score is higher than this number\n",
    "\n",
    "Below we provide one example of this functionality, but feel free to play around and request samples for your specific area/period/crop types of interest!\n",
    "\n",
    "For instance, you can make use of the `ui_map` function to draw your own bounding box..."
   ]
  },
  {
   "cell_type": "code",
   "execution_count": 6,
   "metadata": {},
   "outputs": [
    {
     "name": "stderr",
     "output_type": "stream",
     "text": [
      "\u001b[32m2025-01-28 12:18:34.399\u001b[0m | \u001b[1mINFO    \u001b[0m | \u001b[36mworldcereal.rdm_api.rdm_interaction\u001b[0m:\u001b[36mdownload_samples\u001b[0m:\u001b[36m476\u001b[0m - \u001b[1mQuerying 2 collections...\u001b[0m\n"
     ]
    },
    {
     "name": "stdout",
     "output_type": "stream",
     "text": [
      "Total number of samples downloaded: 517\n"
     ]
    },
    {
     "data": {
      "text/html": [
       "<div>\n",
       "<style scoped>\n",
       "    .dataframe tbody tr th:only-of-type {\n",
       "        vertical-align: middle;\n",
       "    }\n",
       "\n",
       "    .dataframe tbody tr th {\n",
       "        vertical-align: top;\n",
       "    }\n",
       "\n",
       "    .dataframe thead th {\n",
       "        text-align: right;\n",
       "    }\n",
       "</style>\n",
       "<table border=\"1\" class=\"dataframe\">\n",
       "  <thead>\n",
       "    <tr style=\"text-align: right;\">\n",
       "      <th></th>\n",
       "      <th>sample_id</th>\n",
       "      <th>ewoc_code</th>\n",
       "      <th>valid_time</th>\n",
       "      <th>quality_score_lc</th>\n",
       "      <th>quality_score_ct</th>\n",
       "      <th>extract</th>\n",
       "      <th>h3_l3_cell</th>\n",
       "      <th>ref_id</th>\n",
       "      <th>geometry</th>\n",
       "    </tr>\n",
       "  </thead>\n",
       "  <tbody>\n",
       "    <tr>\n",
       "      <th>0</th>\n",
       "      <td>2023_IDN_vito-campaign_POLY_110_0</td>\n",
       "      <td>1201020040</td>\n",
       "      <td>2023-09-27</td>\n",
       "      <td>96</td>\n",
       "      <td>96</td>\n",
       "      <td>2</td>\n",
       "      <td>838c16fffffffff</td>\n",
       "      <td>2023_idn_vitocampaign_poly_110</td>\n",
       "      <td>POLYGON ((108.15588 -6.82013, 108.15623 -6.820...</td>\n",
       "    </tr>\n",
       "    <tr>\n",
       "      <th>1</th>\n",
       "      <td>2023_IDN_vito-campaign_POLY_110_1</td>\n",
       "      <td>1201020040</td>\n",
       "      <td>2023-09-27</td>\n",
       "      <td>96</td>\n",
       "      <td>96</td>\n",
       "      <td>2</td>\n",
       "      <td>838c16fffffffff</td>\n",
       "      <td>2023_idn_vitocampaign_poly_110</td>\n",
       "      <td>POLYGON ((108.15645 -6.81920, 108.15651 -6.820...</td>\n",
       "    </tr>\n",
       "    <tr>\n",
       "      <th>2</th>\n",
       "      <td>2023_IDN_vito-campaign_POLY_110_2</td>\n",
       "      <td>1201020040</td>\n",
       "      <td>2023-09-27</td>\n",
       "      <td>96</td>\n",
       "      <td>96</td>\n",
       "      <td>2</td>\n",
       "      <td>838c16fffffffff</td>\n",
       "      <td>2023_idn_vitocampaign_poly_110</td>\n",
       "      <td>POLYGON ((108.15450 -6.82075, 108.15443 -6.821...</td>\n",
       "    </tr>\n",
       "    <tr>\n",
       "      <th>3</th>\n",
       "      <td>2023_IDN_vito-campaign_POLY_110_3</td>\n",
       "      <td>1201020040</td>\n",
       "      <td>2023-09-27</td>\n",
       "      <td>96</td>\n",
       "      <td>96</td>\n",
       "      <td>2</td>\n",
       "      <td>838c16fffffffff</td>\n",
       "      <td>2023_idn_vitocampaign_poly_110</td>\n",
       "      <td>POLYGON ((108.15660 -6.82173, 108.15676 -6.822...</td>\n",
       "    </tr>\n",
       "    <tr>\n",
       "      <th>4</th>\n",
       "      <td>2023_IDN_vito-campaign_POLY_110_4</td>\n",
       "      <td>1201020040</td>\n",
       "      <td>2023-09-27</td>\n",
       "      <td>96</td>\n",
       "      <td>96</td>\n",
       "      <td>2</td>\n",
       "      <td>838c16fffffffff</td>\n",
       "      <td>2023_idn_vitocampaign_poly_110</td>\n",
       "      <td>POLYGON ((108.15668 -6.82271, 108.15653 -6.823...</td>\n",
       "    </tr>\n",
       "  </tbody>\n",
       "</table>\n",
       "</div>"
      ],
      "text/plain": [
       "                           sample_id   ewoc_code valid_time  quality_score_lc  \\\n",
       "0  2023_IDN_vito-campaign_POLY_110_0  1201020040 2023-09-27                96   \n",
       "1  2023_IDN_vito-campaign_POLY_110_1  1201020040 2023-09-27                96   \n",
       "2  2023_IDN_vito-campaign_POLY_110_2  1201020040 2023-09-27                96   \n",
       "3  2023_IDN_vito-campaign_POLY_110_3  1201020040 2023-09-27                96   \n",
       "4  2023_IDN_vito-campaign_POLY_110_4  1201020040 2023-09-27                96   \n",
       "\n",
       "   quality_score_ct  extract       h3_l3_cell                          ref_id  \\\n",
       "0                96        2  838c16fffffffff  2023_idn_vitocampaign_poly_110   \n",
       "1                96        2  838c16fffffffff  2023_idn_vitocampaign_poly_110   \n",
       "2                96        2  838c16fffffffff  2023_idn_vitocampaign_poly_110   \n",
       "3                96        2  838c16fffffffff  2023_idn_vitocampaign_poly_110   \n",
       "4                96        2  838c16fffffffff  2023_idn_vitocampaign_poly_110   \n",
       "\n",
       "                                            geometry  \n",
       "0  POLYGON ((108.15588 -6.82013, 108.15623 -6.820...  \n",
       "1  POLYGON ((108.15645 -6.81920, 108.15651 -6.820...  \n",
       "2  POLYGON ((108.15450 -6.82075, 108.15443 -6.821...  \n",
       "3  POLYGON ((108.15660 -6.82173, 108.15676 -6.822...  \n",
       "4  POLYGON ((108.15668 -6.82271, 108.15653 -6.823...  "
      ]
     },
     "execution_count": 6,
     "metadata": {},
     "output_type": "execute_result"
    }
   ],
   "source": [
    "# supply a bounding box (this one is located on Java, Indonesia)\n",
    "bbox = BoundingBoxExtent(north=-6.577303, east=111.950684, south=-8.05923, west=107.116699)\n",
    "\n",
    "# do not explicitly filter on collections\n",
    "ref_ids = None\n",
    "\n",
    "# Do not filter on date\n",
    "temporal_extent = None\n",
    "\n",
    "# Do not filter on crop type\n",
    "ewoc_codes = None\n",
    "\n",
    "# Include public collections only\n",
    "include_public = True\n",
    "include_private = False\n",
    "\n",
    "# Limit sample download to a subset in case many samples available\n",
    "subset = True\n",
    "\n",
    "# Minimum quality score for samples\n",
    "min_quality_ct = 75\n",
    "min_quality_lc = 0\n",
    "\n",
    "gdf = rdm.get_samples(\n",
    "    ref_ids=ref_ids,\n",
    "    subset=subset,\n",
    "    bbox=bbox,\n",
    "    temporal_extent=temporal_extent,\n",
    "    ewoc_codes=ewoc_codes,\n",
    "    include_public=include_public,\n",
    "    include_private=include_private,\n",
    "    min_quality_ct=min_quality_ct,\n",
    "    min_quality_lc=min_quality_lc,\n",
    ")\n",
    "\n",
    "print(f\"Total number of samples downloaded: {len(gdf)}\")\n",
    "gdf.head()"
   ]
  },
  {
   "cell_type": "markdown",
   "metadata": {},
   "source": [
    "The dataframe you get as a result includes information on the origin of each individual sample in the \"*ref_id*\" attribute:"
   ]
  },
  {
   "cell_type": "code",
   "execution_count": 31,
   "metadata": {},
   "outputs": [
    {
     "data": {
      "text/plain": [
       "array(['2023_idn_vitocampaign_poly_110', '2023_idn_vitomanualpoints_100'],\n",
       "      dtype=object)"
      ]
     },
     "execution_count": 31,
     "metadata": {},
     "output_type": "execute_result"
    }
   ],
   "source": [
    "gdf['ref_id'].unique()"
   ]
  },
  {
   "cell_type": "markdown",
   "metadata": {},
   "source": [
    "You can now save this dataframe as a geoparquet file and visualize it in QGIS or using the same visualization function as before.\n",
    "\n",
    "Note that in some cases, the resulting dataframe will contain both polygons and points, depending on the collections which were matching your request criteria."
   ]
  },
  {
   "cell_type": "code",
   "execution_count": 33,
   "metadata": {},
   "outputs": [
    {
     "data": {
      "application/vnd.jupyter.widget-view+json": {
       "model_id": "5bafa6498f274f85bfe374930c7a34d1",
       "version_major": 2,
       "version_minor": 0
      },
      "text/plain": [
       "Map(center=[-7.165193221046393, 109.3288611817593], controls=(ZoomControl(options=['position', 'zoom_in_text',…"
      ]
     },
     "execution_count": 33,
     "metadata": {},
     "output_type": "execute_result"
    }
   ],
   "source": [
    "from pathlib import Path\n",
    "\n",
    "# save as geoparquet file and visualize\n",
    "parquet_file = str(Path(dwnld_folder) / 'samples.geoparquet')\n",
    "gdf.to_parquet(parquet_file)\n",
    "\n",
    "visualize_rdm_geoparquet(parquet_file)\n"
   ]
  },
  {
   "cell_type": "markdown",
   "metadata": {},
   "source": [
    "Congratulations, you have reached the end of this exercise!\n",
    "\n",
    "You have acquired the necessary skills to request the reference data needed to train your own crop type classification algorithms!<br>\n",
    "In Version 2 of the [WorldCereal processing system](https://github.com/WorldCereal/worldcereal-classification), we will demonstrate how to proceed to actually train your algorithms and produce a crop type map for your region of interest.\n",
    "\n",
    "In case you did not find the data you are looking for, please consider contributing data to the platform, either as a private, restricted or fully public collection. Read more about our data collection and sharing efforts, [here](https://esa-worldcereal.org/en/reference-data)."
   ]
  }
 ],
 "metadata": {
  "kernelspec": {
   "display_name": "worldcereal",
   "language": "python",
   "name": "python3"
  },
  "language_info": {
   "codemirror_mode": {
    "name": "ipython",
    "version": 3
   },
   "file_extension": ".py",
   "mimetype": "text/x-python",
   "name": "python",
   "nbconvert_exporter": "python",
   "pygments_lexer": "ipython3",
   "version": "3.10.0"
  }
 },
 "nbformat": 4,
 "nbformat_minor": 2
}
