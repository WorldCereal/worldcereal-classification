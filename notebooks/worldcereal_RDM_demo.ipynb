{
 "cells": [
  {
   "cell_type": "markdown",
   "metadata": {},
   "source": [
    "![](./resources/MOOC_refdata_RDM_exploration.png)"
   ]
  },
  {
   "cell_type": "markdown",
   "metadata": {},
   "source": [
    "### Introduction\n",
    "\n",
    "This notebook demonstrates the different possibilities to explore and download our harmonized reference data, hosted in the [WorldCereal Reference Data Module (RDM)](https://rdm.esa-worldcereal.org/).<br>\n",
    "Here, we use the dedicated [RDM API](https://ewoc-rdm-api.iiasa.ac.at/swagger/index.html) to interact with the data through Python code.<br>\n",
    "For quick exploration of the reference data, you can obviously also make use of our [user interface](https://rdm.esa-worldcereal.org/map).\n",
    "\n",
    "This notebook only covers the processes of inspecting and downloading existing reference data within the WorldCereal RDM.<br>\n",
    "Data harmonization and upload should be done through the dedicated user interface, which can be accessed by clicking the \"Contribute\" button, [here](https://rdm.esa-worldcereal.org/).\n",
    "\n",
    "For more background information on our vision and approach regarding reference data, visit [the reference data section on our project website](https://esa-worldcereal.org/en/reference-data).\n",
    "\n",
    "For more technical background information, visit [our documentation portal](https://worldcereal.github.io/worldcereal-documentation/rdm/overview.html).\n",
    "\n",
    "To engage with us on the topic of reference data, reach out on our [user forum](https://forum.esa-worldcereal.org/c/ref-data/6)."
   ]
  },
  {
   "cell_type": "markdown",
   "metadata": {},
   "source": [
    "### How to run this notebook?\n",
    "\n",
    "#### Option 1: Run on Terrascope\n",
    "\n",
    "You can use a preconfigured environment on [**Terrascope**](https://terrascope.be/en) to run the workflows in a Jupyter notebook environment. Just register as a new user on Terrascope or use one of the supported EGI eduGAIN login methods to get started.\n",
    "\n",
    "Once you have a Terrascope account, you can run this notebook by clicking the button shown below.\n",
    "\n",
    "<div class=\"alert alert-block alert-warning\">When you click the button, you will be prompted with \"Server Options\". Make sure to select the \"Worldcereal\" image here. Did you choose \"Terrascope\" by accident? Then go to File > Hub Control Panel > Stop my server, and click the link below once again.</div>\n",
    "\n",
    "<a href=\"https://notebooks.terrascope.be/hub/user-redirect/git-pull?repo=https%3A%2F%2Fgithub.com%2FWorldCereal%2Fworldcereal-classification&urlpath=lab%2Ftree%2Fworldcereal-classification%2Fnotebooks%2Fworldcereal_RDM_demo.ipynb&branch=main\"><img src=\"https://img.shields.io/badge/run%20RDM%20demo-Terrascope-brightgreen\" alt=\"Run RDM demo\" valign=\"middle\"></a>\n",
    "\n",
    "\n",
    "#### Option 2: Install Locally\n",
    "\n",
    "If you prefer to install the package locally, you can create the WorldCereal environment using **Conda** or **pip**.\n",
    "\n",
    "First clone the repository:\n",
    "```bash\n",
    "git clone https://github.com/WorldCereal/worldcereal-classification.git\n",
    "cd worldcereal-classification\n",
    "```\n",
    "Next, install the package locally:\n",
    "- for Conda: `conda env create -f environment.yml`\n",
    "- for Pip: `pip install .[train,notebooks]`"
   ]
  },
  {
   "cell_type": "markdown",
   "metadata": {},
   "source": [
    "### Content\n",
    "  \n",
    "- [Before you start](###-Before-you-start)\n",
    "- [1. Browse and explore collections](#1.-Browse-and-explore-collections)\n",
    "- [2. Download individual collections](#2.-Download-individual-collections)\n",
    "- [3. Filter collections](#3.-Filter-collections)\n",
    "- [4. Get crop counts across datasets](#4.-Get-crop-counts-across-datasets)\n",
    "- [5. Get individual samples across multiple collections](#5.-Get-individual-samples-across-multiple-collections)"
   ]
  },
  {
   "cell_type": "markdown",
   "metadata": {},
   "source": [
    "### Before you start\n",
    "\n",
    "Reference data in the WorldCereal RDM are organized in collections.<br>\n",
    "A collection contains observations derived from a single source and for a single year.<br>\n",
    "\n",
    "Each collection is characterized by a **data privacy level**, controlling who can access the data:<br>\n",
    "- *Public datasets* can be accessed by anyone and have been explicitly curated by the WorldCereal consortium;\n",
    "- *Private datasets* can only be accessed by the user who uploaded the data;\n",
    "- *Restricted datasets* are private datasets which were approved by the uploader to be used for training the global WorldCereal classification models, but which are not shared publicly.\n",
    "\n",
    "Anyone is able to access, explore and download public datasets, without the need for any registration or user account.\n",
    "\n",
    "In order to upload and access private datasets, you need to sign up for a [Copernicus Data Space Ecosystem (CDSE)](https://dataspace.copernicus.eu/) account.<br>\n",
    "This is completely free of charge!"
   ]
  },
  {
   "cell_type": "code",
   "execution_count": null,
   "metadata": {},
   "outputs": [],
   "source": [
    "# Before we get started, we first initiate an interaction session with the RDM:\n",
    "from worldcereal.rdm_api import RdmInteraction\n",
    "rdm = RdmInteraction()"
   ]
  },
  {
   "cell_type": "markdown",
   "metadata": {},
   "source": [
    "### 1. Browse and explore collections\n",
    "\n",
    "In this section, we demonstrate how to retrieve a list of available collections and how to get a bit more information about an individual collection.<br>\n",
    "For now we will focus on public collections only."
   ]
  },
  {
   "cell_type": "code",
   "execution_count": null,
   "metadata": {},
   "outputs": [
    {
     "name": "stdout",
     "output_type": "stream",
     "text": [
      "Number of collections found: 96\n"
     ]
    },
    {
     "data": {
      "text/plain": [
       "['2021_ltu_eurocrops_poly_110',\n",
       " '2017_mex_cimmyt1_point_111',\n",
       " '2020_rw_wapor_1_point_111',\n",
       " '2021_eth_adea_poly_110',\n",
       " '2017_ssd_esaprojectsen2agri_point_100',\n",
       " '2017_ssd_esaprojectsen2agri_poly_100',\n",
       " '2017_uga_radiantearth01_poly_110',\n",
       " '2018_aut_lpis_poly_110',\n",
       " '2017_bel_lpisflanders_poly_110',\n",
       " '2018_glo_glance_point_100',\n",
       " '2019_glo_glance_point_100',\n",
       " '2017_mdg_madrice_point_110',\n",
       " '2020_nld_lpis_poly_110',\n",
       " '2018_aus_clumcom_poly_110',\n",
       " '2020_fra_lpis_poly_110',\n",
       " '2020_glo_glance_point_100',\n",
       " '2024_nga_iitaoyocrop2024_poly_110',\n",
       " '2018_mdg_madrice_point_110',\n",
       " '2021_deu_eurocropsnrw_poly_110',\n",
       " '2019_aus_clumcom_poly_110',\n",
       " '2019_mdg_madrice_point_110',\n",
       " '2019_blz_baimssugarcane_poly_110',\n",
       " '2019_tha_boku_point_110',\n",
       " '2021_deu_eurocropsls_poly_110',\n",
       " '2020_mdg_madrice_point_110',\n",
       " '2017_fra_lpis_poly_110',\n",
       " '2022_aut_lpis_poly_110',\n",
       " '2021_mdg_madrice_point_110',\n",
       " '2022_mdg_madrice_point_110',\n",
       " '2023_mdg_madrice_point_110',\n",
       " '2024_mdg_madrice_point_110',\n",
       " '2017_aut_lpis_poly_110',\n",
       " '2022_nga_iitanigeria_poly_110',\n",
       " '2021_ita_geopiemontesau_point_110',\n",
       " '2018_ssd_wfpfieldsurvey_poly_110',\n",
       " '2018_tza_osfafsis_point_110',\n",
       " '2023_eu_geopiemontesau_point_110',\n",
       " '2019_can_aafccropinventory_point_110',\n",
       " '2018_uga_wfpfieldsurvey_poly_110',\n",
       " '2022_ita_geopiemontesau_point_110',\n",
       " '2019_usausda2019cdls_point_110',\n",
       " '2021_aut_lpis_poly_110',\n",
       " '2021_est_eurocrops_poly_110',\n",
       " '2019_af_oneacrefundmel_point_110',\n",
       " '2019_aut_lpis_poly_110',\n",
       " '2021_rwa_faowapormuvu_poly_111',\n",
       " '2021_can_aafccropinventory_point_110',\n",
       " '2021_af_crop_poly_111',\n",
       " '2021_fra_lpis_poly_110',\n",
       " '2021_esp_esyrce_poly_111',\n",
       " '2023_irl_lpis_poly_110',\n",
       " '2022_irl_lpis_poly_110',\n",
       " '2019_usa_usdacdl_point_110',\n",
       " '2020_usa_usdacdl_point_110',\n",
       " '2019_irl_lpis_poly_110',\n",
       " '2023_usa_usdacdl_point_110',\n",
       " '2023_fra_lpis_poly_110',\n",
       " '2018_fra_lpis_poly_110',\n",
       " '2021_irl_lpis_poly_110',\n",
       " '2018_lux_lpis_poly_110',\n",
       " '2020_irl_lpis_poly_110',\n",
       " '2018_mex_cimmyt1_point_111',\n",
       " '2021_swe_eurocrops_poly_110',\n",
       " '2018_nld_lpis_poly_110',\n",
       " '2018_ukr_nhi01_point_110',\n",
       " '2019_af_dewatrain1_poly_100',\n",
       " '2019_af_dewatrain2_poly_100',\n",
       " '2019_af_dewaval1_point_100',\n",
       " '2019_af_dewaval2_point_100',\n",
       " '2023_eu_lucas_poly_111',\n",
       " '2020_glo_ewoco_point_100',\n",
       " '2019_dnk_eurocrops_poly_110',\n",
       " '2021_tza_iiasafeedback_point_100',\n",
       " '2019_esp_sigpaccatalunya_poly_111',\n",
       " '2019_mex_cimmyt1_point_111',\n",
       " '2019_mex_cimmyt1_poly_111',\n",
       " '2021_af_2021wacocoapoly110_poly_110',\n",
       " '2019_nld_lpis_poly_110',\n",
       " '2022_eu_lucas_poly_111',\n",
       " '2022_fra_lpis_poly_110',\n",
       " '2024_mar_crsa_poly_110',\n",
       " '2019_sen_jecamcirad_poly_111',\n",
       " '2019_ukr_jecam1_poly_110',\n",
       " '2019_ukr_jecam2_poly_100',\n",
       " '2025_mar_um6p_poly_111',\n",
       " '2019_ua_nhi01_point_110',\n",
       " '2020_aus_clumcom_poly_110',\n",
       " '2020_bel_lpisflanders_poly_110',\n",
       " '2020_eth_nhicropharvest_poly_100',\n",
       " '2023_idn_vitomanualpoints_100',\n",
       " '2021_usa_usdacdl_point_110',\n",
       " '2018_irl_lpis_poly_110',\n",
       " '2019_fra_lpis_poly_110',\n",
       " '2025_aut_2025iiasageoquestpol_poly_111',\n",
       " '2024_mar_crsa1_poly_110',\n",
       " '2023_nga_iitaoyocrop2023_poly_110']"
      ]
     },
     "execution_count": 2,
     "metadata": {},
     "output_type": "execute_result"
    }
   ],
   "source": [
    "# Get a list of available collections\n",
    "# (by default, the following method only returns public collections)\n",
    "collections = rdm.get_collections(include_private=False)\n",
    "\n",
    "# Extract the collection ID's\n",
    "ids = [col.id for col in collections]\n",
    "print(f'Number of collections found: {len(ids)}')\n",
    "ids"
   ]
  },
  {
   "cell_type": "markdown",
   "metadata": {},
   "source": [
    "Collection ID's are constructed according to a fixed naming convention:<br>\n",
    "(year) _ (country/region) _ (identifier) _ (point or poly) _ (information content)<br>\n",
    "The latter is represented by a numeric code:\n",
    "- 100: only land cover information\n",
    "- 110: land cover and crop type information\n",
    "- 111: land cover, crop type and irrigation information\n",
    "\n",
    "Find out more on [this page](https://worldcereal.github.io/worldcereal-documentation/rdm/refdata.html#dataset-naming-convention)."
   ]
  },
  {
   "cell_type": "markdown",
   "metadata": {},
   "source": [
    "Each individual collection is accompanied by a standard set of metadata.\n",
    "Let's see what basic information is available:"
   ]
  },
  {
   "cell_type": "code",
   "execution_count": null,
   "metadata": {},
   "outputs": [],
   "source": [
    "# We get the first collection\n",
    "col = collections[0]\n",
    "\n",
    "# We can now access the collection's metadata\n",
    "col.print_metadata()\n"
   ]
  },
  {
   "cell_type": "markdown",
   "metadata": {},
   "source": [
    "Most of these metadata items speak for themselves. Let's for now have a look at 3 of them:<br>\n",
    "\n",
    "- The **list of available crop types** mentions which crop types are present within the collection, but does not inform you on the quantity of samples per type. Further down in this notebook you will see how to extract actual sample counts per crop type.<br>\n",
    "\n",
    "Crop types are indicated using numeric codes, as defined by our [hierarchical land cover/crop type legend](https://artifactory.vgt.vito.be/artifactory/auxdata-public/worldcereal//legend/WorldCereal_LC_CT_legend_latest.pdf).<br>\n",
    "To ease interpretation of these codes, the following function translates the information into a more human-readable format:"
   ]
  },
  {
   "cell_type": "code",
   "execution_count": null,
   "metadata": {},
   "outputs": [],
   "source": [
    "from worldcereal.utils.legend import translate_ewoc_codes\n",
    "\n",
    "crop_types = translate_ewoc_codes(col.ewoc_codes)\n",
    "crop_types"
   ]
  },
  {
   "cell_type": "markdown",
   "metadata": {},
   "source": [
    "- The **temporal extent** shows the range of observation dates present in the dataset and can give you a rough indication whether this dataset would be useful for you to consider given a specific growing season of interest.<br>"
   ]
  },
  {
   "cell_type": "code",
   "execution_count": null,
   "metadata": {},
   "outputs": [],
   "source": [
    "print(f'Start date: {col.temporal_extent[0]}, End date: {col.temporal_extent[1]}')"
   ]
  },
  {
   "cell_type": "markdown",
   "metadata": {},
   "source": [
    "- The **spatial extent** provides you with a bounding box in which all observations are contained and gives you an idea about the location of the samples.\n",
    "\n",
    "To get a better idea on where the dataset is located, we can visualize the spatial extent on a map:"
   ]
  },
  {
   "cell_type": "code",
   "execution_count": null,
   "metadata": {},
   "outputs": [],
   "source": [
    "from worldcereal.rdm_api.rdm_collection import visualize_spatial_extents\n",
    "visualize_spatial_extents([col])"
   ]
  },
  {
   "cell_type": "markdown",
   "metadata": {},
   "source": [
    "### 2. Download individual collections\n",
    "\n",
    "Let's explore which assets are available for each collection."
   ]
  },
  {
   "cell_type": "markdown",
   "metadata": {},
   "source": [
    "#### 2.1 The samples (individual observations)\n",
    "\n",
    "Samples for individual collections can be downloaded as GeoParquet files.\n",
    "Each sample at minimum holds information on:\n",
    "- the observed land cover/crop type (attribute: *ewoc_code*)\n",
    "- the location (point or polygon, captured in the *geometry* attribute)\n",
    "- the date for which the observation is valid, i.e. the designated crop was present on the field (attribute: *valid_time*)\n",
    "\n",
    "Large public collections containing many observations have been automatically subsampled into a representative subset, taking into account crop type variability and spatial distribution of the data. As a user, you have the ability to either download this subset, or the full dataset (by specifying the `subset` parameter in the function below).\n",
    "\n",
    "Let's create a new *download* folder where this notebook is located and download the samples of our example collection:"
   ]
  },
  {
   "cell_type": "code",
   "execution_count": null,
   "metadata": {},
   "outputs": [],
   "source": [
    "dwnld_folder = './download'\n",
    "# the following function will automatically create the download folder in case it does not exist\n",
    "parquet_file = rdm.download_collection_geoparquet(col.id, dwnld_folder, subset=True)"
   ]
  },
  {
   "cell_type": "markdown",
   "metadata": {},
   "source": [
    "The resulting file can be visualized in QGIS or, for a quick view, using the function below:"
   ]
  },
  {
   "cell_type": "code",
   "execution_count": null,
   "metadata": {},
   "outputs": [],
   "source": [
    "from worldcereal.utils.map import visualize_rdm_geoparquet\n",
    "\n",
    "visualize_rdm_geoparquet(parquet_file)"
   ]
  },
  {
   "cell_type": "markdown",
   "metadata": {},
   "source": [
    "#### 2.2 Full metadata\n",
    "\n",
    "We have previously seen a basic set of metadata for our reference data collection.<br>\n",
    "During the harmonization of public datasets, the WorldCereal moderators are  collecting an extensive set of metadata to fully document both the original dataset and the harmonization steps that have been undertaken.\n",
    "\n",
    "Most of this metadata is bundled in a metadata Excel file, hosted on the RDM portal. This metadata can either be downloaded as a dictionary, or as an xlsx file:"
   ]
  },
  {
   "cell_type": "code",
   "execution_count": null,
   "metadata": {},
   "outputs": [],
   "source": [
    "metadata_file = rdm.download_collection_metadata(col.id, dwnld_folder)\n",
    "\n",
    "metadata = rdm.get_collection_metadata(col.id)\n",
    "metadata"
   ]
  },
  {
   "cell_type": "markdown",
   "metadata": {},
   "source": [
    "Explore the contents of the metadata.<br>\n",
    "Note that in addition to a list of available crop types, the extended metadata version also includes crop statistics (i.e. the amount of samples per crop type):"
   ]
  },
  {
   "cell_type": "code",
   "execution_count": null,
   "metadata": {},
   "outputs": [],
   "source": [
    "crop_counts = rdm.get_collection_stats(col.id)\n",
    "crop_counts"
   ]
  },
  {
   "cell_type": "markdown",
   "metadata": {},
   "source": [
    "#### 2.3 Harmonization information\n",
    "\n",
    "Next to the metadata, each PUBLIC dataset is also accompanied by a harmonization document (PDF), including information about all steps that have been undertaken during data curation and harmonization by the WorldCereal moderator, including the translation of original land cover/crop type information to the WorldCereal legend and computation of the dataset confidence score.<br>\n",
    "Below, we show how to get this document for an individual dataset:"
   ]
  },
  {
   "cell_type": "code",
   "execution_count": null,
   "metadata": {},
   "outputs": [],
   "source": [
    "# Note: this only works for public datasets!\n",
    "harmonization_file = rdm.download_collection_harmonization_info(col.id, dwnld_folder)"
   ]
  },
  {
   "cell_type": "markdown",
   "metadata": {},
   "source": [
    "### 3. Filter collections\n",
    "\n",
    "Now that you have a basic understanding of how reference data is organized in collections and how to access information about and data within individual collections, let's now focus on how to find relevant reference data for your use case.\n",
    "\n",
    "We have implemented various filtering methods allowing you to identify collections that contain the data you are looking for.\n",
    "\n",
    "At the moment you can filter based on:\n",
    "- crop type\n",
    "- spatial extent\n",
    "- temporal extent\n",
    "- access type (public vs private)\n",
    "\n",
    "In the sections below we demonstrate each of these cases."
   ]
  },
  {
   "cell_type": "markdown",
   "metadata": {},
   "source": [
    "#### 3.1 Filter based on crop types\n",
    "\n",
    "To filter collections on crop type, you need to provide a list of numerical crop type codes.<br>\n",
    "All collections containing at least one of the mentioned crop types will be returned.<br>\n",
    "\n",
    "You can either manually enter a list of crop types, or use the application below to select crop types of interest:"
   ]
  },
  {
   "cell_type": "code",
   "execution_count": null,
   "metadata": {},
   "outputs": [],
   "source": [
    "from notebook_utils.croptypepicker import CropTypePicker, DEMO_CROPS\n",
    "\n",
    "croptypepicker = CropTypePicker(ewoc_codes=DEMO_CROPS)"
   ]
  },
  {
   "cell_type": "markdown",
   "metadata": {},
   "source": [
    "The croptypepicker application returns a dataframe containing the ewoc_codes you selected. In case you chose to aggregate multiple classes into a single class, this information is shown in the \"*new_label*\" column. "
   ]
  },
  {
   "cell_type": "code",
   "execution_count": null,
   "metadata": {},
   "outputs": [],
   "source": [
    "croptypes = croptypepicker.croptypes\n",
    "croptypes"
   ]
  },
  {
   "cell_type": "code",
   "execution_count": null,
   "metadata": {},
   "outputs": [],
   "source": [
    "# Get a list of public collections containing these crop types\n",
    "ewoc_codes = list(croptypes.index.values)\n",
    "\n",
    "collections = rdm.get_collections(ewoc_codes=ewoc_codes)\n",
    "ids = [col.id for col in collections]\n",
    "print(f'Number of collections found: {len(ids)}')\n",
    "ids"
   ]
  },
  {
   "cell_type": "markdown",
   "metadata": {},
   "source": [
    "#### 3.2 Filter based on location\n",
    "\n",
    "To retrieve a list of collections intersecting a certain area of interest, you need to provide a spatial bounding box to the `get_collections` function.<br>\n",
    "Either enter a bounding box manually, or use the below application to draw a bounding box:"
   ]
  },
  {
   "cell_type": "code",
   "execution_count": null,
   "metadata": {},
   "outputs": [],
   "source": [
    "from worldcereal.utils.map import ui_map\n",
    "\n",
    "map = ui_map()"
   ]
  },
  {
   "cell_type": "code",
   "execution_count": null,
   "metadata": {},
   "outputs": [],
   "source": [
    "bbox = map.get_extent(projection=\"latlon\")\n",
    "\n",
    "collections = rdm.get_collections(spatial_extent=bbox)\n",
    "\n",
    "ids = [col.id for col in collections]\n",
    "print(f'Number of collections found: {len(ids)}')\n",
    "ids"
   ]
  },
  {
   "cell_type": "markdown",
   "metadata": {},
   "source": [
    "To manually define a bounding box, enter the desired coordinates below (lat/lon):"
   ]
  },
  {
   "cell_type": "code",
   "execution_count": null,
   "metadata": {},
   "outputs": [],
   "source": [
    "from openeo_gfmap import BoundingBoxExtent\n",
    "\n",
    "north = 34.79638823\n",
    "east = -0.34539808\n",
    "south = 34.45619011\n",
    "west = -0.91010781\n",
    "\n",
    "bbox = BoundingBoxExtent(north=north, east=east, south=south, west=west)"
   ]
  },
  {
   "cell_type": "markdown",
   "metadata": {},
   "source": [
    "#### 3.3 Filter based on temporal extent\n",
    "\n",
    "Simply define a start and end date for your period of interest:"
   ]
  },
  {
   "cell_type": "code",
   "execution_count": null,
   "metadata": {},
   "outputs": [],
   "source": [
    "from openeo_gfmap import TemporalContext\n",
    "\n",
    "# We use the year 2020 as an example:\n",
    "start_date = \"2020-01-01\"\n",
    "end_date = \"2020-12-31\"\n",
    "\n",
    "temporal_extent = TemporalContext(start_date=start_date, end_date=end_date)\n",
    "\n",
    "# Access public collections for the specific temporal range\n",
    "collections = rdm.get_collections(temporal_extent=temporal_extent)\n",
    "ids = [col.id for col in collections]\n",
    "print(f'Number of collections found: {len(ids)}')\n",
    "ids\n",
    "\n"
   ]
  },
  {
   "cell_type": "markdown",
   "metadata": {},
   "source": [
    "#### 3.4 Filter based on data privacy\n",
    "\n",
    "To change the default behaviour of `get_collections` and get (only) private collections, you can set the `include_public` and `include_private` parameters, as demonstrated below.\n",
    "\n",
    "NOTE that requesting private collections will trigger a login prompt if you are not already logged in.<br>\n",
    "Simply click the designated link to login to your CDSE account.\n",
    "\n",
    "Reminder: Uploading your own collections to the RDM can be accomplished by hitting the \"Contribute\" button on [this page](https://rdm.esa-worldcereal.org/), where you will be guided through the upload procedure."
   ]
  },
  {
   "cell_type": "code",
   "execution_count": null,
   "metadata": {},
   "outputs": [],
   "source": [
    "private_collections = rdm.get_collections(include_public=False, include_private=True)\n",
    "private_ids = [col.id for col in private_collections]\n",
    "print(f'Number of private collections found: {len(private_ids)}')\n",
    "private_ids"
   ]
  },
  {
   "cell_type": "markdown",
   "metadata": {},
   "source": [
    "#### 3.5 Your turn!\n",
    "\n",
    "Use a combination of the filters as presented above to look for collections in Kenya containing samples for maize.\n",
    "Additionally filter on the year 2021.\n",
    "\n",
    "How many public maize samples can be found for this country in the RDM?"
   ]
  },
  {
   "cell_type": "markdown",
   "metadata": {},
   "source": [
    "### 4. Get crop counts across datasets\n",
    "\n",
    "So far we have gone through the process of first identifying your collections of interest, and then checking the amount of samples for these datasets one by one by downloading each dataset's metadata.<br>\n",
    "\n",
    "This way of working is quite cumbersome in case you would like to get crop counts over a large area of interest, as potentially many different collections are involved.<br>\n",
    "Below, we demonstrate how you can request crop statistics for one or multiple crop types over one or multiple collections in one go."
   ]
  },
  {
   "cell_type": "code",
   "execution_count": null,
   "metadata": {},
   "outputs": [],
   "source": [
    "# Get total count of soybean and spring wheat samples across two collections in Canada:\n",
    "collection_ids = ['2021_can_aafccropinventory_point_110', '2018_can_aafccropinventory_point_110']\n",
    "crop_codes = [1106000020, 1101010002] # soybean + spring wheat\n",
    "\n",
    "counts = rdm.get_crop_counts(ref_ids=collection_ids, ewoc_codes=crop_codes)\n",
    "counts"
   ]
  },
  {
   "cell_type": "markdown",
   "metadata": {},
   "source": [
    "Note that in case you do not specify a list of crop types, the statistics for all crop types present in the collections of interest are returned."
   ]
  },
  {
   "cell_type": "code",
   "execution_count": null,
   "metadata": {},
   "outputs": [],
   "source": [
    "ref_ids = ['2018_sen_jecamcirad_poly_111', '2019_mli_nhicropharvest_poly_110']\n",
    "\n",
    "counts = rdm.get_crop_counts(ref_ids)\n",
    "counts"
   ]
  },
  {
   "cell_type": "markdown",
   "metadata": {},
   "source": [
    "### 5. Get individual samples across multiple collections\n",
    "\n",
    "Of course we kept the best for last: we implemented a function that allows you to download individual samples across collections, matching your custom search criteria.\n",
    "\n",
    "There are different ways to filter the samples you wish to download. You can freely combine these different filters in a single request. You will recognize most of these filters from the `get_collections` functionality:\n",
    "\n",
    "- `ref_ids`: a list of collection id's\n",
    "- `ewoc_codes`: a list of crop types\n",
    "- `bbox`: a spatial bounding box\n",
    "- `temporal_extent`: a temporal range as defined by a start and end date\n",
    "- `include_public`: whether or not to include public collections\n",
    "- `include_private`: whether or not to include private collections\n",
    "- `subset`: if True, the function will only download a subsample of the samples for which the \"extract\" attribute is 1 or higher. If False (default), all samples matching your search criteria will be downloaded.\n",
    "- `min_quality_lc`: only download samples for which the land cover quality score is higher than this number\n",
    "- `min_quality_ct`: only download samples for which the crop type quality score is higher than this number\n",
    "\n",
    "Below we provide one example of this functionality, but feel free to play around and request samples for your specific area/period/crop types of interest!\n",
    "\n",
    "For instance, you can make use of the `ui_map` function to draw your own bounding box..."
   ]
  },
  {
   "cell_type": "code",
   "execution_count": null,
   "metadata": {},
   "outputs": [],
   "source": [
    "from openeo_gfmap import BoundingBoxExtent\n",
    "\n",
    "# supply a bounding box (this one is located on Java, Indonesia)\n",
    "bbox = BoundingBoxExtent(north=-6.577303, east=111.950684, south=-8.05923, west=107.116699)\n",
    "\n",
    "# do not explicitly filter on collections\n",
    "ref_ids = None\n",
    "\n",
    "# Do not filter on date\n",
    "temporal_extent = None\n",
    "\n",
    "# Do not filter on crop type\n",
    "ewoc_codes = None\n",
    "\n",
    "# Include public collections only\n",
    "include_public = True\n",
    "include_private = False\n",
    "\n",
    "# Limit sample download to a subset in case many samples available\n",
    "subset = True\n",
    "\n",
    "# Minimum quality score for samples\n",
    "min_quality_ct = 75\n",
    "min_quality_lc = 0\n",
    "\n",
    "gdf = rdm.get_samples(\n",
    "    ref_ids=ref_ids,\n",
    "    subset=subset,\n",
    "    spatial_extent=bbox,\n",
    "    temporal_extent=temporal_extent,\n",
    "    ewoc_codes=ewoc_codes,\n",
    "    include_public=include_public,\n",
    "    include_private=include_private,\n",
    "    min_quality_ct=min_quality_ct,\n",
    "    min_quality_lc=min_quality_lc,\n",
    ")\n",
    "\n",
    "print(f\"Total number of samples downloaded: {len(gdf)}\")\n",
    "gdf.head()"
   ]
  },
  {
   "cell_type": "markdown",
   "metadata": {},
   "source": [
    "The dataframe you get as a result includes information on the origin of each individual sample in the \"*ref_id*\" attribute:"
   ]
  },
  {
   "cell_type": "code",
   "execution_count": null,
   "metadata": {},
   "outputs": [],
   "source": [
    "gdf['ref_id'].unique()"
   ]
  },
  {
   "cell_type": "markdown",
   "metadata": {},
   "source": [
    "You can now save this dataframe as a geoparquet file and visualize it in QGIS or using the same visualization function as before.\n",
    "\n",
    "Note that in some cases, the resulting dataframe will contain both polygons and points, depending on the collections which were matching your request criteria."
   ]
  },
  {
   "cell_type": "code",
   "execution_count": null,
   "metadata": {},
   "outputs": [],
   "source": [
    "from pathlib import Path\n",
    "from worldcereal.utils.map import visualize_rdm_geoparquet\n",
    "\n",
    "# save as geoparquet file and visualize\n",
    "dwnld_folder = './download'\n",
    "parquet_file = str(Path(dwnld_folder) / 'samples.geoparquet')\n",
    "gdf.to_parquet(parquet_file)\n",
    "\n",
    "visualize_rdm_geoparquet(parquet_file)\n"
   ]
  },
  {
   "cell_type": "markdown",
   "metadata": {},
   "source": [
    "Congratulations, you have reached the end of this exercise!\n",
    "\n",
    "You have acquired the necessary skills to request the reference data needed to train your own crop type classification algorithms!<br>\n",
    "In Version 2 of the [WorldCereal processing system](https://github.com/WorldCereal/worldcereal-classification), we will demonstrate how to proceed to actually train your algorithms and produce a crop type map for your region of interest.\n",
    "\n",
    "In case you did not find the data you are looking for, please consider contributing data to the platform, either as a private, restricted or fully public collection. Read more about our data collection and sharing efforts, [here](https://esa-worldcereal.org/en/reference-data)."
   ]
  }
 ],
 "metadata": {
  "kernelspec": {
   "display_name": "worldcereal",
   "language": "python",
   "name": "python3"
  },
  "language_info": {
   "codemirror_mode": {
    "name": "ipython",
    "version": 3
   },
   "file_extension": ".py",
   "mimetype": "text/x-python",
   "name": "python",
   "nbconvert_exporter": "python",
   "pygments_lexer": "ipython3",
   "version": "3.10.0"
  }
 },
 "nbformat": 4,
 "nbformat_minor": 2
}
