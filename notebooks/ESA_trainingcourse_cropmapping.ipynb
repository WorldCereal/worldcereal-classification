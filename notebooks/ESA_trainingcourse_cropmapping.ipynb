{
 "cells": [
  {
   "cell_type": "markdown",
   "id": "2301a591",
   "metadata": {},
   "source": [
    "![](./resources/esa-lts-2025.png)"
   ]
  },
  {
   "cell_type": "markdown",
   "id": "939a284b",
   "metadata": {},
   "source": [
    "### Content\n",
    "\n",
    "- [Introduction](###-Introduction)\n",
    "- [How to run this notebook?](###-How-to-run-this-notebook?)\n",
    "- [Before you start](###-Before-you-start)\n",
    "- [1. Gather and prepare your training data](###-1.-Gather-and-prepare-your-training-data)\n",
    "- [2. Train custom classification model](###-2.-Train-custom-classification-model)\n",
    "- [3. Deploy your custom model](###-3.-Deploy-your-custom-model)\n",
    "- [4. Generate your custom crop type map](###-4.-Generate-your-custom-crop-type-map)"
   ]
  },
  {
   "cell_type": "markdown",
   "id": "5c162856",
   "metadata": {},
   "source": [
    "### Introduction\n",
    "\n",
    "This notebook guides you through the process of training a custom crop type classification model for your area, season and crop types of interest.\n",
    "\n",
    "For training the model, you can use a combination of:\n",
    "- publicly available reference data harmonized by the WorldCereal consortium;\n",
    "- your own private reference data.\n",
    "\n",
    "<div class=\"alert alert-block alert-warning\">\n",
    "In case you would like to use private reference data to train your model, make sure to first complete the workflow as outlined in our separate notebook <b>worldcereal_private_extractions.ipynb</b>.\n",
    "</div>\n",
    "\n",
    "After model training, we deploy your custom model to the cloud, from where it can be accessed by OpenEO, allowing you to apply your model on your area and season of interest and generate your custom crop type map."
   ]
  },
  {
   "cell_type": "markdown",
   "id": "d2b4436d",
   "metadata": {},
   "source": [
    "### How to run this notebook?\n",
    "\n",
    "#### Option 1: Run on Terrascope\n",
    "\n",
    "You can use a preconfigured environment on [**Terrascope**](https://terrascope.be/en) to run the workflows in a Jupyter notebook environment. Just register as a new user on Terrascope or use one of the supported EGI eduGAIN login methods to get started.\n",
    "\n",
    "Once you have a Terrascope account, you can run this notebook by clicking the button shown below.\n",
    "\n",
    "<div class=\"alert alert-block alert-warning\">When you click the button, you will be prompted with \"Server Options\".<br>\n",
    "Make sure to select the \"Worldcereal\" image here. Did you choose \"Terrascope\" by accident?<br>\n",
    "Then go to File > Hub Control Panel > Stop my server, and click the link below once again.</div>\n",
    "\n",
    "\n",
    "<a href=\"https://notebooks.terrascope.be/hub/user-redirect/git-pull?repo=https%3A%2F%2Fgithub.com%2FWorldCereal%2Fworldcereal-classification&urlpath=lab%2Ftree%2Fworldcereal-classification%2Fnotebooks%2FESA_trainingcourse_cropmapping.ipynb&branch=training-esa-ltc-2025\"><img src=\"https://img.shields.io/badge/Run%20Crop%20Mapping%20Exercise-Terrascope-brightgreen\" alt=\"Crop Mapping Exercise\" valign=\"middle\"></a>\n",
    "\n",
    "\n",
    "<div class=\"alert alert-block alert-warning\">\n",
    "<b>WARNING:</b> <br>\n",
    "Every time you click the above link, the latest version of the notebook will be fetched, potentially leading to conflicts with changes you have made yourself.<br>\n",
    "To avoid such code conflicts, we recommend you to make a copy of the notebook and make changes only in your copied version.\n",
    "</div>\n",
    "\n",
    "\n",
    "#### Option 2: Install Locally\n",
    "\n",
    "If you prefer to install the package locally, you can create the WorldCereal environment using **Conda** or **pip**.\n",
    "\n",
    "First clone the repository:\n",
    "```bash\n",
    "git clone https://github.com/WorldCereal/worldcereal-classification.git\n",
    "cd worldcereal-classification\n",
    "```\n",
    "Next, install the package locally:\n",
    "- for Conda: `conda env create -f environment.yml`\n",
    "- for Pip: `pip install .[train,notebooks]`"
   ]
  },
  {
   "cell_type": "markdown",
   "id": "382eb9cc",
   "metadata": {},
   "source": [
    "### Before you start\n",
    "\n",
    "In order to run WorldCereal crop mapping jobs from this notebook, you need to create an account on the [Copernicus Data Space Ecosystem](https://dataspace.copernicus.eu/).<br>\n",
    "This is free of charge and will grant you a number of free openEO processing credits to continue this demo."
   ]
  },
  {
   "cell_type": "markdown",
   "id": "4116e791",
   "metadata": {},
   "source": [
    "### 1. Gather and prepare your training data\n",
    "\n",
    "Note:\n",
    "In case you would like to explore the availability of publicly available reference data for your region of interest, you can:\n",
    "\n",
    "- use the WorldCereal Reference Data Module user interface, available [here](https://rdm.esa-worldcereal.org/). More explanation can be found [here](https://worldcereal.github.io/worldcereal-documentation/rdm/explore.html#explore-data-through-our-user-interface).\n",
    "- use our dedicated notebook [worldcereal_RDM_demo.ipynb](https://github.com/WorldCereal/worldcereal-classification/blob/main/notebooks/worldcereal_RDM_demo.ipynb)."
   ]
  },
  {
   "cell_type": "code",
   "execution_count": 21,
   "id": "dd8c7bfa",
   "metadata": {},
   "outputs": [
    {
     "data": {
      "text/html": [
       "<div style=\"width:100%;\"><div style=\"position:relative;width:100%;height:0;padding-bottom:60%;\"><span style=\"color:#565656\">Make this Notebook Trusted to load map: File -> Trust Notebook</span><iframe srcdoc=\"&lt;!DOCTYPE html&gt;\n",
       "&lt;html&gt;\n",
       "&lt;head&gt;\n",
       "    \n",
       "    &lt;meta http-equiv=&quot;content-type&quot; content=&quot;text/html; charset=UTF-8&quot; /&gt;\n",
       "    \n",
       "        &lt;script&gt;\n",
       "            L_NO_TOUCH = false;\n",
       "            L_DISABLE_3D = false;\n",
       "        &lt;/script&gt;\n",
       "    \n",
       "    &lt;style&gt;html, body {width: 100%;height: 100%;margin: 0;padding: 0;}&lt;/style&gt;\n",
       "    &lt;style&gt;#map {position:absolute;top:0;bottom:0;right:0;left:0;}&lt;/style&gt;\n",
       "    &lt;script src=&quot;https://cdn.jsdelivr.net/npm/leaflet@1.9.3/dist/leaflet.js&quot;&gt;&lt;/script&gt;\n",
       "    &lt;script src=&quot;https://code.jquery.com/jquery-3.7.1.min.js&quot;&gt;&lt;/script&gt;\n",
       "    &lt;script src=&quot;https://cdn.jsdelivr.net/npm/bootstrap@5.2.2/dist/js/bootstrap.bundle.min.js&quot;&gt;&lt;/script&gt;\n",
       "    &lt;script src=&quot;https://cdnjs.cloudflare.com/ajax/libs/Leaflet.awesome-markers/2.0.2/leaflet.awesome-markers.js&quot;&gt;&lt;/script&gt;\n",
       "    &lt;link rel=&quot;stylesheet&quot; href=&quot;https://cdn.jsdelivr.net/npm/leaflet@1.9.3/dist/leaflet.css&quot;/&gt;\n",
       "    &lt;link rel=&quot;stylesheet&quot; href=&quot;https://cdn.jsdelivr.net/npm/bootstrap@5.2.2/dist/css/bootstrap.min.css&quot;/&gt;\n",
       "    &lt;link rel=&quot;stylesheet&quot; href=&quot;https://netdna.bootstrapcdn.com/bootstrap/3.0.0/css/bootstrap.min.css&quot;/&gt;\n",
       "    &lt;link rel=&quot;stylesheet&quot; href=&quot;https://cdn.jsdelivr.net/npm/@fortawesome/fontawesome-free@6.2.0/css/all.min.css&quot;/&gt;\n",
       "    &lt;link rel=&quot;stylesheet&quot; href=&quot;https://cdnjs.cloudflare.com/ajax/libs/Leaflet.awesome-markers/2.0.2/leaflet.awesome-markers.css&quot;/&gt;\n",
       "    &lt;link rel=&quot;stylesheet&quot; href=&quot;https://cdn.jsdelivr.net/gh/python-visualization/folium/folium/templates/leaflet.awesome.rotate.min.css&quot;/&gt;\n",
       "    \n",
       "            &lt;meta name=&quot;viewport&quot; content=&quot;width=device-width,\n",
       "                initial-scale=1.0, maximum-scale=1.0, user-scalable=no&quot; /&gt;\n",
       "            &lt;style&gt;\n",
       "                #map_4e7c24d285473853757a77499dd26716 {\n",
       "                    position: relative;\n",
       "                    width: 100.0%;\n",
       "                    height: 100.0%;\n",
       "                    left: 0.0%;\n",
       "                    top: 0.0%;\n",
       "                }\n",
       "                .leaflet-container { font-size: 1rem; }\n",
       "            &lt;/style&gt;\n",
       "        \n",
       "    \n",
       "                    &lt;style&gt;\n",
       "                        .foliumtooltip {\n",
       "                            \n",
       "                        }\n",
       "                       .foliumtooltip table{\n",
       "                            margin: auto;\n",
       "                        }\n",
       "                        .foliumtooltip tr{\n",
       "                            text-align: left;\n",
       "                        }\n",
       "                        .foliumtooltip th{\n",
       "                            padding: 2px; padding-right: 8px;\n",
       "                        }\n",
       "                    &lt;/style&gt;\n",
       "            \n",
       "&lt;/head&gt;\n",
       "&lt;body&gt;\n",
       "    \n",
       "    \n",
       "            &lt;div class=&quot;folium-map&quot; id=&quot;map_4e7c24d285473853757a77499dd26716&quot; &gt;&lt;/div&gt;\n",
       "        \n",
       "&lt;/body&gt;\n",
       "&lt;script&gt;\n",
       "    \n",
       "    \n",
       "            var map_4e7c24d285473853757a77499dd26716 = L.map(\n",
       "                &quot;map_4e7c24d285473853757a77499dd26716&quot;,\n",
       "                {\n",
       "                    center: [24.139299392700195, -24.047897338867188],\n",
       "                    crs: L.CRS.EPSG3857,\n",
       "                    zoom: 10,\n",
       "                    zoomControl: true,\n",
       "                    preferCanvas: false,\n",
       "                }\n",
       "            );\n",
       "            L.control.scale().addTo(map_4e7c24d285473853757a77499dd26716);\n",
       "\n",
       "            \n",
       "\n",
       "        \n",
       "    \n",
       "            var tile_layer_5f1c1df46d3c10d7a209e8676fe1e45c = L.tileLayer(\n",
       "                &quot;https://tile.openstreetmap.org/{z}/{x}/{y}.png&quot;,\n",
       "                {&quot;attribution&quot;: &quot;\\u0026copy; \\u003ca href=\\&quot;https://www.openstreetmap.org/copyright\\&quot;\\u003eOpenStreetMap\\u003c/a\\u003e contributors&quot;, &quot;detectRetina&quot;: false, &quot;maxNativeZoom&quot;: 19, &quot;maxZoom&quot;: 19, &quot;minZoom&quot;: 0, &quot;noWrap&quot;: false, &quot;opacity&quot;: 1, &quot;subdomains&quot;: &quot;abc&quot;, &quot;tms&quot;: false}\n",
       "            );\n",
       "        \n",
       "    \n",
       "            tile_layer_5f1c1df46d3c10d7a209e8676fe1e45c.addTo(map_4e7c24d285473853757a77499dd26716);\n",
       "        \n",
       "    \n",
       "            map_4e7c24d285473853757a77499dd26716.fitBounds(\n",
       "                [[-21.678028106689453, -128.63050842285156], [69.95662689208984, 80.53471374511719]],\n",
       "                {}\n",
       "            );\n",
       "        \n",
       "    \n",
       "        function geo_json_5a9671910ac72dc29addbff99b3d2b8c_styler(feature) {\n",
       "            switch(feature.id) {\n",
       "                default:\n",
       "                    return {&quot;fillOpacity&quot;: 0.05, &quot;weight&quot;: 1};\n",
       "            }\n",
       "        }\n",
       "        function geo_json_5a9671910ac72dc29addbff99b3d2b8c_pointToLayer(feature, latlng) {\n",
       "            var opts = {&quot;bubblingMouseEvents&quot;: true, &quot;color&quot;: &quot;#3388ff&quot;, &quot;dashArray&quot;: null, &quot;dashOffset&quot;: null, &quot;fill&quot;: true, &quot;fillColor&quot;: &quot;#3388ff&quot;, &quot;fillOpacity&quot;: 0.2, &quot;fillRule&quot;: &quot;evenodd&quot;, &quot;lineCap&quot;: &quot;round&quot;, &quot;lineJoin&quot;: &quot;round&quot;, &quot;opacity&quot;: 1.0, &quot;radius&quot;: 2, &quot;stroke&quot;: true, &quot;weight&quot;: 3};\n",
       "            \n",
       "            let style = geo_json_5a9671910ac72dc29addbff99b3d2b8c_styler(feature)\n",
       "            Object.assign(opts, style)\n",
       "            \n",
       "            return new L.CircleMarker(latlng, opts)\n",
       "        }\n",
       "\n",
       "        function geo_json_5a9671910ac72dc29addbff99b3d2b8c_onEachFeature(feature, layer) {\n",
       "            layer.on({\n",
       "            });\n",
       "        };\n",
       "        var geo_json_5a9671910ac72dc29addbff99b3d2b8c = L.geoJson(null, {\n",
       "                onEachFeature: geo_json_5a9671910ac72dc29addbff99b3d2b8c_onEachFeature,\n",
       "            \n",
       "                style: geo_json_5a9671910ac72dc29addbff99b3d2b8c_styler,\n",
       "                pointToLayer: geo_json_5a9671910ac72dc29addbff99b3d2b8c_pointToLayer,\n",
       "        });\n",
       "\n",
       "        function geo_json_5a9671910ac72dc29addbff99b3d2b8c_add (data) {\n",
       "            geo_json_5a9671910ac72dc29addbff99b3d2b8c\n",
       "                .addData(data);\n",
       "        }\n",
       "            geo_json_5a9671910ac72dc29addbff99b3d2b8c_add({&quot;bbox&quot;: [-128.63050842285156, -21.678028106689453, 80.53471374511719, 69.95662689208984], &quot;features&quot;: [{&quot;bbox&quot;: [-111.24476298371664, 15.77422351472844, -89.23399075394846, 28.307816719890695], &quot;geometry&quot;: {&quot;coordinates&quot;: [[[-89.23399075394846, 15.77422351472844], [-89.23399075394846, 28.307816719890695], [-111.24476298371664, 28.307816719890695], [-111.24476298371664, 15.77422351472844], [-89.23399075394846, 15.77422351472844]]], &quot;type&quot;: &quot;Polygon&quot;}, &quot;id&quot;: &quot;0&quot;, &quot;properties&quot;: {&quot;ref_id&quot;: &quot;2022_MEX_CIMMYT-1_POLY_111&quot;}, &quot;type&quot;: &quot;Feature&quot;}, {&quot;bbox&quot;: [34.237118518844476, -1.340650341663675, 38.027054599999985, 0.3726232], &quot;geometry&quot;: {&quot;coordinates&quot;: [[[38.027054599999985, -1.340650341663675], [38.027054599999985, 0.3726232], [34.237118518844476, 0.3726232], [34.237118518844476, -1.340650341663675], [38.027054599999985, -1.340650341663675]]], &quot;type&quot;: &quot;Polygon&quot;}, &quot;id&quot;: &quot;4&quot;, &quot;properties&quot;: {&quot;ref_id&quot;: &quot;2021_KEN_COPERNICUS-GEOGLAM-SR_POINT_111&quot;}, &quot;type&quot;: &quot;Feature&quot;}, {&quot;bbox&quot;: [34.23716760856754, -1.311330434107688, 38.0270674, 0.814360261907723], &quot;geometry&quot;: {&quot;coordinates&quot;: [[[38.0270674, -1.311330434107688], [38.0270674, 0.814360261907723], [34.23716760856754, 0.814360261907723], [34.23716760856754, -1.311330434107688], [38.0270674, -1.311330434107688]]], &quot;type&quot;: &quot;Polygon&quot;}, &quot;id&quot;: &quot;5&quot;, &quot;properties&quot;: {&quot;ref_id&quot;: &quot;2021_KEN_COPERNICUS-GEOGLAM-LR_POINT_111&quot;}, &quot;type&quot;: &quot;Feature&quot;}, {&quot;bbox&quot;: [-110.48077773940872, 15.783079624852384, -90.46381858260497, 27.71456270224077], &quot;geometry&quot;: {&quot;coordinates&quot;: [[[-90.46381858260497, 15.783079624852384], [-90.46381858260497, 27.71456270224077], [-110.48077773940872, 27.71456270224077], [-110.48077773940872, 15.783079624852384], [-90.46381858260497, 15.783079624852384]]], &quot;type&quot;: &quot;Polygon&quot;}, &quot;id&quot;: &quot;6&quot;, &quot;properties&quot;: {&quot;ref_id&quot;: &quot;2023_MEX_CIMMYT-1_POLY_111&quot;}, &quot;type&quot;: &quot;Feature&quot;}, {&quot;bbox&quot;: [-96.49032146957309, 18.089280924046303, -96.49032146957309, 18.089280924046303], &quot;geometry&quot;: {&quot;coordinates&quot;: [[[-96.49032146957309, 18.089280924046303], [-96.49032146957309, 18.089280924046303], [-96.49032146957309, 18.089280924046303], [-96.49032146957309, 18.089280924046303]]], &quot;type&quot;: &quot;Polygon&quot;}, &quot;id&quot;: &quot;7&quot;, &quot;properties&quot;: {&quot;ref_id&quot;: &quot;2019_MEX_CIMMYT-1_POLY_111&quot;}, &quot;type&quot;: &quot;Feature&quot;}, {&quot;bbox&quot;: [-110.01999146437443, 16.454923467740887, -89.09324750504916, 27.585289667699453], &quot;geometry&quot;: {&quot;coordinates&quot;: [[[-89.09324750504916, 16.454923467740887], [-89.09324750504916, 27.585289667699453], [-110.01999146437443, 27.585289667699453], [-110.01999146437443, 16.454923467740887], [-89.09324750504916, 16.454923467740887]]], &quot;type&quot;: &quot;Polygon&quot;}, &quot;id&quot;: &quot;8&quot;, &quot;properties&quot;: {&quot;ref_id&quot;: &quot;2021_MEX_CIMMYT-1_POLY_111&quot;}, &quot;type&quot;: &quot;Feature&quot;}, {&quot;bbox&quot;: [-5.1011430827295845, 41.37088049149909, 9.553068934886458, 51.04305462219833], &quot;geometry&quot;: {&quot;coordinates&quot;: [[[9.553068934886458, 41.37088049149909], [9.553068934886458, 51.04305462219833], [-5.1011430827295845, 51.04305462219833], [-5.1011430827295845, 41.37088049149909], [9.553068934886458, 41.37088049149909]]], &quot;type&quot;: &quot;Polygon&quot;}, &quot;id&quot;: &quot;9&quot;, &quot;properties&quot;: {&quot;ref_id&quot;: &quot;2023_FRA_LPIS_POLY_110&quot;}, &quot;type&quot;: &quot;Feature&quot;}, {&quot;bbox&quot;: [-114.93696591003867, 16.9335703208725, -89.55133517310176, 32.59656345396578], &quot;geometry&quot;: {&quot;coordinates&quot;: [[[-89.55133517310176, 16.9335703208725], [-89.55133517310176, 32.59656345396578], [-114.93696591003867, 32.59656345396578], [-114.93696591003867, 16.9335703208725], [-89.55133517310176, 16.9335703208725]]], &quot;type&quot;: &quot;Polygon&quot;}, &quot;id&quot;: &quot;10&quot;, &quot;properties&quot;: {&quot;ref_id&quot;: &quot;2020_MEX_CIMMYT-1_POLY_111&quot;}, &quot;type&quot;: &quot;Feature&quot;}, {&quot;bbox&quot;: [-5.104881364436561, 41.370796206624405, 9.552985522789376, 51.0411039972105], &quot;geometry&quot;: {&quot;coordinates&quot;: [[[9.552985522789376, 41.370796206624405], [9.552985522789376, 51.0411039972105], [-5.104881364436561, 51.0411039972105], [-5.104881364436561, 41.370796206624405], [9.552985522789376, 41.370796206624405]]], &quot;type&quot;: &quot;Polygon&quot;}, &quot;id&quot;: &quot;11&quot;, &quot;properties&quot;: {&quot;ref_id&quot;: &quot;2022_FRA_LPIS_POLY_110&quot;}, &quot;type&quot;: &quot;Feature&quot;}, {&quot;bbox&quot;: [-5.0707708392931865, 41.370787329205164, 9.551957326723032, 51.05982063855479], &quot;geometry&quot;: {&quot;coordinates&quot;: [[[9.551957326723032, 41.370787329205164], [9.551957326723032, 51.05982063855479], [-5.0707708392931865, 51.05982063855479], [-5.0707708392931865, 41.370787329205164], [9.551957326723032, 41.370787329205164]]], &quot;type&quot;: &quot;Polygon&quot;}, &quot;id&quot;: &quot;12&quot;, &quot;properties&quot;: {&quot;ref_id&quot;: &quot;2021_FRA_LPIS_POLY_110&quot;}, &quot;type&quot;: &quot;Feature&quot;}, {&quot;bbox&quot;: [-124.70075988769531, 25.416202545166016, -67.18846893310547, 48.99589157104492], &quot;geometry&quot;: {&quot;coordinates&quot;: [[[-67.18846893310547, 25.416202545166016], [-67.18846893310547, 48.99589157104492], [-124.70075988769531, 48.99589157104492], [-124.70075988769531, 25.416202545166016], [-67.18846893310547, 25.416202545166016]]], &quot;type&quot;: &quot;Polygon&quot;}, &quot;id&quot;: &quot;16&quot;, &quot;properties&quot;: {&quot;ref_id&quot;: &quot;2019_USA_USDA2019cdls_POINT_110&quot;}, &quot;type&quot;: &quot;Feature&quot;}, {&quot;bbox&quot;: [-3.8918633460998535, 10.96422004699707, -3.4158613681793213, 11.372222900390625], &quot;geometry&quot;: {&quot;coordinates&quot;: [[[-3.4158613681793213, 10.96422004699707], [-3.4158613681793213, 11.372222900390625], [-3.8918633460998535, 11.372222900390625], [-3.8918633460998535, 10.96422004699707], [-3.4158613681793213, 10.96422004699707]]], &quot;type&quot;: &quot;Polygon&quot;}, &quot;id&quot;: &quot;17&quot;, &quot;properties&quot;: {&quot;ref_id&quot;: &quot;2017_BFA_JECAM-CIRAD_POLY_111&quot;}, &quot;type&quot;: &quot;Feature&quot;}, {&quot;bbox&quot;: [-16.196767807006836, 16.271320343017578, -15.879287719726562, 16.47390365600586], &quot;geometry&quot;: {&quot;coordinates&quot;: [[[-15.879287719726562, 16.271320343017578], [-15.879287719726562, 16.47390365600586], [-16.196767807006836, 16.47390365600586], [-16.196767807006836, 16.271320343017578], [-15.879287719726562, 16.271320343017578]]], &quot;type&quot;: &quot;Polygon&quot;}, &quot;id&quot;: &quot;18&quot;, &quot;properties&quot;: {&quot;ref_id&quot;: &quot;2021_SEN_FAO-WAPOR-2_POLY_111&quot;}, &quot;type&quot;: &quot;Feature&quot;}, {&quot;bbox&quot;: [80.2415771484375, 8.135945320129395, 80.53471374511719, 8.600507736206055], &quot;geometry&quot;: {&quot;coordinates&quot;: [[[80.53471374511719, 8.135945320129395], [80.53471374511719, 8.600507736206055], [80.2415771484375, 8.600507736206055], [80.2415771484375, 8.135945320129395], [80.53471374511719, 8.135945320129395]]], &quot;type&quot;: &quot;Polygon&quot;}, &quot;id&quot;: &quot;19&quot;, &quot;properties&quot;: {&quot;ref_id&quot;: &quot;2021_LKA_FAO-WAPOR-1_POLY_111&quot;}, &quot;type&quot;: &quot;Feature&quot;}, {&quot;bbox&quot;: [20.996519088745117, 55.68141174316406, 28.17042350769043, 58.0380744934082], &quot;geometry&quot;: {&quot;coordinates&quot;: [[[28.17042350769043, 55.68141174316406], [28.17042350769043, 58.0380744934082], [20.996519088745117, 58.0380744934082], [20.996519088745117, 55.68141174316406], [28.17042350769043, 55.68141174316406]]], &quot;type&quot;: &quot;Polygon&quot;}, &quot;id&quot;: &quot;20&quot;, &quot;properties&quot;: {&quot;ref_id&quot;: &quot;2021_LVA_LPIS_POLY_110&quot;}, &quot;type&quot;: &quot;Feature&quot;}, {&quot;bbox&quot;: [-15.508495330810547, 4.513038158416748, 14.629583358764648, 13.133663177490234], &quot;geometry&quot;: {&quot;coordinates&quot;: [[[14.629583358764648, 4.513038158416748], [14.629583358764648, 13.133663177490234], [-15.508495330810547, 13.133663177490234], [-15.508495330810547, 4.513038158416748], [14.629583358764648, 4.513038158416748]]], &quot;type&quot;: &quot;Polygon&quot;}, &quot;id&quot;: &quot;21&quot;, &quot;properties&quot;: {&quot;ref_id&quot;: &quot;2019_AF_DE-WA-VAL1_POINT_100&quot;}, &quot;type&quot;: &quot;Feature&quot;}, {&quot;bbox&quot;: [9.583617210388184, 46.44801330566406, 17.100587844848633, 48.963645935058594], &quot;geometry&quot;: {&quot;coordinates&quot;: [[[17.100587844848633, 46.44801330566406], [17.100587844848633, 48.963645935058594], [9.583617210388184, 48.963645935058594], [9.583617210388184, 46.44801330566406], [17.100587844848633, 46.44801330566406]]], &quot;type&quot;: &quot;Polygon&quot;}, &quot;id&quot;: &quot;22&quot;, &quot;properties&quot;: {&quot;ref_id&quot;: &quot;2017_AUT_LPIS_POLY_110&quot;}, &quot;type&quot;: &quot;Feature&quot;}, {&quot;bbox&quot;: [33.54680633544922, 1.427232265472412, 35.000152587890625, 3.726500988006592], &quot;geometry&quot;: {&quot;coordinates&quot;: [[[35.000152587890625, 1.427232265472412], [35.000152587890625, 3.726500988006592], [33.54680633544922, 3.726500988006592], [33.54680633544922, 1.427232265472412], [35.000152587890625, 1.427232265472412]]], &quot;type&quot;: &quot;Polygon&quot;}, &quot;id&quot;: &quot;23&quot;, &quot;properties&quot;: {&quot;ref_id&quot;: &quot;2017_UGA_RadiantEarth-01_POLY_110&quot;}, &quot;type&quot;: &quot;Feature&quot;}, {&quot;bbox&quot;: [2.580875873565674, 50.693275451660156, 5.869563579559326, 51.492305755615234], &quot;geometry&quot;: {&quot;coordinates&quot;: [[[5.869563579559326, 50.693275451660156], [5.869563579559326, 51.492305755615234], [2.580875873565674, 51.492305755615234], [2.580875873565674, 50.693275451660156], [5.869563579559326, 50.693275451660156]]], &quot;type&quot;: &quot;Polygon&quot;}, &quot;id&quot;: &quot;24&quot;, &quot;properties&quot;: {&quot;ref_id&quot;: &quot;2019_BEL_LPIS-Flanders_POLY_110&quot;}, &quot;type&quot;: &quot;Feature&quot;}, {&quot;bbox&quot;: [-10.181724548339844, 34.598350524902344, 34.0600471496582, 69.95662689208984], &quot;geometry&quot;: {&quot;coordinates&quot;: [[[34.0600471496582, 34.598350524902344], [34.0600471496582, 69.95662689208984], [-10.181724548339844, 69.95662689208984], [-10.181724548339844, 34.598350524902344], [34.0600471496582, 34.598350524902344]]], &quot;type&quot;: &quot;Polygon&quot;}, &quot;id&quot;: &quot;25&quot;, &quot;properties&quot;: {&quot;ref_id&quot;: &quot;2018_EU_LUCAS_POINT_110&quot;}, &quot;type&quot;: &quot;Feature&quot;}, {&quot;bbox&quot;: [2.576361656188965, 50.698402404785156, 5.8744893074035645, 51.48618698120117], &quot;geometry&quot;: {&quot;coordinates&quot;: [[[5.8744893074035645, 50.698402404785156], [5.8744893074035645, 51.48618698120117], [2.576361656188965, 51.48618698120117], [2.576361656188965, 50.698402404785156], [5.8744893074035645, 50.698402404785156]]], &quot;type&quot;: &quot;Polygon&quot;}, &quot;id&quot;: &quot;26&quot;, &quot;properties&quot;: {&quot;ref_id&quot;: &quot;2021_BEL_LPIS-Flanders_POLY_110&quot;}, &quot;type&quot;: &quot;Feature&quot;}, {&quot;bbox&quot;: [31.297565460205078, 30.486265182495117, 31.5733585357666, 30.8079833984375], &quot;geometry&quot;: {&quot;coordinates&quot;: [[[31.5733585357666, 30.486265182495117], [31.5733585357666, 30.8079833984375], [31.297565460205078, 30.8079833984375], [31.297565460205078, 30.486265182495117], [31.5733585357666, 30.486265182495117]]], &quot;type&quot;: &quot;Polygon&quot;}, &quot;id&quot;: &quot;27&quot;, &quot;properties&quot;: {&quot;ref_id&quot;: &quot;2019_EGY_FAO-WAPOR-1_POLY_111&quot;}, &quot;type&quot;: &quot;Feature&quot;}, {&quot;bbox&quot;: [30.22799301147461, -1.6508232355117798, 30.466726303100586, -1.0513346195220947], &quot;geometry&quot;: {&quot;coordinates&quot;: [[[30.466726303100586, -1.6508232355117798], [30.466726303100586, -1.0513346195220947], [30.22799301147461, -1.0513346195220947], [30.22799301147461, -1.6508232355117798], [30.466726303100586, -1.6508232355117798]]], &quot;type&quot;: &quot;Polygon&quot;}, &quot;id&quot;: &quot;28&quot;, &quot;properties&quot;: {&quot;ref_id&quot;: &quot;2020_RWA_FAO-WAPOR-1_POINT_111&quot;}, &quot;type&quot;: &quot;Feature&quot;}, {&quot;bbox&quot;: [-4.70148229598999, 41.46482849121094, 9.466245651245117, 50.95543670654297], &quot;geometry&quot;: {&quot;coordinates&quot;: [[[9.466245651245117, 41.46482849121094], [9.466245651245117, 50.95543670654297], [-4.70148229598999, 50.95543670654297], [-4.70148229598999, 41.46482849121094], [9.466245651245117, 41.46482849121094]]], &quot;type&quot;: &quot;Polygon&quot;}, &quot;id&quot;: &quot;29&quot;, &quot;properties&quot;: {&quot;ref_id&quot;: &quot;2019_FRA_LPIS_POLY_110&quot;}, &quot;type&quot;: &quot;Feature&quot;}, {&quot;bbox&quot;: [20.999818801879883, 55.677734375, 28.169252395629883, 58.03453063964844], &quot;geometry&quot;: {&quot;coordinates&quot;: [[[28.169252395629883, 55.677734375], [28.169252395629883, 58.03453063964844], [20.999818801879883, 58.03453063964844], [20.999818801879883, 55.677734375], [28.169252395629883, 55.677734375]]], &quot;type&quot;: &quot;Polygon&quot;}, &quot;id&quot;: &quot;30&quot;, &quot;properties&quot;: {&quot;ref_id&quot;: &quot;2019_LVA_LPIS_POLY_110&quot;}, &quot;type&quot;: &quot;Feature&quot;}, {&quot;bbox&quot;: [9.572928428649902, 46.470436096191406, 17.089534759521484, 49.009796142578125], &quot;geometry&quot;: {&quot;coordinates&quot;: [[[17.089534759521484, 46.470436096191406], [17.089534759521484, 49.009796142578125], [9.572928428649902, 49.009796142578125], [9.572928428649902, 46.470436096191406], [17.089534759521484, 46.470436096191406]]], &quot;type&quot;: &quot;Polygon&quot;}, &quot;id&quot;: &quot;31&quot;, &quot;properties&quot;: {&quot;ref_id&quot;: &quot;2020_AUT_LPIS_POLY_110&quot;}, &quot;type&quot;: &quot;Feature&quot;}, {&quot;bbox&quot;: [2.5866286754608154, 50.6978645324707, 5.853760719299316, 51.493377685546875], &quot;geometry&quot;: {&quot;coordinates&quot;: [[[5.853760719299316, 50.6978645324707], [5.853760719299316, 51.493377685546875], [2.5866286754608154, 51.493377685546875], [2.5866286754608154, 50.6978645324707], [5.853760719299316, 50.6978645324707]]], &quot;type&quot;: &quot;Polygon&quot;}, &quot;id&quot;: &quot;32&quot;, &quot;properties&quot;: {&quot;ref_id&quot;: &quot;2017_BEL_LPIS-Flanders_POLY_110&quot;}, &quot;type&quot;: &quot;Feature&quot;}, {&quot;bbox&quot;: [74.66847229003906, 28.97101402282715, 77.7083969116211, 30.895906448364258], &quot;geometry&quot;: {&quot;coordinates&quot;: [[[77.7083969116211, 28.97101402282715], [77.7083969116211, 30.895906448364258], [74.66847229003906, 30.895906448364258], [74.66847229003906, 28.97101402282715], [77.7083969116211, 28.97101402282715]]], &quot;type&quot;: &quot;Polygon&quot;}, &quot;id&quot;: &quot;33&quot;, &quot;properties&quot;: {&quot;ref_id&quot;: &quot;2018_IND_CGIAR-GARDIAN_POINT_110&quot;}, &quot;type&quot;: &quot;Feature&quot;}, {&quot;bbox&quot;: [2.583494186401367, 50.6895866394043, 5.856476306915283, 51.4901008605957], &quot;geometry&quot;: {&quot;coordinates&quot;: [[[5.856476306915283, 50.6895866394043], [5.856476306915283, 51.4901008605957], [2.583494186401367, 51.4901008605957], [2.583494186401367, 50.6895866394043], [5.856476306915283, 50.6895866394043]]], &quot;type&quot;: &quot;Polygon&quot;}, &quot;id&quot;: &quot;34&quot;, &quot;properties&quot;: {&quot;ref_id&quot;: &quot;2018_BEL_LPIS-Flanders_POLY_110&quot;}, &quot;type&quot;: &quot;Feature&quot;}, {&quot;bbox&quot;: [33.1846923828125, -8.9956636428833, 35.90475082397461, 1.2304428815841675], &quot;geometry&quot;: {&quot;coordinates&quot;: [[[35.90475082397461, -8.9956636428833], [35.90475082397461, 1.2304428815841675], [33.1846923828125, 1.2304428815841675], [33.1846923828125, -8.9956636428833], [35.90475082397461, -8.9956636428833]]], &quot;type&quot;: &quot;Polygon&quot;}, &quot;id&quot;: &quot;35&quot;, &quot;properties&quot;: {&quot;ref_id&quot;: &quot;2018_AF_One-Acre-Fund-MEL_POINT_110&quot;}, &quot;type&quot;: &quot;Feature&quot;}, {&quot;bbox&quot;: [-4.743924617767334, 41.58467483520508, 9.53146743774414, 51.04138946533203], &quot;geometry&quot;: {&quot;coordinates&quot;: [[[9.53146743774414, 41.58467483520508], [9.53146743774414, 51.04138946533203], [-4.743924617767334, 51.04138946533203], [-4.743924617767334, 41.58467483520508], [9.53146743774414, 41.58467483520508]]], &quot;type&quot;: &quot;Polygon&quot;}, &quot;id&quot;: &quot;36&quot;, &quot;properties&quot;: {&quot;ref_id&quot;: &quot;2020_FRA_LPIS_POLY_110&quot;}, &quot;type&quot;: &quot;Feature&quot;}, {&quot;bbox&quot;: [-4.747556686401367, 41.75810623168945, 9.50616455078125, 50.954063415527344], &quot;geometry&quot;: {&quot;coordinates&quot;: [[[9.50616455078125, 41.75810623168945], [9.50616455078125, 50.954063415527344], [-4.747556686401367, 50.954063415527344], [-4.747556686401367, 41.75810623168945], [9.50616455078125, 41.75810623168945]]], &quot;type&quot;: &quot;Polygon&quot;}, &quot;id&quot;: &quot;37&quot;, &quot;properties&quot;: {&quot;ref_id&quot;: &quot;2017_FRA_LPIS_POLY_110&quot;}, &quot;type&quot;: &quot;Feature&quot;}, {&quot;bbox&quot;: [-4.71554708480835, 41.939083099365234, 8.895271301269531, 51.057186126708984], &quot;geometry&quot;: {&quot;coordinates&quot;: [[[8.895271301269531, 41.939083099365234], [8.895271301269531, 51.057186126708984], [-4.71554708480835, 51.057186126708984], [-4.71554708480835, 41.939083099365234], [8.895271301269531, 41.939083099365234]]], &quot;type&quot;: &quot;Polygon&quot;}, &quot;id&quot;: &quot;38&quot;, &quot;properties&quot;: {&quot;ref_id&quot;: &quot;2018_FRA_LPIS_POLY_110&quot;}, &quot;type&quot;: &quot;Feature&quot;}, {&quot;bbox&quot;: [9.620453834533691, 46.47041320800781, 17.07604217529297, 48.983646392822266], &quot;geometry&quot;: {&quot;coordinates&quot;: [[[17.07604217529297, 46.47041320800781], [17.07604217529297, 48.983646392822266], [9.620453834533691, 48.983646392822266], [9.620453834533691, 46.47041320800781], [17.07604217529297, 46.47041320800781]]], &quot;type&quot;: &quot;Polygon&quot;}, &quot;id&quot;: &quot;39&quot;, &quot;properties&quot;: {&quot;ref_id&quot;: &quot;2021_AUT_LPIS_POLY_110&quot;}, &quot;type&quot;: &quot;Feature&quot;}, {&quot;bbox&quot;: [9.598655700683594, 46.46418762207031, 17.098451614379883, 48.96745681762695], &quot;geometry&quot;: {&quot;coordinates&quot;: [[[17.098451614379883, 46.46418762207031], [17.098451614379883, 48.96745681762695], [9.598655700683594, 48.96745681762695], [9.598655700683594, 46.46418762207031], [17.098451614379883, 46.46418762207031]]], &quot;type&quot;: &quot;Polygon&quot;}, &quot;id&quot;: &quot;40&quot;, &quot;properties&quot;: {&quot;ref_id&quot;: &quot;2019_AUT_LPIS_POLY_110&quot;}, &quot;type&quot;: &quot;Feature&quot;}, {&quot;bbox&quot;: [0.2216624021530151, 40.53775405883789, 3.1939938068389893, 42.450477600097656], &quot;geometry&quot;: {&quot;coordinates&quot;: [[[3.1939938068389893, 40.53775405883789], [3.1939938068389893, 42.450477600097656], [0.2216624021530151, 42.450477600097656], [0.2216624021530151, 40.53775405883789], [3.1939938068389893, 40.53775405883789]]], &quot;type&quot;: &quot;Polygon&quot;}, &quot;id&quot;: &quot;41&quot;, &quot;properties&quot;: {&quot;ref_id&quot;: &quot;2019_ESP_SIGPAC-Catalunya_POLY_111&quot;}, &quot;type&quot;: &quot;Feature&quot;}, {&quot;bbox&quot;: [30.439964294433594, -3.7400567531585693, 33.74934768676758, -1.003247857093811], &quot;geometry&quot;: {&quot;coordinates&quot;: [[[33.74934768676758, -3.7400567531585693], [33.74934768676758, -1.003247857093811], [30.439964294433594, -1.003247857093811], [30.439964294433594, -3.7400567531585693], [33.74934768676758, -3.7400567531585693]]], &quot;type&quot;: &quot;Polygon&quot;}, &quot;id&quot;: &quot;43&quot;, &quot;properties&quot;: {&quot;ref_id&quot;: &quot;2019_TZA_OSF-AFSIS_POINT_110&quot;}, &quot;type&quot;: &quot;Feature&quot;}, {&quot;bbox&quot;: [34.95766067504883, -7.022794723510742, 39.099525451660156, -3.6524534225463867], &quot;geometry&quot;: {&quot;coordinates&quot;: [[[39.099525451660156, -7.022794723510742], [39.099525451660156, -3.6524534225463867], [34.95766067504883, -3.6524534225463867], [34.95766067504883, -7.022794723510742], [39.099525451660156, -7.022794723510742]]], &quot;type&quot;: &quot;Polygon&quot;}, &quot;id&quot;: &quot;44&quot;, &quot;properties&quot;: {&quot;ref_id&quot;: &quot;2021_TZA_COPERNICUS-GEOGLAM_POINT_110&quot;}, &quot;type&quot;: &quot;Feature&quot;}, {&quot;bbox&quot;: [35.73062515258789, -3.360645055770874, 37.156593322753906, -2.8473918437957764], &quot;geometry&quot;: {&quot;coordinates&quot;: [[[37.156593322753906, -3.360645055770874], [37.156593322753906, -2.8473918437957764], [35.73062515258789, -2.8473918437957764], [35.73062515258789, -3.360645055770874], [37.156593322753906, -3.360645055770874]]], &quot;type&quot;: &quot;Polygon&quot;}, &quot;id&quot;: &quot;45&quot;, &quot;properties&quot;: {&quot;ref_id&quot;: &quot;2019_TZA_CIMMYT-DM2_POINT_110&quot;}, &quot;type&quot;: &quot;Feature&quot;}, {&quot;bbox&quot;: [-128.63050842285156, 41.98576354980469, -52.76439666748047, 56.893917083740234], &quot;geometry&quot;: {&quot;coordinates&quot;: [[[-52.76439666748047, 41.98576354980469], [-52.76439666748047, 56.893917083740234], [-128.63050842285156, 56.893917083740234], [-128.63050842285156, 41.98576354980469], [-52.76439666748047, 41.98576354980469]]], &quot;type&quot;: &quot;Polygon&quot;}, &quot;id&quot;: &quot;46&quot;, &quot;properties&quot;: {&quot;ref_id&quot;: &quot;2019_CAN_AAFC-Crop-Inventory_POINT_110&quot;}, &quot;type&quot;: &quot;Feature&quot;}, {&quot;bbox&quot;: [28.902944564819336, -2.6796715259552, 35.64360809326172, 1.1927341222763062], &quot;geometry&quot;: {&quot;coordinates&quot;: [[[35.64360809326172, -2.6796715259552], [35.64360809326172, 1.1927341222763062], [28.902944564819336, 1.1927341222763062], [28.902944564819336, -2.6796715259552], [35.64360809326172, -2.6796715259552]]], &quot;type&quot;: &quot;Polygon&quot;}, &quot;id&quot;: &quot;47&quot;, &quot;properties&quot;: {&quot;ref_id&quot;: &quot;2019_AF_One-Acre-Fund-MEL_POINT_110&quot;}, &quot;type&quot;: &quot;Feature&quot;}, {&quot;bbox&quot;: [-123.16102600097656, 42.29411315917969, -52.68210220336914, 50.88865280151367], &quot;geometry&quot;: {&quot;coordinates&quot;: [[[-52.68210220336914, 42.29411315917969], [-52.68210220336914, 50.88865280151367], [-123.16102600097656, 50.88865280151367], [-123.16102600097656, 42.29411315917969], [-52.68210220336914, 42.29411315917969]]], &quot;type&quot;: &quot;Polygon&quot;}, &quot;id&quot;: &quot;48&quot;, &quot;properties&quot;: {&quot;ref_id&quot;: &quot;2020_CAN_AAFC-Crop-Inventory_POINT_110&quot;}, &quot;type&quot;: &quot;Feature&quot;}, {&quot;bbox&quot;: [-123.86779022216797, 41.9956169128418, -52.76453399658203, 51.16946792602539], &quot;geometry&quot;: {&quot;coordinates&quot;: [[[-52.76453399658203, 41.9956169128418], [-52.76453399658203, 51.16946792602539], [-123.86779022216797, 51.16946792602539], [-123.86779022216797, 41.9956169128418], [-52.76453399658203, 41.9956169128418]]], &quot;type&quot;: &quot;Polygon&quot;}, &quot;id&quot;: &quot;49&quot;, &quot;properties&quot;: {&quot;ref_id&quot;: &quot;2017_CAN_AAFC-Crop-Inventory_POINT_110&quot;}, &quot;type&quot;: &quot;Feature&quot;}, {&quot;bbox&quot;: [-123.16567993164062, 41.98875427246094, -52.76358413696289, 51.03355026245117], &quot;geometry&quot;: {&quot;coordinates&quot;: [[[-52.76358413696289, 41.98875427246094], [-52.76358413696289, 51.03355026245117], [-123.16567993164062, 51.03355026245117], [-123.16567993164062, 41.98875427246094], [-52.76358413696289, 41.98875427246094]]], &quot;type&quot;: &quot;Polygon&quot;}, &quot;id&quot;: &quot;50&quot;, &quot;properties&quot;: {&quot;ref_id&quot;: &quot;2018_CAN_AAFC-Crop-Inventory_POINT_110&quot;}, &quot;type&quot;: &quot;Feature&quot;}, {&quot;bbox&quot;: [46.989200592041016, -19.838232040405273, 47.19337463378906, -19.54886245727539], &quot;geometry&quot;: {&quot;coordinates&quot;: [[[47.19337463378906, -19.838232040405273], [47.19337463378906, -19.54886245727539], [46.989200592041016, -19.54886245727539], [46.989200592041016, -19.838232040405273], [47.19337463378906, -19.838232040405273]]], &quot;type&quot;: &quot;Polygon&quot;}, &quot;id&quot;: &quot;51&quot;, &quot;properties&quot;: {&quot;ref_id&quot;: &quot;2019_MDG_JECAM-CIRAD_POLY_111&quot;}, &quot;type&quot;: &quot;Feature&quot;}, {&quot;bbox&quot;: [9.589802742004395, 46.45228958129883, 17.07805824279785, 48.96971130371094], &quot;geometry&quot;: {&quot;coordinates&quot;: [[[17.07805824279785, 46.45228958129883], [17.07805824279785, 48.96971130371094], [9.589802742004395, 48.96971130371094], [9.589802742004395, 46.45228958129883], [17.07805824279785, 46.45228958129883]]], &quot;type&quot;: &quot;Polygon&quot;}, &quot;id&quot;: &quot;52&quot;, &quot;properties&quot;: {&quot;ref_id&quot;: &quot;2018_AUT_LPIS_POLY_110&quot;}, &quot;type&quot;: &quot;Feature&quot;}, {&quot;bbox&quot;: [-16.004634857177734, 4.398997783660889, 14.583907127380371, 13.700179100036621], &quot;geometry&quot;: {&quot;coordinates&quot;: [[[14.583907127380371, 4.398997783660889], [14.583907127380371, 13.700179100036621], [-16.004634857177734, 13.700179100036621], [-16.004634857177734, 4.398997783660889], [14.583907127380371, 4.398997783660889]]], &quot;type&quot;: &quot;Polygon&quot;}, &quot;id&quot;: &quot;53&quot;, &quot;properties&quot;: {&quot;ref_id&quot;: &quot;2019_AF_DE-WA-TRAIN1_POLY_100&quot;}, &quot;type&quot;: &quot;Feature&quot;}, {&quot;bbox&quot;: [30.59166145324707, -2.121800184249878, 30.8447208404541, -1.7371633052825928], &quot;geometry&quot;: {&quot;coordinates&quot;: [[[30.8447208404541, -2.121800184249878], [30.8447208404541, -1.7371633052825928], [30.59166145324707, -1.7371633052825928], [30.59166145324707, -2.121800184249878], [30.8447208404541, -2.121800184249878]]], &quot;type&quot;: &quot;Polygon&quot;}, &quot;id&quot;: &quot;54&quot;, &quot;properties&quot;: {&quot;ref_id&quot;: &quot;2021_RWA_FAO-WAPOR-Akagera_POLY_111&quot;}, &quot;type&quot;: &quot;Feature&quot;}, {&quot;bbox&quot;: [65.23281860351562, 38.68492126464844, 71.81958770751953, 40.59376907348633], &quot;geometry&quot;: {&quot;coordinates&quot;: [[[71.81958770751953, 38.68492126464844], [71.81958770751953, 40.59376907348633], [65.23281860351562, 40.59376907348633], [65.23281860351562, 38.68492126464844], [71.81958770751953, 38.68492126464844]]], &quot;type&quot;: &quot;Polygon&quot;}, &quot;id&quot;: &quot;55&quot;, &quot;properties&quot;: {&quot;ref_id&quot;: &quot;2018_AS_CAWA-project_POLY_111&quot;}, &quot;type&quot;: &quot;Feature&quot;}, {&quot;bbox&quot;: [-46.382198333740234, -13.995494842529297, -45.502315521240234, -11.768394470214844], &quot;geometry&quot;: {&quot;coordinates&quot;: [[[-45.502315521240234, -13.995494842529297], [-45.502315521240234, -11.768394470214844], [-46.382198333740234, -11.768394470214844], [-46.382198333740234, -13.995494842529297], [-45.502315521240234, -13.995494842529297]]], &quot;type&quot;: &quot;Polygon&quot;}, &quot;id&quot;: &quot;56&quot;, &quot;properties&quot;: {&quot;ref_id&quot;: &quot;2020_BRA_INPE-LEM-MAR_POLY_110&quot;}, &quot;type&quot;: &quot;Feature&quot;}, {&quot;bbox&quot;: [-3.8918635845184326, 10.964333534240723, -3.41809344291687, 11.372109413146973], &quot;geometry&quot;: {&quot;coordinates&quot;: [[[-3.41809344291687, 10.964333534240723], [-3.41809344291687, 11.372109413146973], [-3.8918635845184326, 11.372109413146973], [-3.8918635845184326, 10.964333534240723], [-3.41809344291687, 10.964333534240723]]], &quot;type&quot;: &quot;Polygon&quot;}, &quot;id&quot;: &quot;57&quot;, &quot;properties&quot;: {&quot;ref_id&quot;: &quot;2018_BFA_JECAM-CIRAD_POLY_111&quot;}, &quot;type&quot;: &quot;Feature&quot;}, {&quot;bbox&quot;: [32.078025817871094, -4.244385242462158, 36.63187789916992, -1.1050931215286255], &quot;geometry&quot;: {&quot;coordinates&quot;: [[[36.63187789916992, -4.244385242462158], [36.63187789916992, -1.1050931215286255], [32.078025817871094, -1.1050931215286255], [32.078025817871094, -4.244385242462158], [36.63187789916992, -4.244385242462158]]], &quot;type&quot;: &quot;Polygon&quot;}, &quot;id&quot;: &quot;58&quot;, &quot;properties&quot;: {&quot;ref_id&quot;: &quot;2018_TZA_OSF-AFSIS_POINT_110&quot;}, &quot;type&quot;: &quot;Feature&quot;}, {&quot;bbox&quot;: [-6.197659015655518, 13.796799659729004, -5.870111465454102, 14.510499954223633], &quot;geometry&quot;: {&quot;coordinates&quot;: [[[-5.870111465454102, 13.796799659729004], [-5.870111465454102, 14.510499954223633], [-6.197659015655518, 14.510499954223633], [-6.197659015655518, 13.796799659729004], [-5.870111465454102, 13.796799659729004]]], &quot;type&quot;: &quot;Polygon&quot;}, &quot;id&quot;: &quot;59&quot;, &quot;properties&quot;: {&quot;ref_id&quot;: &quot;2018_NER_FAO-WAPOR-1_POLY_111&quot;}, &quot;type&quot;: &quot;Feature&quot;}, {&quot;bbox&quot;: [32.724945068359375, -9.601824760437012, 36.795230865478516, -3.3124146461486816], &quot;geometry&quot;: {&quot;coordinates&quot;: [[[36.795230865478516, -9.601824760437012], [36.795230865478516, -3.3124146461486816], [32.724945068359375, -3.3124146461486816], [32.724945068359375, -9.601824760437012], [36.795230865478516, -9.601824760437012]]], &quot;type&quot;: &quot;Polygon&quot;}, &quot;id&quot;: &quot;60&quot;, &quot;properties&quot;: {&quot;ref_id&quot;: &quot;2019_TZA_One-Acre-Fund-MEL_POINT_110&quot;}, &quot;type&quot;: &quot;Feature&quot;}, {&quot;bbox&quot;: [30.23374366760254, -1.6510266065597534, 30.457006454467773, -1.0497955083847046], &quot;geometry&quot;: {&quot;coordinates&quot;: [[[30.457006454467773, -1.6510266065597534], [30.457006454467773, -1.0497955083847046], [30.23374366760254, -1.0497955083847046], [30.23374366760254, -1.6510266065597534], [30.457006454467773, -1.6510266065597534]]], &quot;type&quot;: &quot;Polygon&quot;}, &quot;id&quot;: &quot;61&quot;, &quot;properties&quot;: {&quot;ref_id&quot;: &quot;2021_RWA_FAO-WAPOR-Muvu_POLY_111&quot;}, &quot;type&quot;: &quot;Feature&quot;}, {&quot;bbox&quot;: [33.41973876953125, -3.100416660308838, 41.449012756347656, 3.8135178089141846], &quot;geometry&quot;: {&quot;coordinates&quot;: [[[41.449012756347656, -3.100416660308838], [41.449012756347656, 3.8135178089141846], [33.41973876953125, 3.8135178089141846], [33.41973876953125, -3.100416660308838], [41.449012756347656, -3.100416660308838]]], &quot;type&quot;: &quot;Polygon&quot;}, &quot;id&quot;: &quot;62&quot;, &quot;properties&quot;: {&quot;ref_id&quot;: &quot;2019_KEN_NHI-CROP-HARVEST_POINT_100&quot;}, &quot;type&quot;: &quot;Feature&quot;}, {&quot;bbox&quot;: [70.91657257080078, 40.32033920288086, 71.66497039794922, 40.62216567993164], &quot;geometry&quot;: {&quot;coordinates&quot;: [[[71.66497039794922, 40.32033920288086], [71.66497039794922, 40.62216567993164], [70.91657257080078, 40.62216567993164], [70.91657257080078, 40.32033920288086], [71.66497039794922, 40.32033920288086]]], &quot;type&quot;: &quot;Polygon&quot;}, &quot;id&quot;: &quot;63&quot;, &quot;properties&quot;: {&quot;ref_id&quot;: &quot;2017_AS_CAWA-project_POLY_111&quot;}, &quot;type&quot;: &quot;Feature&quot;}, {&quot;bbox&quot;: [9.173481941223145, 2.2944796085357666, 15.109567642211914, 10.583845138549805], &quot;geometry&quot;: {&quot;coordinates&quot;: [[[15.109567642211914, 2.2944796085357666], [15.109567642211914, 10.583845138549805], [9.173481941223145, 10.583845138549805], [9.173481941223145, 2.2944796085357666], [15.109567642211914, 2.2944796085357666]]], &quot;type&quot;: &quot;Polygon&quot;}, &quot;id&quot;: &quot;64&quot;, &quot;properties&quot;: {&quot;ref_id&quot;: &quot;2017_CMR_CGIAR-GARDIAN_POINT_110&quot;}, &quot;type&quot;: &quot;Feature&quot;}, {&quot;bbox&quot;: [27.77925682067871, -21.678028106689453, 32.25233459472656, -16.579879760742188], &quot;geometry&quot;: {&quot;coordinates&quot;: [[[32.25233459472656, -21.678028106689453], [32.25233459472656, -16.579879760742188], [27.77925682067871, -16.579879760742188], [27.77925682067871, -21.678028106689453], [32.25233459472656, -21.678028106689453]]], &quot;type&quot;: &quot;Polygon&quot;}, &quot;id&quot;: &quot;66&quot;, &quot;properties&quot;: {&quot;ref_id&quot;: &quot;2020_ZWE_NHI-CROP-HARVEST_POINT_110&quot;}, &quot;type&quot;: &quot;Feature&quot;}, {&quot;bbox&quot;: [29.92193031311035, -1.9326441287994385, 30.027311325073242, -1.7225873470306396], &quot;geometry&quot;: {&quot;coordinates&quot;: [[[30.027311325073242, -1.9326441287994385], [30.027311325073242, -1.7225873470306396], [29.92193031311035, -1.7225873470306396], [29.92193031311035, -1.9326441287994385], [30.027311325073242, -1.9326441287994385]]], &quot;type&quot;: &quot;Polygon&quot;}, &quot;id&quot;: &quot;67&quot;, &quot;properties&quot;: {&quot;ref_id&quot;: &quot;2020_RWA_FAO-WAPOR-2_POINT_111&quot;}, &quot;type&quot;: &quot;Feature&quot;}, {&quot;bbox&quot;: [-7.505279541015625, -0.0593990124762058, 34.87947082519531, 12.416449546813965], &quot;geometry&quot;: {&quot;coordinates&quot;: [[[34.87947082519531, -0.0593990124762058], [34.87947082519531, 12.416449546813965], [-7.505279541015625, 12.416449546813965], [-7.505279541015625, -0.0593990124762058], [34.87947082519531, -0.0593990124762058]]], &quot;type&quot;: &quot;Polygon&quot;}, &quot;id&quot;: &quot;68&quot;, &quot;properties&quot;: {&quot;ref_id&quot;: &quot;2019_AF_NHI-CROP-HARVEST_POLY_100&quot;}, &quot;type&quot;: &quot;Feature&quot;}, {&quot;bbox&quot;: [-16.537084579467773, 14.455133438110352, -16.355791091918945, 14.629437446594238], &quot;geometry&quot;: {&quot;coordinates&quot;: [[[-16.355791091918945, 14.455133438110352], [-16.355791091918945, 14.629437446594238], [-16.537084579467773, 14.629437446594238], [-16.537084579467773, 14.455133438110352], [-16.355791091918945, 14.455133438110352]]], &quot;type&quot;: &quot;Polygon&quot;}, &quot;id&quot;: &quot;69&quot;, &quot;properties&quot;: {&quot;ref_id&quot;: &quot;2019_SEN_JECAM-CIRAD_POLY_111&quot;}, &quot;type&quot;: &quot;Feature&quot;}, {&quot;bbox&quot;: [37.050270080566406, 11.33890438079834, 37.141082763671875, 11.518500328063965], &quot;geometry&quot;: {&quot;coordinates&quot;: [[[37.141082763671875, 11.33890438079834], [37.141082763671875, 11.518500328063965], [37.050270080566406, 11.518500328063965], [37.050270080566406, 11.33890438079834], [37.141082763671875, 11.33890438079834]]], &quot;type&quot;: &quot;Polygon&quot;}, &quot;id&quot;: &quot;70&quot;, &quot;properties&quot;: {&quot;ref_id&quot;: &quot;2018_ETH_FAO-WAPOR-1_POLY_111&quot;}, &quot;type&quot;: &quot;Feature&quot;}, {&quot;bbox&quot;: [34.05341339111328, -1.1181285381317139, 35.38556671142578, 1.1413365602493286], &quot;geometry&quot;: {&quot;coordinates&quot;: [[[35.38556671142578, -1.1181285381317139], [35.38556671142578, 1.1413365602493286], [34.05341339111328, 1.1413365602493286], [34.05341339111328, -1.1181285381317139], [35.38556671142578, -1.1181285381317139]]], &quot;type&quot;: &quot;Polygon&quot;}, &quot;id&quot;: &quot;71&quot;, &quot;properties&quot;: {&quot;ref_id&quot;: &quot;2017_AF_One-Acre-Fund-MEL_POINT_110&quot;}, &quot;type&quot;: &quot;Feature&quot;}, {&quot;bbox&quot;: [5.325478553771973, 8.157315254211426, 11.715032577514648, 11.61763858795166], &quot;geometry&quot;: {&quot;coordinates&quot;: [[[11.715032577514648, 8.157315254211426], [11.715032577514648, 11.61763858795166], [5.325478553771973, 11.61763858795166], [5.325478553771973, 8.157315254211426], [11.715032577514648, 8.157315254211426]]], &quot;type&quot;: &quot;Polygon&quot;}, &quot;id&quot;: &quot;72&quot;, &quot;properties&quot;: {&quot;ref_id&quot;: &quot;2017_NGA_CGIAR-GARDIAN_POINT_110&quot;}, &quot;type&quot;: &quot;Feature&quot;}, {&quot;bbox&quot;: [29.922977447509766, -1.9261358976364136, 30.02227210998535, -1.7289873361587524], &quot;geometry&quot;: {&quot;coordinates&quot;: [[[30.02227210998535, -1.9261358976364136], [30.02227210998535, -1.7289873361587524], [29.922977447509766, -1.7289873361587524], [29.922977447509766, -1.9261358976364136], [30.02227210998535, -1.9261358976364136]]], &quot;type&quot;: &quot;Polygon&quot;}, &quot;id&quot;: &quot;73&quot;, &quot;properties&quot;: {&quot;ref_id&quot;: &quot;2021_RWA_FAO-WAPOR-Yan_POLY_111&quot;}, &quot;type&quot;: &quot;Feature&quot;}, {&quot;bbox&quot;: [39.214256286621094, 8.373150825500488, 39.73099899291992, 8.612884521484375], &quot;geometry&quot;: {&quot;coordinates&quot;: [[[39.73099899291992, 8.373150825500488], [39.73099899291992, 8.612884521484375], [39.214256286621094, 8.612884521484375], [39.214256286621094, 8.373150825500488], [39.73099899291992, 8.373150825500488]]], &quot;type&quot;: &quot;Polygon&quot;}, &quot;id&quot;: &quot;74&quot;, &quot;properties&quot;: {&quot;ref_id&quot;: &quot;2018_ETH_FAO-WAPOR-2_POLY_111&quot;}, &quot;type&quot;: &quot;Feature&quot;}, {&quot;bbox&quot;: [35.761375427246094, 33.68067932128906, 35.81632614135742, 33.75495147705078], &quot;geometry&quot;: {&quot;coordinates&quot;: [[[35.81632614135742, 33.68067932128906], [35.81632614135742, 33.75495147705078], [35.761375427246094, 33.75495147705078], [35.761375427246094, 33.68067932128906], [35.81632614135742, 33.68067932128906]]], &quot;type&quot;: &quot;Polygon&quot;}, &quot;id&quot;: &quot;75&quot;, &quot;properties&quot;: {&quot;ref_id&quot;: &quot;2017_LBN_FAO-WAPOR-3_POLY_111&quot;}, &quot;type&quot;: &quot;Feature&quot;}, {&quot;bbox&quot;: [33.159698486328125, 14.183253288269043, 33.56405258178711, 14.428607940673828], &quot;geometry&quot;: {&quot;coordinates&quot;: [[[33.56405258178711, 14.183253288269043], [33.56405258178711, 14.428607940673828], [33.159698486328125, 14.428607940673828], [33.159698486328125, 14.183253288269043], [33.56405258178711, 14.183253288269043]]], &quot;type&quot;: &quot;Polygon&quot;}, &quot;id&quot;: &quot;76&quot;, &quot;properties&quot;: {&quot;ref_id&quot;: &quot;2020_SDN_FAO-WAPOR-1_POLY_110&quot;}, &quot;type&quot;: &quot;Feature&quot;}, {&quot;bbox&quot;: [31.23760223388672, 30.374610900878906, 31.6055850982666, 30.73062515258789], &quot;geometry&quot;: {&quot;coordinates&quot;: [[[31.6055850982666, 30.374610900878906], [31.6055850982666, 30.73062515258789], [31.23760223388672, 30.73062515258789], [31.23760223388672, 30.374610900878906], [31.6055850982666, 30.374610900878906]]], &quot;type&quot;: &quot;Polygon&quot;}, &quot;id&quot;: &quot;77&quot;, &quot;properties&quot;: {&quot;ref_id&quot;: &quot;2019_EGY_FAO-WAPOR-2_POLY_111&quot;}, &quot;type&quot;: &quot;Feature&quot;}, {&quot;bbox&quot;: [-16.537084579467773, 13.676580429077148, -15.707637786865234, 14.629437446594238], &quot;geometry&quot;: {&quot;coordinates&quot;: [[[-15.707637786865234, 13.676580429077148], [-15.707637786865234, 14.629437446594238], [-16.537084579467773, 14.629437446594238], [-16.537084579467773, 13.676580429077148], [-15.707637786865234, 13.676580429077148]]], &quot;type&quot;: &quot;Polygon&quot;}, &quot;id&quot;: &quot;78&quot;, &quot;properties&quot;: {&quot;ref_id&quot;: &quot;2018_SEN_JECAM-CIRAD_POLY_111&quot;}, &quot;type&quot;: &quot;Feature&quot;}, {&quot;bbox&quot;: [36.38750076293945, 10.333751678466797, 37.365230560302734, 14.334250450134277], &quot;geometry&quot;: {&quot;coordinates&quot;: [[[37.365230560302734, 10.333751678466797], [37.365230560302734, 14.334250450134277], [36.38750076293945, 14.334250450134277], [36.38750076293945, 10.333751678466797], [37.365230560302734, 10.333751678466797]]], &quot;type&quot;: &quot;Polygon&quot;}, &quot;id&quot;: &quot;79&quot;, &quot;properties&quot;: {&quot;ref_id&quot;: &quot;2020_ETH_NHI-CROP-HARVEST_POLY_100&quot;}, &quot;type&quot;: &quot;Feature&quot;}, {&quot;bbox&quot;: [30.592042922973633, -2.1149370670318604, 30.85983657836914, -1.7411166429519653], &quot;geometry&quot;: {&quot;coordinates&quot;: [[[30.85983657836914, -2.1149370670318604], [30.85983657836914, -1.7411166429519653], [30.592042922973633, -1.7411166429519653], [30.592042922973633, -2.1149370670318604], [30.85983657836914, -2.1149370670318604]]], &quot;type&quot;: &quot;Polygon&quot;}, &quot;id&quot;: &quot;80&quot;, &quot;properties&quot;: {&quot;ref_id&quot;: &quot;2020_RWA_FAO-WAPOR-Akagera_POINT_111&quot;}, &quot;type&quot;: &quot;Feature&quot;}, {&quot;bbox&quot;: [46.72098922729492, -19.983957290649414, 47.3754997253418, -18.982742309570312], &quot;geometry&quot;: {&quot;coordinates&quot;: [[[47.3754997253418, -19.983957290649414], [47.3754997253418, -18.982742309570312], [46.72098922729492, -18.982742309570312], [46.72098922729492, -19.983957290649414], [47.3754997253418, -19.983957290649414]]], &quot;type&quot;: &quot;Polygon&quot;}, &quot;id&quot;: &quot;81&quot;, &quot;properties&quot;: {&quot;ref_id&quot;: &quot;2018_MDG_JECAM-CIRAD_POLY_111&quot;}, &quot;type&quot;: &quot;Feature&quot;}, {&quot;bbox&quot;: [-14.698116302490234, 5.1445136070251465, 1.683188796043396, 12.298828125], &quot;geometry&quot;: {&quot;coordinates&quot;: [[[1.683188796043396, 5.1445136070251465], [1.683188796043396, 12.298828125], [-14.698116302490234, 12.298828125], [-14.698116302490234, 5.1445136070251465], [1.683188796043396, 5.1445136070251465]]], &quot;type&quot;: &quot;Polygon&quot;}, &quot;id&quot;: &quot;82&quot;, &quot;properties&quot;: {&quot;ref_id&quot;: &quot;2021_AF_DE-WA-TRAIN1_POLY_100&quot;}, &quot;type&quot;: &quot;Feature&quot;}, {&quot;bbox&quot;: [-15.508495330810547, 7.107698917388916, 14.629583358764648, 12.857684135437012], &quot;geometry&quot;: {&quot;coordinates&quot;: [[[14.629583358764648, 7.107698917388916], [14.629583358764648, 12.857684135437012], [-15.508495330810547, 12.857684135437012], [-15.508495330810547, 7.107698917388916], [14.629583358764648, 7.107698917388916]]], &quot;type&quot;: &quot;Polygon&quot;}, &quot;id&quot;: &quot;83&quot;, &quot;properties&quot;: {&quot;ref_id&quot;: &quot;2021_AF_DE-WA-VAL1_POINT_100&quot;}, &quot;type&quot;: &quot;Feature&quot;}, {&quot;bbox&quot;: [33.205528259277344, 14.213526725769043, 33.4930534362793, 14.430954933166504], &quot;geometry&quot;: {&quot;coordinates&quot;: [[[33.4930534362793, 14.213526725769043], [33.4930534362793, 14.430954933166504], [33.205528259277344, 14.430954933166504], [33.205528259277344, 14.213526725769043], [33.4930534362793, 14.213526725769043]]], &quot;type&quot;: &quot;Polygon&quot;}, &quot;id&quot;: &quot;84&quot;, &quot;properties&quot;: {&quot;ref_id&quot;: &quot;2020_SDN_FAO-WAPOR-2_POLY_111&quot;}, &quot;type&quot;: &quot;Feature&quot;}, {&quot;bbox&quot;: [80.2217788696289, 8.130695343017578, 80.52735137939453, 8.610162734985352], &quot;geometry&quot;: {&quot;coordinates&quot;: [[[80.52735137939453, 8.130695343017578], [80.52735137939453, 8.610162734985352], [80.2217788696289, 8.610162734985352], [80.2217788696289, 8.130695343017578], [80.52735137939453, 8.130695343017578]]], &quot;type&quot;: &quot;Polygon&quot;}, &quot;id&quot;: &quot;85&quot;, &quot;properties&quot;: {&quot;ref_id&quot;: &quot;2021_LKA_FAO-WAPOR-2_POLY_111&quot;}, &quot;type&quot;: &quot;Feature&quot;}, {&quot;bbox&quot;: [-6.933687686920166, 12.822795867919922, -6.600407123565674, 13.364462852478027], &quot;geometry&quot;: {&quot;coordinates&quot;: [[[-6.600407123565674, 12.822795867919922], [-6.600407123565674, 13.364462852478027], [-6.933687686920166, 13.364462852478027], [-6.933687686920166, 12.822795867919922], [-6.600407123565674, 12.822795867919922]]], &quot;type&quot;: &quot;Polygon&quot;}, &quot;id&quot;: &quot;86&quot;, &quot;properties&quot;: {&quot;ref_id&quot;: &quot;2019_MLI_NHI-CROP-HARVEST_POLY_110&quot;}, &quot;type&quot;: &quot;Feature&quot;}, {&quot;bbox&quot;: [34.15326690673828, -19.366016387939453, 34.356285095214844, -19.210969924926758], &quot;geometry&quot;: {&quot;coordinates&quot;: [[[34.356285095214844, -19.366016387939453], [34.356285095214844, -19.210969924926758], [34.15326690673828, -19.210969924926758], [34.15326690673828, -19.366016387939453], [34.356285095214844, -19.366016387939453]]], &quot;type&quot;: &quot;Polygon&quot;}, &quot;id&quot;: &quot;87&quot;, &quot;properties&quot;: {&quot;ref_id&quot;: &quot;2021_MOZ_FAO-WAPOR-1_POLY_111&quot;}, &quot;type&quot;: &quot;Feature&quot;}, {&quot;bbox&quot;: [33.56842803955078, -4.435899257659912, 37.21240234375, -2.0434601306915283], &quot;geometry&quot;: {&quot;coordinates&quot;: [[[37.21240234375, -4.435899257659912], [37.21240234375, -2.0434601306915283], [33.56842803955078, -2.0434601306915283], [33.56842803955078, -4.435899257659912], [37.21240234375, -4.435899257659912]]], &quot;type&quot;: &quot;Polygon&quot;}, &quot;id&quot;: &quot;88&quot;, &quot;properties&quot;: {&quot;ref_id&quot;: &quot;2018_TZA_RadiantEarth-01_POLY_110&quot;}, &quot;type&quot;: &quot;Feature&quot;}, {&quot;bbox&quot;: [-6.933687686920166, 12.822795867919922, -6.600407123565674, 13.364462852478027], &quot;geometry&quot;: {&quot;coordinates&quot;: [[[-6.600407123565674, 12.822795867919922], [-6.600407123565674, 13.364462852478027], [-6.933687686920166, 13.364462852478027], [-6.933687686920166, 12.822795867919922], [-6.600407123565674, 12.822795867919922]]], &quot;type&quot;: &quot;Polygon&quot;}, &quot;id&quot;: &quot;89&quot;, &quot;properties&quot;: {&quot;ref_id&quot;: &quot;2018_MLI_NHI-CROP-HARVEST_POLY_110&quot;}, &quot;type&quot;: &quot;Feature&quot;}, {&quot;bbox&quot;: [31.045684814453125, -9.256885528564453, 39.1351432800293, -1.2527884244918823], &quot;geometry&quot;: {&quot;coordinates&quot;: [[[39.1351432800293, -9.256885528564453], [39.1351432800293, -1.2527884244918823], [31.045684814453125, -1.2527884244918823], [31.045684814453125, -9.256885528564453], [39.1351432800293, -9.256885528564453]]], &quot;type&quot;: &quot;Polygon&quot;}, &quot;id&quot;: &quot;90&quot;, &quot;properties&quot;: {&quot;ref_id&quot;: &quot;2019_TZA_CIMMYT-DM1_POINT_110&quot;}, &quot;type&quot;: &quot;Feature&quot;}, {&quot;bbox&quot;: [35.76136016845703, 33.68067932128906, 35.81536102294922, 33.75495147705078], &quot;geometry&quot;: {&quot;coordinates&quot;: [[[35.81536102294922, 33.68067932128906], [35.81536102294922, 33.75495147705078], [35.76136016845703, 33.75495147705078], [35.76136016845703, 33.68067932128906], [35.81536102294922, 33.68067932128906]]], &quot;type&quot;: &quot;Polygon&quot;}, &quot;id&quot;: &quot;91&quot;, &quot;properties&quot;: {&quot;ref_id&quot;: &quot;2017_LBN_FAO-WAPOR-4_POLY_111&quot;}, &quot;type&quot;: &quot;Feature&quot;}, {&quot;bbox&quot;: [35.9643669128418, 33.82101058959961, 36.02280044555664, 33.848506927490234], &quot;geometry&quot;: {&quot;coordinates&quot;: [[[36.02280044555664, 33.82101058959961], [36.02280044555664, 33.848506927490234], [35.9643669128418, 33.848506927490234], [35.9643669128418, 33.82101058959961], [36.02280044555664, 33.82101058959961]]], &quot;type&quot;: &quot;Polygon&quot;}, &quot;id&quot;: &quot;92&quot;, &quot;properties&quot;: {&quot;ref_id&quot;: &quot;2017_LBN_FAO-WAPOR-1_POLY_111&quot;}, &quot;type&quot;: &quot;Feature&quot;}, {&quot;bbox&quot;: [-16.218677520751953, 16.247753143310547, -15.960122108459473, 16.474288940429688], &quot;geometry&quot;: {&quot;coordinates&quot;: [[[-15.960122108459473, 16.247753143310547], [-15.960122108459473, 16.474288940429688], [-16.218677520751953, 16.474288940429688], [-16.218677520751953, 16.247753143310547], [-15.960122108459473, 16.247753143310547]]], &quot;type&quot;: &quot;Polygon&quot;}, &quot;id&quot;: &quot;93&quot;, &quot;properties&quot;: {&quot;ref_id&quot;: &quot;2021_SEN_FAO-WAPOR-1_POLY_111&quot;}, &quot;type&quot;: &quot;Feature&quot;}, {&quot;bbox&quot;: [34.18302917480469, 0.4740257561206818, 34.370235443115234, 0.7125934362411499], &quot;geometry&quot;: {&quot;coordinates&quot;: [[[34.370235443115234, 0.4740257561206818], [34.370235443115234, 0.7125934362411499], [34.18302917480469, 0.7125934362411499], [34.18302917480469, 0.4740257561206818], [34.370235443115234, 0.4740257561206818]]], &quot;type&quot;: &quot;Polygon&quot;}, &quot;id&quot;: &quot;94&quot;, &quot;properties&quot;: {&quot;ref_id&quot;: &quot;2019_KEN_RadiantEarth-01_POLY_111&quot;}, &quot;type&quot;: &quot;Feature&quot;}], &quot;type&quot;: &quot;FeatureCollection&quot;});\n",
       "\n",
       "        \n",
       "    \n",
       "    geo_json_5a9671910ac72dc29addbff99b3d2b8c.bindTooltip(\n",
       "    function(layer){\n",
       "    let div = L.DomUtil.create(&#x27;div&#x27;);\n",
       "    \n",
       "    let handleObject = feature=&gt;typeof(feature)==&#x27;object&#x27; ? JSON.stringify(feature) : feature;\n",
       "    let fields = [&quot;ref_id&quot;];\n",
       "    let aliases = [&quot;ref_id&quot;];\n",
       "    let table = &#x27;&lt;table&gt;&#x27; +\n",
       "        String(\n",
       "        fields.map(\n",
       "        (v,i)=&gt;\n",
       "        `&lt;tr&gt;\n",
       "            &lt;th&gt;${aliases[i]}&lt;/th&gt;\n",
       "            \n",
       "            &lt;td&gt;${handleObject(layer.feature.properties[v])}&lt;/td&gt;\n",
       "        &lt;/tr&gt;`).join(&#x27;&#x27;))\n",
       "    +&#x27;&lt;/table&gt;&#x27;;\n",
       "    div.innerHTML=table;\n",
       "    \n",
       "    return div\n",
       "    }\n",
       "    ,{&quot;className&quot;: &quot;foliumtooltip&quot;, &quot;sticky&quot;: true});\n",
       "                     \n",
       "    \n",
       "            geo_json_5a9671910ac72dc29addbff99b3d2b8c.addTo(map_4e7c24d285473853757a77499dd26716);\n",
       "        \n",
       "&lt;/script&gt;\n",
       "&lt;/html&gt;\" style=\"position:absolute;width:100%;height:100%;left:0;top:0;border:none !important;\" allowfullscreen webkitallowfullscreen mozallowfullscreen></iframe></div></div>"
      ],
      "text/plain": [
       "<folium.folium.Map at 0x7f2f514b2d10>"
      ]
     },
     "execution_count": 21,
     "metadata": {},
     "output_type": "execute_result"
    }
   ],
   "source": [
    "import geopandas as gpd\n",
    "\n",
    "import urllib.request\n",
    "\n",
    "# Download the file to a local path\n",
    "local_file = \"worldcereal_public_extractions_extent.parquet\"\n",
    "url = \"https://s3.waw3-1.cloudferro.com/swift/v1/geoparquet/worldcereal_public_extractions_extent.parquet\"\n",
    "urllib.request.urlretrieve(url, local_file)\n",
    "\n",
    "# Read with geopandas\n",
    "gdf = gpd.read_parquet(local_file)\n",
    "gdf = gdf[~gdf.ref_id.str.contains(\"GLO\")]\n",
    "\n",
    "# Visualize on a map\n",
    "gdf.explore(style_kwds={\n",
    "        \"fillOpacity\": 0.05,   # Transparency of polygon fill (0 = fully transparent, 1 = opaque)\n",
    "        \"weight\": 1,          # Border line width\n",
    "    },\n",
    "    highlight=False)"
   ]
  },
  {
   "cell_type": "markdown",
   "id": "2c64e8c9",
   "metadata": {},
   "source": [
    "**Step 1: Select your area of interest (AOI)**\n",
    "\n",
    "Provide a bounding box specifying the region in which you would like to look for available reference data.<br>\n",
    "\n",
    "When running the code snippet below, an interactive map will be visualized.<br>\n",
    "Click the Rectangle button on the left hand side of the map to start drawing your region of interest.<br>\n",
    "The widget will automatically store the coordinates of the last rectangle you drew on the map.<br>\n",
    "\n",
    "Alternatively, you can also upload a vector file (either zipped shapefile or GeoPackage) delineating<br>\n",
    "your area of interest. In case your vector file contains multiple polygons or points, the total bounds<br>\n",
    "will be automatically computed and serve as your AOI. Files containing only a single point are not allowed."
   ]
  },
  {
   "cell_type": "code",
   "execution_count": null,
   "id": "8b3c0b37",
   "metadata": {},
   "outputs": [],
   "source": [
    "from worldcereal.utils.map import ui_map\n",
    "\n",
    "map = ui_map()"
   ]
  },
  {
   "cell_type": "markdown",
   "id": "1ca4b0f1",
   "metadata": {},
   "source": [
    "**Step 2: Get all available reference data**\n",
    "\n",
    "Now we query both public and private extractions and retrieve the relevant samples based on your defined area of interest.\n",
    "\n",
    "<div class=\"alert alert-block alert-info\">\n",
    "<b>Note on the use of private data</b><br>\n",
    "In case you would like to include your private extractions, make sure to specify the private_extractions_path in the cell below, where your private extractions reside!\n",
    "</div>\n",
    "\n",
    "By default, a spatial buffer of 250 km is applied to your area of interest to ensure sufficient training data is found.<br>\n",
    "You can freely expand this search perimeter by changing the value of the `buffer` parameter.\n",
    "\n",
    "<div class=\"alert alert-block alert-info\">\n",
    "<b>Important consideration on model scope!</b><br>\n",
    "\n",
    "By default, we filter the reference data explicitly to only retain temporary crops, by setting the `filter_temporary_crops` parameter to `True`.<br>\n",
    "This effectively means that you will (by default) only be able to train a model distinguishing different types of temporary crops.<br>\n",
    "In case you would like to expand your scope towards other land cover and/or permanent crops, please set `filter_temporary_crops` to `False`.\n",
    "</div>"
   ]
  },
  {
   "cell_type": "code",
   "execution_count": null,
   "id": "1d1721e1",
   "metadata": {
    "kernelspec": {
     "display_name": "worldcereal",
     "language": "python",
     "name": "python3"
    },
    "language_info": {
     "codemirror_mode": {
      "name": "ipython",
      "version": 3
     },
     "file_extension": ".py",
     "mimetype": "text/x-python",
     "name": "python",
     "nbconvert_exporter": "python",
     "pygments_lexer": "ipython3",
     "version": "3.10.0"
    }
   },
   "outputs": [],
   "source": [
    "from pathlib import Path\n",
    "from notebook_utils.extractions import query_extractions\n",
    "\n",
    "# Retrieve the polygon you drew on the map\n",
    "polygon = map.get_polygon_latlon()\n",
    "\n",
    "# Specify a buffer distance to expand your search perimeter\n",
    "buffer = 250000  # meters\n",
    "\n",
    "# Specify the path to the private extractions data; \n",
    "# if you followed the private extractions notebook, your extractions path should be the one commented below;\n",
    "# if you leave this None, only public data will be queried\n",
    "private_extractions_path = None\n",
    "# private_extractions_path = Path('./extractions/worldcereal_merged_extractions.parquet')\n",
    "\n",
    "# Specify whether you are only interested in temporary crops only (True) or all available classes (False)\n",
    "filter_temporary_crops = True\n",
    "\n",
    "# Query our public database of training data\n",
    "extractions = query_extractions(polygon, buffer, private_parquet_path=private_extractions_path, filter_cropland=filter_temporary_crops)\n",
    "extractions.head()"
   ]
  },
  {
   "cell_type": "markdown",
   "id": "0f2d4258",
   "metadata": {},
   "source": [
    "<div class=\"alert alert-block alert-warning\">\n",
    "<b>What to do in case no samples were found? Or in case you only have observations for a single crop type?</b><br> \n",
    "\n",
    "1. **Increase the buffer size**: Try increasing the buffer size by adjusting the `buffer` parameter.<br>  *Current setting is: 250 km.*\n",
    "2. **Pick another area**: Consult our [Reference Data Module](https://rdm.esa-worldcereal.org) to find areas with higher data density.\n",
    "3. **Contribute data**: Collect some data and contribute to our global database! <br>\n",
    "🌍🌾 [Learn how to contribute here.](https://worldcereal.github.io/worldcereal-documentation/rdm/upload.html)\n",
    "\n",
    "</div>"
   ]
  },
  {
   "cell_type": "markdown",
   "id": "9a4e4487",
   "metadata": {},
   "source": [
    "**Step 3: Perform a quick quality check**\n",
    "\n",
    "In this optional step, we provide you with some tools to quickly assess the quality of the datasets.\n",
    "\n",
    "Upon executing this cell, you will be prompted to enter a dataset name (ref_id) for inspection.\n",
    "\n",
    "Especially the visualization of the time series might help you better define your season of interest."
   ]
  },
  {
   "cell_type": "code",
   "execution_count": null,
   "id": "0a38d333",
   "metadata": {
    "vscode": {
     "languageId": "ruby"
    }
   },
   "outputs": [],
   "source": [
    "from notebook_utils.extractions import get_band_statistics, visualize_timeseries\n",
    "\n",
    "dataset_name = input('Enter the dataset name: ')\n",
    "subset_data = extractions.loc[extractions['ref_id'] == dataset_name]\n",
    "\n",
    "# Check band statistics\n",
    "band_stats = get_band_statistics(subset_data)\n",
    "\n",
    "# Visualize timeseries for a few samples (5 by default)\n",
    "visualize_timeseries(subset_data, nsamples=5)"
   ]
  },
  {
   "cell_type": "markdown",
   "id": "e405a2dc",
   "metadata": {},
   "source": [
    "Based on the reported contents or quality check of the datasets, you might want to drop some of the selected data before proceeding.<br>\n",
    "\n",
    "Here is an example on how to drop a complete dataset from the extracted data:"
   ]
  },
  {
   "cell_type": "code",
   "execution_count": null,
   "id": "10432e58",
   "metadata": {
    "vscode": {
     "languageId": "ruby"
    }
   },
   "outputs": [],
   "source": [
    "## Drop a specific dataset\n",
    "# dataset_name = '2021_AUT_LPIS_POLY_110'\n",
    "# extractions = extractions.loc[extractions['ref_id'] != dataset_name]"
   ]
  },
  {
   "cell_type": "markdown",
   "id": "c19e73d1",
   "metadata": {},
   "source": [
    "**Step 4: Select your season of interest**\n",
    "\n",
    "Keep in mind that in WorldCereal, we train **season-specific** crop classifiers.<br>\n",
    "In this step, you are asked to specify your cropping season of interest.<br>\n",
    "Based on this information, we get rid of irrelevant training data and prepare the classification features in the next step.<br>\n",
    "\n",
    "To gain a better understanding of crop seasonality in your area of interest, you can consult the WorldCereal crop calendars (by executing the next cell), or check out the [USDA crop calendars](https://ipad.fas.usda.gov/ogamaps/cropcalendar.aspx)."
   ]
  },
  {
   "cell_type": "code",
   "execution_count": null,
   "id": "32dcf426",
   "metadata": {
    "vscode": {
     "languageId": "ruby"
    }
   },
   "outputs": [],
   "source": [
    "from notebook_utils.seasons import retrieve_worldcereal_seasons\n",
    "\n",
    "spatial_extent = map.get_extent()\n",
    "seasons = retrieve_worldcereal_seasons(spatial_extent)"
   ]
  },
  {
   "cell_type": "markdown",
   "id": "9df51a81",
   "metadata": {},
   "source": [
    "Now let's also check the distribution of `valid_time` in your reference data.<br>\n",
    "This attribute indicates the date for which the crop label is actually valid.<br>\n",
    "This is important to consider when selecting your season of interest: it does not make too much sense to train a classifier for a season in which you have barely any valid reference data to work with!"
   ]
  },
  {
   "cell_type": "code",
   "execution_count": null,
   "id": "871dbe73",
   "metadata": {
    "vscode": {
     "languageId": "ruby"
    }
   },
   "outputs": [],
   "source": [
    "from notebook_utils.seasons import valid_time_distribution\n",
    "\n",
    "valid_time_distribution(extractions)"
   ]
  },
  {
   "cell_type": "markdown",
   "id": "49c83cfa",
   "metadata": {},
   "source": [
    "Now use the slider to select your season of interest.<br>\n",
    "\n",
    "Note that WorldCereal models are always trained on time series of **12 months**.<br>\n",
    "Just make sure the center of your season of interest nicely coincides with the `Season center` as indicated below the slider.<br>"
   ]
  },
  {
   "cell_type": "code",
   "execution_count": null,
   "id": "ffefb02a",
   "metadata": {
    "vscode": {
     "languageId": "ruby"
    }
   },
   "outputs": [],
   "source": [
    "from notebook_utils.dateslider import season_slider\n",
    "\n",
    "slider = season_slider()"
   ]
  },
  {
   "cell_type": "markdown",
   "id": "511027f9",
   "metadata": {},
   "source": [
    "**Step 5: Compute training features**\n",
    "\n",
    "Using a deep learning framework (Presto), we derive training features for each sample in the dataframe resulting from your query. Presto was pre-trained on millions of unlabeled samples around the world and finetuned on global labelled land cover and crop type data from the WorldCereal reference database. The resulting 128 *embeddings* (`presto_ft_0` -> `presto_ft_127`) nicely condense the Sentinel-1, Sentinel-2, meteo timeseries and ancillary data for your season of interest into a limited number of meaningful features which we will use for downstream model training.<br>\n",
    "\n",
    "Reference data for which the `valid_time` signficantly deviates from the center of your season of interest will be discarded automatically.<br>\n",
    "Users have the option to increase/decrease the value of `valid_time_buffer` (expressed in months) if they want to be more or less strict in aligning the reference data to their season of interest.<br>\n",
    "This parameter defines the minimum distance between the valid_time of a sample and the edge of the 12 months extent you have selected.<br>\n",
    "The `valid_time_buffer` is allowed to vary between 0 and 6 months. By default we use a value of 2 months.<br>\n",
    "\n",
    "Finally, we provide one more option during training feature computation aimed at increasing temporal robustness of the your final crop model.<br>\n",
    "This is controlled by the `augment` parameter: when set to `True`, it introduces slight temporal jittering of the processing window, making the model more robust against slight variations in seasonality across different years.<br>\n",
    "By default, this option is set to `False`, but especially when training a model across multiple years in areas with a lot of reference data, enabling this option could be considered.\n"
   ]
  },
  {
   "cell_type": "code",
   "execution_count": null,
   "id": "039f80de",
   "metadata": {
    "vscode": {
     "languageId": "ruby"
    }
   },
   "outputs": [],
   "source": [
    "from notebook_utils.classifier import compute_training_features\n",
    "\n",
    "# Retrieve the date range you just selected\n",
    "season = slider.get_selected_dates()\n",
    "\n",
    "# Prepare the training features for the selected season\n",
    "training_df = compute_training_features(extractions, season, valid_time_buffer=2, augment=False)\n",
    "training_df.head()"
   ]
  },
  {
   "cell_type": "markdown",
   "id": "a9f5a9e5",
   "metadata": {},
   "source": [
    "**Step 5: Select your crops of interest**\n",
    "\n",
    "The following widget will display all available land cover classes and crop types in your training dataframe.\n",
    "\n",
    "Tick the checkbox for each crop type you wish to explicitly include in your model.<br>\n",
    "In case you wish to group multiple crops together, just tick the parent node in the hierarchy.\n",
    "\n",
    "Non-selected crops will be merged together in an `other` class.\n",
    "\n",
    "After selecting all your crop types of interest, hit the \"Apply\" button.\n",
    "\n",
    "<div class=\"alert alert-block alert-info\">\n",
    "<b>Minimum number of samples:</b><br>\n",
    "In order to train a model, we recommend a minimum of 30-50 samples to be available for each unique crop type.<br>\n",
    "</div>\n"
   ]
  },
  {
   "cell_type": "code",
   "execution_count": null,
   "id": "70716157",
   "metadata": {
    "vscode": {
     "languageId": "ruby"
    }
   },
   "outputs": [],
   "source": [
    "from notebook_utils.croptypepicker import CropTypePicker\n",
    "\n",
    "croptypepicker = CropTypePicker(sample_df=training_df, expand=True)"
   ]
  },
  {
   "cell_type": "markdown",
   "id": "5fe53569",
   "metadata": {},
   "source": [
    "In the next cell, we apply your selection to your training dataframe.<br>\n",
    "The new dataframe will contain a `downstream_class` attribute, denoting the final label that will be used during model training.<br>\n",
    "Let's first check which classes ended up in the \"other\" class:"
   ]
  },
  {
   "cell_type": "code",
   "execution_count": null,
   "id": "dd192cb8",
   "metadata": {
    "vscode": {
     "languageId": "ruby"
    }
   },
   "outputs": [],
   "source": [
    "from notebook_utils.croptypepicker import apply_croptypepicker_to_df\n",
    "from worldcereal.utils.legend import translate_ewoc_codes\n",
    "\n",
    "training_df = apply_croptypepicker_to_df(training_df, croptypepicker)\n",
    "other_count = training_df.loc[training_df['downstream_class'] == 'other']['ewoc_code'].value_counts()\n",
    "other_labels = translate_ewoc_codes(other_count.index.tolist())\n",
    "other_count.to_frame().merge(other_labels, left_index=True, right_index=True)"
   ]
  },
  {
   "cell_type": "markdown",
   "id": "493e8190",
   "metadata": {},
   "source": [
    "Based on this list, you might consider dropping some classes.<br>\n",
    "This can be done by providing the \"ewoc_codes\" in the following cell:"
   ]
  },
  {
   "cell_type": "code",
   "execution_count": null,
   "id": "812d282d",
   "metadata": {
    "vscode": {
     "languageId": "ruby"
    }
   },
   "outputs": [],
   "source": [
    "# drop classes\n",
    "# to_drop = [1107000020, 1107000000, ]\n",
    "to_drop = []\n",
    "if len(to_drop) > 0:\n",
    "    training_df = training_df.loc[~training_df['ewoc_code'].isin(to_drop)]\n",
    "training_df['downstream_class'].value_counts()"
   ]
  },
  {
   "cell_type": "markdown",
   "id": "70eff31d",
   "metadata": {},
   "source": [
    "Finally, you could opt to combine some classes using the code snippet below as an example:"
   ]
  },
  {
   "cell_type": "code",
   "execution_count": null,
   "id": "96d2d225",
   "metadata": {
    "vscode": {
     "languageId": "ruby"
    }
   },
   "outputs": [],
   "source": [
    "# combine_classes = {\n",
    "#     'cereals': ['winter_barley', 'oats', 'millet', 'winter_rye', 'wheat']}\n",
    "combine_classes = {}\n",
    "for new_class, old_classes in combine_classes.items():\n",
    "    training_df.loc[training_df['downstream_class'].isin(old_classes), 'downstream_class'] = new_class\n",
    "\n",
    "# Report on the contents of the data\n",
    "training_df['downstream_class'].value_counts()"
   ]
  },
  {
   "cell_type": "markdown",
   "id": "2a38a25e",
   "metadata": {},
   "source": [
    "**Step 6: Save your final training dataframe for future reference**\n",
    "\n",
    "Upon executing the next cell, you will be prompted to provide a unique name for your dataframe."
   ]
  },
  {
   "cell_type": "code",
   "execution_count": null,
   "id": "d97a9c9b",
   "metadata": {
    "vscode": {
     "languageId": "ruby"
    }
   },
   "outputs": [],
   "source": [
    "from pathlib import Path\n",
    "from notebook_utils.classifier import get_input\n",
    "\n",
    "df_name = get_input(\"Name dataframe\")\n",
    "\n",
    "training_dir = Path('./training_data')\n",
    "training_dir.mkdir(exist_ok=True)\n",
    "\n",
    "outfile = training_dir / f'{df_name}.csv'\n",
    "\n",
    "if outfile.exists():\n",
    "    raise ValueError(f\"File {outfile} already exists. Please delete it or choose a different name.\")\n",
    "\n",
    "training_df.to_csv(outfile)\n",
    "\n",
    "print(f\"Dataframe saved to {outfile}\")"
   ]
  },
  {
   "cell_type": "markdown",
   "id": "f65beebf",
   "metadata": {},
   "source": [
    "### 2. Train custom classification model\n",
    "\n",
    "We train a catboost model for the selected crop types.<br> \n",
    "\n",
    "By default, we apply **class balancing** to ensure minority classes are not discarded. However, depending on the class distribution this may lead to undesired results. There is no golden rule here. If your main goal is to make sure the most dominant classes in your training data are very precisely identified in your map, you can opt to NOT apply class balancing by setting: `balance_classes=False`. \n",
    "\n",
    "Before training, the available training data has been automatically split into a calibration and validation part. The validation report and confusion matrix already provide you with a first idea on your model's performance.<br>\n",
    "For visualizing the confusion matrix, you have several options through the `show_confusion_matrix` parameter:\n",
    "- `absolute`: print absolute sample counts in the confusion matrix\n",
    "- `relative`: plots the normalized confusion matrix\n",
    "- `none`: do not visualize a confusion matrix"
   ]
  },
  {
   "cell_type": "code",
   "execution_count": null,
   "id": "0b8237d6",
   "metadata": {
    "vscode": {
     "languageId": "ruby"
    }
   },
   "outputs": [],
   "source": [
    "from notebook_utils.classifier import train_classifier\n",
    "\n",
    "custom_model, report, confusion_matrix = train_classifier(\n",
    "    training_df, balance_classes=True, show_confusion_matrix='absolute',\n",
    ")\n",
    "print(report)"
   ]
  },
  {
   "cell_type": "markdown",
   "id": "87456094",
   "metadata": {},
   "source": [
    "### 3. Deploy your custom model\n",
    "\n",
    "Once trained, your model is uploaded to a dedicated S3 bucket on CDSE, so it can be accessed by OpenEO for generating maps (see next step).<br>\n",
    "Your model is protected using your CDSE credentials and will not be accessible by anyone else.\n",
    "\n",
    "Upon executing the next cell, you will be prompted to provide a clear and short name for your custom model.\n",
    "\n",
    "<div class=\"alert alert-block alert-warning\">\n",
    "<b>Long term storage of your model:</b> <br>\n",
    "Note that your model is only kept in cloud storage for a limited amount of time. <br>\n",
    "\n",
    "Make sure to download your model (using the link provided) if you wish to store it for a longer period of time!<br>\n",
    "\n",
    "In case you would like to use your model for generating maps at a later point in time, you will need to host your model in a publicly available repository, e.g. Google Drive, and replace `model_url` with this public link during model inference.\n",
    "</div>"
   ]
  },
  {
   "cell_type": "markdown",
   "id": "169f1649",
   "metadata": {},
   "source": [
    "<div class=\"alert alert-block alert-info\">\n",
    "<b>CDSE authentication:</b><br>\n",
    "After first login, your CDSE credentials will be stored on your machine avoiding the need for repeating authentication in the future. If you would want to switch CDSE account, execute the following lines of code:<br>\n",
    "<br>\n",
    "from notebook_utils.openeo import clear_openeo_token_cache<br>\n",
    "clear_openeo_token_cache()\n",
    "</div>"
   ]
  },
  {
   "cell_type": "code",
   "execution_count": null,
   "id": "6ed0ece5",
   "metadata": {
    "vscode": {
     "languageId": "ruby"
    }
   },
   "outputs": [],
   "source": [
    "from worldcereal.utils.upload import deploy_model\n",
    "from openeo_gfmap.backend import cdse_connection\n",
    "from notebook_utils.classifier import get_input\n",
    "\n",
    "modelname = get_input(\"model\")\n",
    "model_url = deploy_model(cdse_connection(), custom_model, pattern=modelname)\n",
    "print(f\"Your model can be downloaded from: {model_url}\")"
   ]
  },
  {
   "cell_type": "markdown",
   "id": "aa4204b6",
   "metadata": {},
   "source": [
    "### 4. Generate your custom crop type map\n",
    "\n",
    "Using your custom model, we generate a map for your region and season of interest."
   ]
  },
  {
   "cell_type": "markdown",
   "id": "8e63748f",
   "metadata": {},
   "source": [
    "**Step 1: Select your area of interest (AOI)**\n",
    "\n",
    "Provide a bounding box specifying the region for which you would like to create your map.<br>\n",
    "\n",
    "<div class=\"alert alert-block alert-warning\">\n",
    "<b>Processing area:</b><br> \n",
    "The WorldCereal system is currently optimized to process <b>20 x 20 km</b> tiles.<br>\n",
    "In case your AOI exceeds this area, it will be automatically split, creating multiple map generation jobs.\n",
    "\n",
    "We ALWAYS recommend you to select a small area to start with, whenever trying out a model for the first time!\n",
    "\n",
    "A run of 400 km² will typically consume 40 credits and last around 20 mins.<br>\n",
    "</div>\n",
    "\n",
    "We refer to [Section 1 of this notebook](###-1.-Gather-and-prepare-your-training-data) for instructions on how to use our interactive application."
   ]
  },
  {
   "cell_type": "code",
   "execution_count": null,
   "id": "4101aae5",
   "metadata": {
    "vscode": {
     "languageId": "ruby"
    }
   },
   "outputs": [],
   "source": [
    "from worldcereal.utils.map import ui_map\n",
    "\n",
    "map = ui_map(area_limit=1200) # area_limit in km²"
   ]
  },
  {
   "cell_type": "markdown",
   "id": "df2c9627",
   "metadata": {},
   "source": [
    "Optionally save your drawn bounding box to a file for future reference:"
   ]
  },
  {
   "cell_type": "code",
   "execution_count": null,
   "id": "ec4ab9d4",
   "metadata": {
    "vscode": {
     "languageId": "ruby"
    }
   },
   "outputs": [],
   "source": [
    "from notebook_utils.production import bbox_extent_to_gdf\n",
    "from pathlib import Path\n",
    "\n",
    "bbox_name = input('Enter the name for the output bbox file (without extension): ')\n",
    "outfile = Path(f'./bbox/{bbox_name}.gpkg')\n",
    "processing_extent = map.get_extent(projection='latlon')\n",
    "bbox_extent_to_gdf(processing_extent, outfile)"
   ]
  },
  {
   "cell_type": "markdown",
   "id": "79b0f342",
   "metadata": {},
   "source": [
    "**Step 2: Select your year and season of interest**\n",
    "\n",
    "We always recommend to select a similar growing season as compared to the season for which you trained your model.<br>\n",
    "\n",
    "In case your training data was restricted to 1 or 2 years, applying your model to other years will likely result in lower quality maps."
   ]
  },
  {
   "cell_type": "code",
   "execution_count": null,
   "id": "3468cef9",
   "metadata": {
    "vscode": {
     "languageId": "ruby"
    }
   },
   "outputs": [],
   "source": [
    "from notebook_utils.dateslider import date_slider\n",
    "\n",
    "processing_slider = date_slider()"
   ]
  },
  {
   "cell_type": "markdown",
   "id": "b1f4b58e",
   "metadata": {},
   "source": [
    "**Step 3: Set processing parameters**"
   ]
  },
  {
   "cell_type": "code",
   "execution_count": null,
   "id": "8eefd58a",
   "metadata": {
    "vscode": {
     "languageId": "ruby"
    }
   },
   "outputs": [],
   "source": [
    "# Do you want to automatically mask temporary crops using the default WorldCereal temporary crops mask?\n",
    "# By default yes.\n",
    "mask_cropland = True\n",
    "\n",
    "# In case you set mask_cropland to True, choose whether you want to store the cropland mask as separate output\n",
    "save_mask = True\n",
    "\n",
    "# Choose whether or not you want to spatially clean the classification results\n",
    "postprocess_result = True\n",
    "\n",
    "# Choose the postprocessing method you want to use [\"smooth_probabilities\", \"majority_vote\"]\n",
    "# (\"smooth_probabilities will do limited spatial cleaning,\n",
    "# while \"majority_vote\" will do more aggressive spatial cleaning, depending on the value of kernel_size)\n",
    "postprocess_method = \"majority_vote\"\n",
    "\n",
    "# Additional parameter for the majority vote method\n",
    "# (the higher the value, the more aggressive the spatial cleaning,\n",
    "# should be an odd number, not larger than 25, default = 5)\n",
    "kernel_size = 5\n",
    "\n",
    "# Do you want to save the intermediate results? (before applying the postprocessing)\n",
    "save_intermediate = True\n",
    "\n",
    "# Do you want to save all class probabilities in the final product?\n",
    "# If set to False, you will only get the final classification label and confidence of the winning class per pixel\n",
    "keep_class_probs = True"
   ]
  },
  {
   "cell_type": "markdown",
   "id": "d1cf0683",
   "metadata": {},
   "source": [
    "**Step 4: Start map production**\n",
    "\n",
    "The next cell takes care of splitting your area of interest into small tiles (size is specified through `tile_resolution` parameter) and generate a map for each tile.<br>\n",
    "\n",
    "You will be able to track progress through the automated reporting.<br>\n",
    "\n",
    "Results will be automatically saved to a folder containing your model name:<br> `runs/CROPTYPE_custom_{your_modelname}_{timestamp}`<br>\n",
    "\n",
    "The first time you run this, you will be asked to authenticate with your CDSE account by clicking the link provided below the cell.<br>\n",
    "\n",
    "<div class=\"alert alert-block alert-warning\">\n",
    "<b>What to do in case of interruption?</b><br> \n",
    "In case processing got interrupted, just make sure to manually set `output_dir` to the directory you previously used. In this case, processing will just continue where it stopped.\n",
    "</div>"
   ]
  },
  {
   "cell_type": "code",
   "execution_count": null,
   "id": "23d9bbba",
   "metadata": {},
   "outputs": [],
   "source": [
    "import pandas as pd\n",
    "from worldcereal.job import PostprocessParameters\n",
    "from worldcereal.job import WorldCerealProductType, CropTypeParameters\n",
    "from notebook_utils.production import start_production_process, monitor_production_process\n",
    "\n",
    "# The output directory is named after the model\n",
    "timestamp = pd.Timestamp.now().strftime(\"%Y%m%d-%H%M%S\")\n",
    "output_dir = Path('./runs') / f'CROPTYPE_custom_{modelname}_{timestamp}'\n",
    "print(f\"Output directory: {output_dir}\")\n",
    "\n",
    "# Get all postprocessing parameters\n",
    "postprocess_parameters = PostprocessParameters(\n",
    "    enable=postprocess_result,\n",
    "    method=postprocess_method,\n",
    "    kernel_size=kernel_size,\n",
    "    save_intermediate=save_intermediate,\n",
    "    keep_class_probs=keep_class_probs,\n",
    ")\n",
    "\n",
    "# Initializes default parameters\n",
    "parameters = CropTypeParameters()\n",
    "\n",
    "# Update parameters with user-defined values\n",
    "parameters.classifier_parameters.classifier_url = model_url\n",
    "parameters.save_mask = save_mask\n",
    "parameters.mask_cropland = mask_cropland\n",
    "\n",
    "# Get processing period and area\n",
    "processing_period = processing_slider.get_selected_dates()\n",
    "processing_extent = map.get_extent(projection='latlon')\n",
    "tile_resolution = 20   # in km\n",
    "\n",
    "args = (processing_extent, processing_period, output_dir)\n",
    "kwargs = dict(\n",
    "    tile_resolution=tile_resolution,\n",
    "    product_type=WorldCerealProductType.CROPTYPE,\n",
    "    croptype_parameters=parameters,\n",
    "    postprocess_parameters=postprocess_parameters,\n",
    "    # job_options=job_options,\n",
    ")\n",
    "\n",
    "proc, queue, stop_event = start_production_process(args, kwargs)\n",
    "status_df = monitor_production_process(proc, queue, stop_event)"
   ]
  },
  {
   "cell_type": "markdown",
   "id": "a156038d",
   "metadata": {},
   "source": [
    "**Step 5: Create merged product**\n",
    "\n",
    "Once production across your tiles is finalized, you can use the cell below to merge the different tiles together into one map.<br>"
   ]
  },
  {
   "cell_type": "code",
   "execution_count": null,
   "id": "f65bf4f1",
   "metadata": {},
   "outputs": [],
   "source": [
    "from notebook_utils.production import merge_maps\n",
    "\n",
    "merged_path = merge_maps(output_dir, product='croptype')\n",
    "print(f\"Results merged to {merged_path}\")"
   ]
  },
  {
   "cell_type": "markdown",
   "id": "c76baf63",
   "metadata": {},
   "source": [
    "**Step 6: Inspect your map**\n",
    "\n",
    "Up to four products are generated:\n",
    "- `croptype-raw` --> your custom crop type product\n",
    "- `croptype` --> your custom crop type product after post-processing\n",
    "- `cropland-raw` --> cropland mask produced using the global WorldCereal cropland model\n",
    "- `cropland` --> cropland mask, after post-processing\n",
    "\n",
    "For each of these products, you will get a raster file containing at least two bands:\n",
    "1. The label of the winning class\n",
    "2. The probability of the winning class [50 - 100]\n",
    "3. and beyond (optional, depending on settings): Class probabilities of each class"
   ]
  },
  {
   "cell_type": "markdown",
   "id": "1daedb2a",
   "metadata": {},
   "source": [
    "You can use the next cell to quickly visualize your crop type product in this notebook.\n",
    "\n",
    "In case you want to compare all products, we recommend you to use QGIS."
   ]
  },
  {
   "cell_type": "code",
   "execution_count": null,
   "id": "ed88c02a",
   "metadata": {},
   "outputs": [],
   "source": [
    "from notebook_utils.visualization import visualize_product\n",
    "from worldcereal.utils.models import load_model_lut\n",
    "\n",
    "lut = load_model_lut(model_url)\n",
    "visualize_product(merged_path, product='croptype', lut=lut, write=True)\n"
   ]
  },
  {
   "cell_type": "markdown",
   "id": "47960734",
   "metadata": {},
   "source": [
    "Congratulations, you have reached the end of this demo!"
   ]
  }
 ],
 "metadata": {
  "kernelspec": {
   "display_name": "worldcereal",
   "language": "python",
   "name": "python3"
  },
  "language_info": {
   "codemirror_mode": {
    "name": "ipython",
    "version": 3
   },
   "file_extension": ".py",
   "mimetype": "text/x-python",
   "name": "python",
   "nbconvert_exporter": "python",
   "pygments_lexer": "ipython3",
   "version": "3.10.14"
  }
 },
 "nbformat": 4,
 "nbformat_minor": 5
}
