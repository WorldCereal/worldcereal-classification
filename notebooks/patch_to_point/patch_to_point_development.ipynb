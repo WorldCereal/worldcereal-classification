{
 "cells": [
  {
   "cell_type": "markdown",
   "metadata": {},
   "source": [
    "### Development and example of patch-to-point extraction workflow"
   ]
  },
  {
   "cell_type": "code",
   "execution_count": 1,
   "metadata": {},
   "outputs": [],
   "source": [
    "import openeo\n",
    "import pandas as pd \n",
    "import pystac\n",
    "import pystac_client\n",
    "import requests\n",
    "\n",
    "from shapely.geometry import shape, MultiPolygon\n",
    "\n",
    "from worldcereal.extract.patch_to_point_worldcereal import create_job_patch_to_point_worldcereal, get_label_points\n",
    "from worldcereal.rdm_api import RdmInteraction"
   ]
  },
  {
   "cell_type": "markdown",
   "metadata": {},
   "source": [
    "#### Create job dataframe\n",
    "\n",
    "We will orchestrate the jobs by splitting per `ref_id` and `EPSG`. The below will be replaced by a `create_job_dataframe_patch_to_point_worldcereal` function (or a fancier name). For now we just create a dummy `pandas.DataFrame` containing all necessary columns (prone to change).\n",
    "\n",
    "The `geometry_url` columns is obtained as follows:\n",
    "\n",
    "- For each row in the dataframe, run `get_sample_points_from_rdm` from the `worldcereal.extract.patch_to_point_worldcereal` module\n",
    "- Upload the resulting geodataframe to object storage or Artifactory (choose something stable)\n",
    "- The resulting URL is added to the dataframe under the `geometry_url` column"
   ]
  },
  {
   "cell_type": "code",
   "execution_count": 2,
   "metadata": {},
   "outputs": [
    {
     "data": {
      "text/html": [
       "<div>\n",
       "<style scoped>\n",
       "    .dataframe tbody tr th:only-of-type {\n",
       "        vertical-align: middle;\n",
       "    }\n",
       "\n",
       "    .dataframe tbody tr th {\n",
       "        vertical-align: top;\n",
       "    }\n",
       "\n",
       "    .dataframe thead th {\n",
       "        text-align: right;\n",
       "    }\n",
       "</style>\n",
       "<table border=\"1\" class=\"dataframe\">\n",
       "  <thead>\n",
       "    <tr style=\"text-align: right;\">\n",
       "      <th></th>\n",
       "      <th>backend</th>\n",
       "      <th>start_date</th>\n",
       "      <th>end_date</th>\n",
       "      <th>epsg</th>\n",
       "      <th>ref_id</th>\n",
       "      <th>geometry_url</th>\n",
       "      <th>ground_truth_file</th>\n",
       "    </tr>\n",
       "  </thead>\n",
       "  <tbody>\n",
       "    <tr>\n",
       "      <th>0</th>\n",
       "      <td>Terrascope</td>\n",
       "      <td>2020-10-01</td>\n",
       "      <td>2022-03-31</td>\n",
       "      <td>32736</td>\n",
       "      <td>2021_KEN_COPERNICUS-GEOGLAM-LR_POINT_111</td>\n",
       "      <td>None</td>\n",
       "      <td>/vitodata/worldcereal/data/RDM/2021_KEN_COPERN...</td>\n",
       "    </tr>\n",
       "    <tr>\n",
       "      <th>1</th>\n",
       "      <td>Terrascope</td>\n",
       "      <td>2020-10-01</td>\n",
       "      <td>2022-03-31</td>\n",
       "      <td>32737</td>\n",
       "      <td>2021_KEN_COPERNICUS-GEOGLAM-LR_POINT_111</td>\n",
       "      <td>https://s3.prod.warsaw.openeo.dataspace.copern...</td>\n",
       "      <td>/vitodata/worldcereal/data/RDM/2021_KEN_COPERN...</td>\n",
       "    </tr>\n",
       "    <tr>\n",
       "      <th>2</th>\n",
       "      <td>Terrascope</td>\n",
       "      <td>2020-10-01</td>\n",
       "      <td>2022-03-31</td>\n",
       "      <td>32637</td>\n",
       "      <td>2021_KEN_COPERNICUS-GEOGLAM-LR_POINT_111</td>\n",
       "      <td>https://s3.prod.warsaw.openeo.dataspace.copern...</td>\n",
       "      <td>/vitodata/worldcereal/data/RDM/2021_KEN_COPERN...</td>\n",
       "    </tr>\n",
       "  </tbody>\n",
       "</table>\n",
       "</div>"
      ],
      "text/plain": [
       "      backend  start_date    end_date   epsg  \\\n",
       "0  Terrascope  2020-10-01  2022-03-31  32736   \n",
       "1  Terrascope  2020-10-01  2022-03-31  32737   \n",
       "2  Terrascope  2020-10-01  2022-03-31  32637   \n",
       "\n",
       "                                     ref_id  \\\n",
       "0  2021_KEN_COPERNICUS-GEOGLAM-LR_POINT_111   \n",
       "1  2021_KEN_COPERNICUS-GEOGLAM-LR_POINT_111   \n",
       "2  2021_KEN_COPERNICUS-GEOGLAM-LR_POINT_111   \n",
       "\n",
       "                                        geometry_url  \\\n",
       "0                                               None   \n",
       "1  https://s3.prod.warsaw.openeo.dataspace.copern...   \n",
       "2  https://s3.prod.warsaw.openeo.dataspace.copern...   \n",
       "\n",
       "                                   ground_truth_file  \n",
       "0  /vitodata/worldcereal/data/RDM/2021_KEN_COPERN...  \n",
       "1  /vitodata/worldcereal/data/RDM/2021_KEN_COPERN...  \n",
       "2  /vitodata/worldcereal/data/RDM/2021_KEN_COPERN...  "
      ]
     },
     "execution_count": 2,
     "metadata": {},
     "output_type": "execute_result"
    }
   ],
   "source": [
    "job_df = pd.read_parquet('job_df.parquet')\n",
    "job_df"
   ]
  },
  {
   "cell_type": "markdown",
   "metadata": {},
   "source": [
    "#### Create job patch to point\n",
    "\n",
    "Here we create the openEO process graph to be sent to the backend"
   ]
  },
  {
   "cell_type": "code",
   "execution_count": 4,
   "metadata": {},
   "outputs": [
    {
     "name": "stdout",
     "output_type": "stream",
     "text": [
      "Authenticated using refresh token.\n"
     ]
    }
   ],
   "source": [
    "row = job_df.iloc[-1]\n",
    "\n",
    "requests.packages.urllib3.util.connection.HAS_IPV6 = False  # IPv6 is apparently disabled by sysadmins, so we need to disable it here too\n",
    "connection = openeo.connect('openeo.vito.be').authenticate_oidc()"
   ]
  },
  {
   "cell_type": "code",
   "execution_count": 5,
   "metadata": {},
   "outputs": [],
   "source": [
    "job = create_job_patch_to_point_worldcereal(\n",
    "    row=row,\n",
    "    connection=connection,\n",
    "    provider=None,\n",
    "    connection_provider=None,\n",
    "    executor_memory='2g',\n",
    "    python_memory='2g',\n",
    ")"
   ]
  },
  {
   "cell_type": "code",
   "execution_count": 6,
   "metadata": {},
   "outputs": [
    {
     "name": "stdout",
     "output_type": "stream",
     "text": [
      "0:00:00 Job 'j-25042214475940a5b0854808799781af': send 'start'\n"
     ]
    },
    {
     "name": "stdout",
     "output_type": "stream",
     "text": [
      "0:00:19 Job 'j-25042214475940a5b0854808799781af': created (progress 0%)\n",
      "0:00:24 Job 'j-25042214475940a5b0854808799781af': queued (progress 0%)\n",
      "0:00:30 Job 'j-25042214475940a5b0854808799781af': queued (progress 0%)\n",
      "0:00:38 Job 'j-25042214475940a5b0854808799781af': queued (progress 0%)\n",
      "0:00:48 Job 'j-25042214475940a5b0854808799781af': queued (progress 0%)\n",
      "0:01:01 Job 'j-25042214475940a5b0854808799781af': queued (progress 0%)\n",
      "0:01:16 Job 'j-25042214475940a5b0854808799781af': queued (progress 0%)\n",
      "0:01:35 Job 'j-25042214475940a5b0854808799781af': running (progress 11.4%)\n",
      "0:01:59 Job 'j-25042214475940a5b0854808799781af': running (progress 14.4%)\n",
      "0:02:29 Job 'j-25042214475940a5b0854808799781af': running (progress 17.9%)\n",
      "0:03:06 Job 'j-25042214475940a5b0854808799781af': running (progress 21.9%)\n",
      "0:03:53 Job 'j-25042214475940a5b0854808799781af': finished (progress 100%)\n"
     ]
    },
    {
     "data": {
      "text/html": [
       "\n",
       "    <script>\n",
       "    if (!window.customElements || !window.customElements.get('openeo-job')) {\n",
       "        var el = document.createElement('script');\n",
       "        el.src = \"https://cdn.jsdelivr.net/npm/@openeo/vue-components@2/assets/openeo.min.js\";\n",
       "        document.head.appendChild(el);\n",
       "\n",
       "        var font = document.createElement('font');\n",
       "        font.as = \"font\";\n",
       "        font.type = \"font/woff2\";\n",
       "        font.crossOrigin = true;\n",
       "        font.href = \"https://use.fontawesome.com/releases/v5.13.0/webfonts/fa-solid-900.woff2\"\n",
       "        document.head.appendChild(font);\n",
       "    }\n",
       "    </script>\n",
       "    <openeo-job>\n",
       "        <script type=\"application/json\">{\"currency\": \"credits\", \"job\": {\"costs\": 11, \"created\": \"2025-04-22T14:47:59Z\", \"id\": \"j-25042214475940a5b0854808799781af\", \"process\": {\"process_graph\": {\"aggregatespatial1\": {\"arguments\": {\"data\": {\"from_node\": \"mergecubes4\"}, \"geometries\": {\"from_node\": \"loadurl1\"}, \"reducer\": {\"process_graph\": {\"mean2\": {\"arguments\": {\"data\": {\"from_parameter\": \"data\"}}, \"process_id\": \"mean\", \"result\": true}}}}, \"process_id\": \"aggregate_spatial\"}, \"aggregatetemporalperiod1\": {\"arguments\": {\"data\": {\"from_node\": \"applydimension1\"}, \"dimension\": \"t\", \"period\": \"month\", \"reducer\": {\"process_graph\": {\"median1\": {\"arguments\": {\"data\": {\"from_parameter\": \"data\"}}, \"process_id\": \"median\", \"result\": true}}}}, \"process_id\": \"aggregate_temporal_period\"}, \"aggregatetemporalperiod2\": {\"arguments\": {\"data\": {\"from_node\": \"applydimension2\"}, \"dimension\": \"t\", \"period\": \"month\", \"reducer\": {\"process_graph\": {\"mean1\": {\"arguments\": {\"data\": {\"from_parameter\": \"data\"}}, \"process_id\": \"mean\", \"result\": true}}}}, \"process_id\": \"aggregate_temporal_period\"}, \"apply1\": {\"arguments\": {\"data\": {\"from_node\": \"aggregatetemporalperiod1\"}, \"process\": {\"process_graph\": {\"linearscalerange1\": {\"arguments\": {\"inputMax\": 65534, \"inputMin\": 0, \"outputMax\": 65534, \"outputMin\": 0, \"x\": {\"from_parameter\": \"x\"}}, \"process_id\": \"linear_scale_range\", \"result\": true}}}}, \"process_id\": \"apply\"}, \"apply2\": {\"arguments\": {\"data\": {\"from_node\": \"applydimension3\"}, \"process\": {\"process_graph\": {\"linearscalerange2\": {\"arguments\": {\"inputMax\": 65534, \"inputMin\": 1, \"outputMax\": 65534, \"outputMin\": 1, \"x\": {\"from_parameter\": \"x\"}}, \"process_id\": \"linear_scale_range\", \"result\": true}}}}, \"process_id\": \"apply\"}, \"apply3\": {\"arguments\": {\"data\": {\"from_node\": \"resamplecubespatial1\"}, \"process\": {\"process_graph\": {\"linearscalerange3\": {\"arguments\": {\"inputMax\": 65534, \"inputMin\": 0, \"outputMax\": 65534, \"outputMin\": 0, \"x\": {\"from_parameter\": \"x\"}}, \"process_id\": \"linear_scale_range\", \"result\": true}}}}, \"process_id\": \"apply\"}, \"applydimension1\": {\"arguments\": {\"data\": {\"from_node\": \"filterbands1\"}, \"dimension\": \"bands\", \"process\": {\"process_graph\": {\"arrayelement1\": {\"arguments\": {\"data\": {\"from_parameter\": \"data\"}, \"label\": \"S2-L2A-SCL_DILATED_MASK\"}, \"process_id\": \"array_element\"}, \"if1\": {\"arguments\": {\"accept\": {\"from_parameter\": \"data\"}, \"value\": {\"from_node\": \"neq1\"}}, \"process_id\": \"if\", \"result\": true}, \"neq1\": {\"arguments\": {\"x\": {\"from_node\": \"arrayelement1\"}, \"y\": 1}, \"process_id\": \"neq\"}}}}, \"process_id\": \"apply_dimension\"}, \"applydimension2\": {\"arguments\": {\"data\": {\"from_node\": \"loadstac2\"}, \"dimension\": \"bands\", \"process\": {\"process_graph\": {\"arraycreate1\": {\"arguments\": {\"data\": [{\"from_node\": \"power1\"}, {\"from_node\": \"power2\"}]}, \"process_id\": \"array_create\", \"result\": true}, \"arrayelement2\": {\"arguments\": {\"data\": {\"from_parameter\": \"data\"}, \"index\": 0}, \"process_id\": \"array_element\"}, \"arrayelement3\": {\"arguments\": {\"data\": {\"from_parameter\": \"data\"}, \"index\": 1}, \"process_id\": \"array_element\"}, \"divide1\": {\"arguments\": {\"x\": {\"from_node\": \"subtract1\"}, \"y\": 10}, \"process_id\": \"divide\"}, \"divide2\": {\"arguments\": {\"x\": {\"from_node\": \"subtract2\"}, \"y\": 10}, \"process_id\": \"divide\"}, \"log1\": {\"arguments\": {\"base\": 10, \"x\": {\"from_node\": \"arrayelement2\"}}, \"process_id\": \"log\"}, \"log2\": {\"arguments\": {\"base\": 10, \"x\": {\"from_node\": \"arrayelement3\"}}, \"process_id\": \"log\"}, \"multiply1\": {\"arguments\": {\"x\": 20, \"y\": {\"from_node\": \"log1\"}}, \"process_id\": \"multiply\"}, \"multiply2\": {\"arguments\": {\"x\": 20, \"y\": {\"from_node\": \"log2\"}}, \"process_id\": \"multiply\"}, \"power1\": {\"arguments\": {\"base\": 10, \"p\": {\"from_node\": \"divide1\"}}, \"process_id\": \"power\"}, \"power2\": {\"arguments\": {\"base\": 10, \"p\": {\"from_node\": \"divide2\"}}, \"process_id\": \"power\"}, \"subtract1\": {\"arguments\": {\"x\": {\"from_node\": \"multiply1\"}, \"y\": 83}, \"process_id\": \"subtract\"}, \"subtract2\": {\"arguments\": {\"x\": {\"from_node\": \"multiply2\"}, \"y\": 83}, \"process_id\": \"subtract\"}}}}, \"process_id\": \"apply_dimension\"}, \"applydimension3\": {\"arguments\": {\"data\": {\"from_node\": \"aggregatetemporalperiod2\"}, \"dimension\": \"bands\", \"process\": {\"process_graph\": {\"add1\": {\"arguments\": {\"x\": {\"from_node\": \"multiply3\"}, \"y\": 83}, \"process_id\": \"add\"}, \"add2\": {\"arguments\": {\"x\": {\"from_node\": \"multiply4\"}, \"y\": 83}, \"process_id\": \"add\"}, \"arraycreate2\": {\"arguments\": {\"data\": [{\"from_node\": \"power3\"}, {\"from_node\": \"power4\"}]}, \"process_id\": \"array_create\", \"result\": true}, \"arrayelement4\": {\"arguments\": {\"data\": {\"from_parameter\": \"data\"}, \"index\": 0}, \"process_id\": \"array_element\"}, \"arrayelement5\": {\"arguments\": {\"data\": {\"from_parameter\": \"data\"}, \"index\": 1}, \"process_id\": \"array_element\"}, \"divide3\": {\"arguments\": {\"x\": {\"from_node\": \"add1\"}, \"y\": 20}, \"process_id\": \"divide\"}, \"divide4\": {\"arguments\": {\"x\": {\"from_node\": \"add2\"}, \"y\": 20}, \"process_id\": \"divide\"}, \"log3\": {\"arguments\": {\"base\": 10, \"x\": {\"from_node\": \"arrayelement4\"}}, \"process_id\": \"log\"}, \"log4\": {\"arguments\": {\"base\": 10, \"x\": {\"from_node\": \"arrayelement5\"}}, \"process_id\": \"log\"}, \"multiply3\": {\"arguments\": {\"x\": 10, \"y\": {\"from_node\": \"log3\"}}, \"process_id\": \"multiply\"}, \"multiply4\": {\"arguments\": {\"x\": 10, \"y\": {\"from_node\": \"log4\"}}, \"process_id\": \"multiply\"}, \"power3\": {\"arguments\": {\"base\": 10, \"p\": {\"from_node\": \"divide3\"}}, \"process_id\": \"power\"}, \"power4\": {\"arguments\": {\"base\": 10, \"p\": {\"from_node\": \"divide4\"}}, \"process_id\": \"power\"}}}}, \"process_id\": \"apply_dimension\"}, \"filterbands1\": {\"arguments\": {\"bands\": [\"S2-L2A-B02\", \"S2-L2A-B03\", \"S2-L2A-B04\", \"S2-L2A-B05\", \"S2-L2A-B06\", \"S2-L2A-B07\", \"S2-L2A-B08\", \"S2-L2A-B8A\", \"S2-L2A-B11\", \"S2-L2A-B12\", \"S2-L2A-SCL_DILATED_MASK\"], \"data\": {\"from_node\": \"loadstac1\"}}, \"process_id\": \"filter_bands\"}, \"loadcollection1\": {\"arguments\": {\"bands\": [\"DEM\"], \"id\": \"COPERNICUS_30\", \"spatial_extent\": null, \"temporal_extent\": null}, \"process_id\": \"load_collection\"}, \"loadstac1\": {\"arguments\": {\"bands\": [\"S2-L2A-B01\", \"S2-L2A-B02\", \"S2-L2A-B03\", \"S2-L2A-B04\", \"S2-L2A-B05\", \"S2-L2A-B06\", \"S2-L2A-B07\", \"S2-L2A-B08\", \"S2-L2A-B09\", \"S2-L2A-B11\", \"S2-L2A-B12\", \"S2-L2A-B8A\", \"S2-L2A-DISTANCE-TO-CLOUD\", \"S2-L2A-SCL\", \"S2-L2A-SCL_DILATED_MASK\"], \"properties\": {\"proj:epsg\": {\"process_graph\": {\"eq2\": {\"arguments\": {\"x\": {\"from_parameter\": \"value\"}, \"y\": 32637}, \"process_id\": \"eq\", \"result\": true}}}, \"ref_id\": {\"process_graph\": {\"eq1\": {\"arguments\": {\"x\": {\"from_parameter\": \"value\"}, \"y\": \"2021_KEN_COPERNICUS-GEOGLAM-LR_POINT_111\"}, \"process_id\": \"eq\", \"result\": true}}}}, \"temporal_extent\": [\"2020-10-01\", \"2022-03-31\"], \"url\": \"https://stac.openeo.vito.be/collections/worldcereal_sentinel_2_patch_extractions\"}, \"process_id\": \"load_stac\"}, \"loadstac2\": {\"arguments\": {\"bands\": [\"S1-SIGMA0-VH\", \"S1-SIGMA0-VV\"], \"properties\": {\"proj:epsg\": {\"process_graph\": {\"eq4\": {\"arguments\": {\"x\": {\"from_parameter\": \"value\"}, \"y\": 32637}, \"process_id\": \"eq\", \"result\": true}}}, \"ref_id\": {\"process_graph\": {\"eq3\": {\"arguments\": {\"x\": {\"from_parameter\": \"value\"}, \"y\": \"2021_KEN_COPERNICUS-GEOGLAM-LR_POINT_111\"}, \"process_id\": \"eq\", \"result\": true}}}, \"sat:orbit_state\": {\"process_graph\": {\"eq5\": {\"arguments\": {\"x\": {\"from_parameter\": \"value\"}, \"y\": \"ASCENDING\"}, \"process_id\": \"eq\", \"result\": true}}}}, \"temporal_extent\": [\"2020-10-01\", \"2022-03-31\"], \"url\": \"https://stac.openeo.vito.be/collections/worldcereal_sentinel_1_patch_extractions\"}, \"process_id\": \"load_stac\"}, \"loadstac3\": {\"arguments\": {\"bands\": [\"temperature-mean\", \"precipitation-flux\"], \"temporal_extent\": [\"2020-10-01\", \"2022-03-31\"], \"url\": \"https://stac.openeo.vito.be/collections/agera5_monthly_terrascope\"}, \"process_id\": \"load_stac\"}, \"loadstac4\": {\"arguments\": {\"bands\": [\"Slope\"], \"url\": \"https://stac.openeo.vito.be/collections/COPERNICUS30_DEM_SLOPE_TERRASCOPE\"}, \"process_id\": \"load_stac\"}, \"loadurl1\": {\"arguments\": {\"format\": \"Parquet\", \"url\": \"https://s3.prod.warsaw.openeo.dataspace.copernicus.eu/OpenEO-artifacts/95136ad2c6337e97cee2968b7f93689317140908/2025/04/22/openeogfmap_dataframe_32637_2021_KEN_COPERNICUS-GEOGLAM-LR_POINT_111.parquet?AWSAccessKeyId=bee8b8b791e24f42b8313de43e1a9777&Signature=SPuezXFYFDr02q7Upcpog%2BtIyhs%3D&x-amz-security-token=eyJhbGciOiJSUzI1NiIsInR5cCI6IkpXVCJ9.eyJyb2xlX2FybiI6ImFybjphd3M6aWFtOjowMDAwMDAwMDAwMDA6cm9sZS9TM0FjY2VzcyIsImluaXRpYWxfaXNzdWVyIjoiaHR0cHM6Ly9pZGVudGl0eS5kYXRhc3BhY2UuY29wZXJuaWN1cy5ldS9hdXRoL3JlYWxtcy9DRFNFIiwiaHR0cHM6Ly9hd3MuYW1hem9uLmNvbS90YWdzIjp7InByaW5jaXBhbF90YWdzIjpudWxsfSwiaXNzIjoic3RzLndhdzMtMS5vcGVuZW8udjEuZGF0YXNwYWNlLmNvcGVybmljdXMuZXUiLCJzdWIiOiI0ZmQ5ZGI5Ni1kNjIwLTQ0NTQtOWJlNi0xNGE3ZDhlOTIzNTciLCJleHAiOjE3NDUzNjI1NTMsIm5iZiI6MTc0NTMxOTM1MywiaWF0IjoxNzQ1MzE5MzUzLCJqdGkiOiJhM2RmNzczZi1iNWJiLTQ2NWEtYWY3Mi1mOGJlM2ViY2JhYzIiLCJhY2Nlc3Nfa2V5X2lkIjoiYmVlOGI4Yjc5MWUyNGY0MmI4MzEzZGU0M2UxYTk3NzcifQ.HJtTFvMBAWyKeo-oufHSYet0bXM8kzi8V_c8bRT5G7EanR-twn0LjUDnQZ76yxv-OJiP2vJB-djBY6CNSD7RlglpRyYMp5BSO_EbM5a3BbTVJhpiL4S0RDqtbGORJwr0mEAj0NOjoWV2uxF4VF7botBj8EBYfv192b2XgQk8takLRxM6N24DuAk_E2-ZzkchkwvFxNH9EfWJ0kh7J02-CqlbujsXbzq7lylErIIMIfIW1OKqsv93KfAS0QYtIKolbLHPFs5ftd_SRQHSIKq6B8_wwMPA6kCHUxkABhpKm82Aa4nRsWwwdW_To-UDSkAWQybEjBPzVSbY3zzAM8J5mg&Expires=1745837754\"}, \"process_id\": \"load_url\"}, \"mergecubes1\": {\"arguments\": {\"cube1\": {\"from_node\": \"apply1\"}, \"cube2\": {\"from_node\": \"apply2\"}}, \"process_id\": \"merge_cubes\"}, \"mergecubes2\": {\"arguments\": {\"cube1\": {\"from_node\": \"mergecubes1\"}, \"cube2\": {\"from_node\": \"renamelabels1\"}}, \"process_id\": \"merge_cubes\"}, \"mergecubes3\": {\"arguments\": {\"cube1\": {\"from_node\": \"reducedimension1\"}, \"cube2\": {\"from_node\": \"renamelabels3\"}}, \"process_id\": \"merge_cubes\"}, \"mergecubes4\": {\"arguments\": {\"cube1\": {\"from_node\": \"mergecubes2\"}, \"cube2\": {\"from_node\": \"apply3\"}}, \"process_id\": \"merge_cubes\"}, \"reducedimension1\": {\"arguments\": {\"data\": {\"from_node\": \"renamelabels2\"}, \"dimension\": \"t\", \"reducer\": {\"process_graph\": {\"min1\": {\"arguments\": {\"data\": {\"from_parameter\": \"data\"}}, \"process_id\": \"min\", \"result\": true}}}}, \"process_id\": \"reduce_dimension\"}, \"reducedimension2\": {\"arguments\": {\"data\": {\"from_node\": \"loadcollection1\"}, \"dimension\": \"t\", \"reducer\": {\"process_graph\": {\"min2\": {\"arguments\": {\"data\": {\"from_parameter\": \"data\"}}, \"process_id\": \"min\", \"result\": true}}}}, \"process_id\": \"reduce_dimension\"}, \"renamelabels1\": {\"arguments\": {\"data\": {\"from_node\": \"resamplespatial1\"}, \"dimension\": \"bands\", \"target\": [\"AGERA5-TMEAN\", \"AGERA5-PRECIP\"]}, \"process_id\": \"rename_labels\"}, \"renamelabels2\": {\"arguments\": {\"data\": {\"from_node\": \"loadstac4\"}, \"dimension\": \"bands\", \"target\": [\"slope\"]}, \"process_id\": \"rename_labels\"}, \"renamelabels3\": {\"arguments\": {\"data\": {\"from_node\": \"reducedimension2\"}, \"dimension\": \"bands\", \"source\": [\"DEM\"], \"target\": [\"elevation\"]}, \"process_id\": \"rename_labels\"}, \"resamplecubespatial1\": {\"arguments\": {\"data\": {\"from_node\": \"mergecubes3\"}, \"method\": \"bilinear\", \"target\": {\"from_node\": \"apply1\"}}, \"process_id\": \"resample_cube_spatial\"}, \"resamplespatial1\": {\"arguments\": {\"align\": \"upper-left\", \"data\": {\"from_node\": \"loadstac3\"}, \"method\": \"bilinear\", \"projection\": 32637, \"resolution\": 10}, \"process_id\": \"resample_spatial\"}, \"saveresult1\": {\"arguments\": {\"data\": {\"from_node\": \"aggregatespatial1\"}, \"format\": \"Parquet\", \"options\": {}}, \"process_id\": \"save_result\", \"result\": true}}}, \"progress\": 100, \"status\": \"finished\", \"title\": \"WorldCereal patch-to-point extraction for ref_id: 2021_KEN_COPERNICUS-GEOGLAM-LR_POINT_111 and epsg: 32637\", \"updated\": \"2025-04-22T14:51:21Z\", \"usage\": {\"cpu\": {\"unit\": \"cpu-seconds\", \"value\": 9889}, \"duration\": {\"unit\": \"seconds\", \"value\": 167}, \"input_pixel\": {\"unit\": \"mega-pixel\", \"value\": 0.59375}, \"memory\": {\"unit\": \"mb-seconds\", \"value\": 20320043}}}}</script>\n",
       "    </openeo-job>\n",
       "    "
      ],
      "text/plain": [
       "<BatchJob job_id='j-25042214475940a5b0854808799781af'>"
      ]
     },
     "execution_count": 6,
     "metadata": {},
     "output_type": "execute_result"
    }
   ],
   "source": [
    "job.start_and_wait()"
   ]
  }
 ],
 "metadata": {
  "kernelspec": {
   "display_name": "worldcereal-dev",
   "language": "python",
   "name": "python3"
  },
  "language_info": {
   "codemirror_mode": {
    "name": "ipython",
    "version": 3
   },
   "file_extension": ".py",
   "mimetype": "text/x-python",
   "name": "python",
   "nbconvert_exporter": "python",
   "pygments_lexer": "ipython3",
   "version": "3.10.14"
  }
 },
 "nbformat": 4,
 "nbformat_minor": 2
}
