{
 "cells": [
  {
   "cell_type": "markdown",
   "metadata": {},
   "source": [
    "### Development and example of patch-to-point extraction workflow"
   ]
  },
  {
   "cell_type": "code",
   "execution_count": null,
   "metadata": {},
   "outputs": [],
   "source": [
    "import openeo\n",
    "import pandas as pd \n",
    "import pystac\n",
    "import pystac_client\n",
    "\n",
    "from shapely.geometry import shape, MultiPolygon\n",
    "\n",
    "from worldcereal.extract.patch_to_point_worldcereal import create_job_patch_to_point_worldcereal, get_sample_points_from_rdm\n",
    "from worldcereal.rdm_api import RdmInteraction"
   ]
  },
  {
   "cell_type": "markdown",
   "metadata": {},
   "source": [
    "#### Create job dataframe\n",
    "\n",
    "The below will be replaced by a `create_job_dataframe_patch_to_point_worldcereal` function (or a fancier name). For now we just create a dummy `pandas.DataFrame` containing all necessary columns."
   ]
  },
  {
   "cell_type": "code",
   "execution_count": null,
   "metadata": {},
   "outputs": [],
   "source": [
    "job_df = pd.read_parquet('job_df.parquet')\n",
    "job_df"
   ]
  },
  {
   "cell_type": "markdown",
   "metadata": {},
   "source": [
    "Now we find all samples in RDM that match the following:\n",
    "\n",
    "- ref_id = ref_id\n",
    "- Lie within patch extraction patches\n",
    "- Temporal extent matches given temporal extent"
   ]
  },
  {
   "cell_type": "code",
   "execution_count": null,
   "metadata": {},
   "outputs": [],
   "source": [
    "gdf = get_sample_points_from_rdm(job_df.iloc[0])  # THis also takes the centroid, we could seperate the sampling procedure if needed"
   ]
  },
  {
   "cell_type": "markdown",
   "metadata": {},
   "source": [
    "This returns all geometries in the RDM, cut-off so that they are fully within the patches, and then taken the centroid\n",
    "\n"
   ]
  },
  {
   "cell_type": "markdown",
   "metadata": {},
   "source": [
    "#### Create job patch to point\n",
    "\n",
    "Here we create the openEO process graph to be sent to the backend"
   ]
  },
  {
   "cell_type": "code",
   "execution_count": null,
   "metadata": {},
   "outputs": [],
   "source": [
    "row = job_df.iloc[0]\n",
    "connection = openeo.connect('openeo.vito.be').authenticate_oidc()"
   ]
  },
  {
   "cell_type": "code",
   "execution_count": null,
   "metadata": {},
   "outputs": [],
   "source": []
  }
 ],
 "metadata": {
  "kernelspec": {
   "display_name": "worldcereal",
   "language": "python",
   "name": "python3"
  },
  "language_info": {
   "codemirror_mode": {
    "name": "ipython",
    "version": 3
   },
   "file_extension": ".py",
   "mimetype": "text/x-python",
   "name": "python",
   "nbconvert_exporter": "python",
   "pygments_lexer": "ipython3",
   "version": "3.10.0"
  }
 },
 "nbformat": 4,
 "nbformat_minor": 2
}
