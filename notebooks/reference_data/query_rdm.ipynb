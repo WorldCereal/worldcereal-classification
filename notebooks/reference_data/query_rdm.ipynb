{
 "cells": [
  {
   "cell_type": "code",
   "execution_count": null,
   "metadata": {},
   "outputs": [],
   "source": [
    "from shapely.geometry import Polygon\n",
    "\n",
    "from worldcereal.rdm_api import RdmInteraction"
   ]
  },
  {
   "cell_type": "markdown",
   "metadata": {},
   "source": [
    "### 1. Query collections"
   ]
  },
  {
   "cell_type": "code",
   "execution_count": null,
   "metadata": {},
   "outputs": [],
   "source": [
    "# Access all public collections\n",
    "rdm_interaction = RdmInteraction()\n",
    "ids = rdm_interaction.query_collections()\n",
    "print(len(ids))\n",
    "print(ids)"
   ]
  },
  {
   "cell_type": "code",
   "execution_count": null,
   "metadata": {},
   "outputs": [],
   "source": [
    "# Access public collections for crop type\n",
    "ewoc_codes = [1106000020] # soybean\n",
    "ids = rdm_interaction.query_collections(ewoc_codes=ewoc_codes)\n",
    "print(len(ids))\n",
    "print(ids)"
   ]
  },
  {
   "cell_type": "code",
   "execution_count": null,
   "metadata": {},
   "outputs": [],
   "source": [
    "# Access public collections for geometry (located near Kenya)\n",
    "coords = [\n",
    "(34.45619011, -0.91010781),\n",
    "(34.79638823, -0.91010781),\n",
    "(34.79638823, -0.34539808),\n",
    "(34.45619011, -0.34539808),\n",
    "(34.45619011, -0.91010781)]\n",
    "polygon = Polygon(coords)   \n",
    "ids = rdm_interaction.query_collections(geometry=polygon)\n",
    "print(len(ids))\n",
    "print(ids)"
   ]
  },
  {
   "cell_type": "code",
   "execution_count": null,
   "metadata": {},
   "outputs": [],
   "source": [
    "# Access public collections for bounding box and year\n",
    "temporal_extent = [\"2020-01-01\", \"2020-12-31\"]\n",
    "ids = rdm_interaction.query_collections(geometry=polygon,\n",
    "                                        temporal_extent=temporal_extent)\n",
    "print(len(ids))\n",
    "print(ids)"
   ]
  },
  {
   "cell_type": "code",
   "execution_count": null,
   "metadata": {},
   "outputs": [],
   "source": [
    "# Access private collections\n",
    "    # without authentication\n",
    "ids = rdm_interaction.query_collections(include_public=False,\n",
    "                                        include_private=True)\n",
    "print(len(ids))\n",
    "print(ids)"
   ]
  },
  {
   "cell_type": "code",
   "execution_count": null,
   "metadata": {},
   "outputs": [],
   "source": [
    "# Access private collections\n",
    "    # with authentication\n",
    "rdm_interaction = RdmInteraction().authenticate()\n",
    "ids = rdm_interaction.query_collections(include_public=False,\n",
    "                                        include_private=True)\n",
    "print(len(ids))\n",
    "print(ids)"
   ]
  },
  {
   "cell_type": "code",
   "execution_count": null,
   "metadata": {},
   "outputs": [],
   "source": [
    "# Access private collections for crop type\n",
    "ids = rdm_interaction.query_collections(include_public=False,\n",
    "                                        include_private=True,\n",
    "                                        ewoc_codes=ewoc_codes)\n",
    "print(len(ids))\n",
    "print(ids)"
   ]
  },
  {
   "cell_type": "code",
   "execution_count": null,
   "metadata": {},
   "outputs": [],
   "source": [
    "# Access both public and private collections for crop type\n",
    "ids = rdm_interaction.query_collections(include_private=True,\n",
    "                                        ewoc_codes=ewoc_codes)\n",
    "print(len(ids))\n",
    "print(ids)"
   ]
  }
 ],
 "metadata": {
  "kernelspec": {
   "display_name": "worldcereal",
   "language": "python",
   "name": "python3"
  },
  "language_info": {
   "name": "python",
   "version": "3.10.0"
  }
 },
 "nbformat": 4,
 "nbformat_minor": 2
}
