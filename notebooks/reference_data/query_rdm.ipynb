{
 "cells": [
  {
   "cell_type": "markdown",
   "metadata": {},
   "source": [
    "## WorldCereal RDM interaction\n",
    "\n",
    "This notebook demonstrates the different possibilities to interact with the WorldCereal Reference Data Module (RDM)."
   ]
  },
  {
   "cell_type": "code",
   "execution_count": 1,
   "metadata": {},
   "outputs": [],
   "source": [
    "# Imports\n",
    "from shapely.geometry import Polygon\n",
    "from worldcereal.rdm_api import RdmInteraction"
   ]
  },
  {
   "cell_type": "markdown",
   "metadata": {},
   "source": [
    "### 1. Query collections\n",
    "\n",
    "Data in the WorldCereal RDM are organized in datasets (collections).\n",
    "One dataset contains observations derived from a single source and for a single year.\n",
    "\n",
    "Collections can be either public or private.\n",
    "Whenever you try to access private collections, you will be prompted to login using your Terrascope account.\n",
    "For accessing public collections, no account is needed.\n",
    "\n",
    "Below, we demonstrate how to retrieve a list of available collections and how to get more information about an individual collection."
   ]
  },
  {
   "cell_type": "code",
   "execution_count": 2,
   "metadata": {},
   "outputs": [
    {
     "name": "stdout",
     "output_type": "stream",
     "text": [
      "Number of collections found: 97\n",
      "['2017ascawaprojectpoly111', '2017canaafccropinventorypoint110', '2017cmrcgiargardianpoint110', '2017lbnfaowapor1poly111', '2017lbnfaowapor2poly111', '2017mdgjecamciradpoly111', '2017ngacgiargardianpoint110', '2017zafjecamciradpoly111', '2018asremelgadopoly111', '2018bfjecamciradpoly111', '2017brajecamciradpoly111', '2018afoafpoint110', '2017ugaradiantearth01poly110', '2017bfajecamciradpoly111', '2018ethwapor1poly111', '2018ethwapor2poly111', '2018mlinhicropharvestpoly110', '2018ingardian29point110', '2018mgjecamciradpoly111', '2018nerwapor1poly111', '2018senjecamciradpoly111', '2019afdewatrain1poly100', '2019afdewatrain2poly100', '2019afdewaval2point100', '2019egwapor1poly111', '2019egwapor2poly111', '2019afdewaval1point100', '2018tzradiantearth01poly110', '2019afnhicropharvestpoly100', '2019mgjecamciradpoly111', '2019snjecamciradpoly111', '2020brlemmarpoly110', '2020rwwapor2point111', '2020rwawaporakagerapoint111', '2020sdnwapor1poly110', '2020sdnwapor2poly111', '2021lkawapor1poly111', '2020gonhicropharvestpoint100', '2021mozwapor1poly111', '2019keradiantearth01poly111', '2020brlemaugpoly110', '2019mlinhicropharvestpoly110', '2020ethnhicropharvestpoly100', '2019tzacimmytdm1point110', '2019tzacimmytdm2point110', '2021lkawapor2poly111', '2021rwawaporakagerapoly111', '2021rwawapormuvupoly111', '2021rwawaporyanpoly111', '2021senwapor1poly111', '2021senwapor2poly111', '2023idnvitocampaignpoly110', '2018canaafcacigtdpoint110', '2019canaafcacigtdpoint110', '2020canaafcacigtdpoint110', '2020zwenhicropharvestpoint110', '2021afdewatrain1poly100', '2021deueurocropsnrwpoly110', '2021esteurocropspoly110', '2021deueurocropslspoly110', '2022afdewatrain1poly100', '2021afdewaval1point100', '2019keradiantearth01poly101', '2021sweeurocropspoly110', '2019essigpaccatalunya2019poly111', '2021kencopernicusgeoglamsrpoint111', '2021tzacopernicusgeoglampoint110', '2021ugacopernicusgeoglamlrpoint111', '2021ugacopernicusgeoglamsrpoint111', '2019usausda2019cdlspoint110', '2021finlpispoly110', '2021lvfullpoly110', '2021kencopernicusgeoglamlrpoint111', '2018eulucaspoint110', '2017afoneacrefundmelpoint110', '2021autlpispoly110', '2020svnlpispoly110', '2019dnkeurocropspoly110', '2022nldlpispoly110', '2017canaafcacigtdpoint110', '2021canaafcacigtdpoint110', '2020fralpispoly110', '2018nldlpispoly110', '2020nldlpispoly110', '2020finlpispoly110', '2020espeurocropsnavarrepoly110', '2019nldlpispoly110', '2021nldlpispoly110', '2021svkeurocropspoly110', '2023idnvitomanualpoint100', '2022idnvitomanualpoint100', '2021lvalpispoly110', '2020brlemfebpoly110', '2019kennhicropharvestpoint100', '2018fralpispoly110', '2019fralpispoly110', '2017fralpispoly110']\n"
     ]
    }
   ],
   "source": [
    "# Access all public collections\n",
    "rdm_interaction = RdmInteraction()\n",
    "collections = rdm_interaction.get_collections()\n",
    "ids = [col.id for col in collections]\n",
    "print(f'Number of collections found: {len(ids)}')\n",
    "print(ids)"
   ]
  },
  {
   "cell_type": "code",
   "execution_count": 3,
   "metadata": {},
   "outputs": [
    {
     "name": "stdout",
     "output_type": "stream",
     "text": [
      "ID: 2017ascawaprojectpoly111\n",
      "Title: A crop type dataset on Central Asia, 2017 (Remelgado et al, 2020)\n",
      "Number of samples: 498\n",
      "Data type: Polygon\n",
      "Access type: Public\n",
      "Observation method: Unknown\n",
      "Confidence score for land cover: 98\n",
      "Confidence score for crop type: 98\n",
      "Confidence score for irrigation label: 0\n",
      "List of available crop types: [1101060000, 1101080000, 1103000000, 1101070030, 1101070010, 1100000000, 1106000020, 1101020002, 1108000010, 1101010001, 1201000000, 1204000000, 1201000010]\n",
      "List of available irrigation labels: [0]\n",
      "Spatial extent: {'bbox': [[70.81434037291103, 40.32024248653031, 71.66640200857353, 40.623060414705684]], 'crs': 'http://www.opengis.net/def/crs/OGC/1.3/CRS84'}\n",
      "Coordinate reference system (CRS): ['http://www.opengis.net/def/crs/EPSG/0/4326']\n",
      "Temporal extent: ['2017-04-01T00:00:00', '2017-10-01T00:00:00']\n",
      "Additional data: \n",
      "Last modified: None\n",
      "Last modified by: None\n",
      "Creation time: 2024-06-26T10:13:51.959962\n",
      "Created by: None\n",
      "fid: 3a136636-6ad7-f292-ca8c-6274e89696a2\n"
     ]
    }
   ],
   "source": [
    "# Each collection contains some metadata.\n",
    "# Here we show which information is available:\n",
    "col = collections[0]\n",
    "print(f'ID: {col.id}')\n",
    "print(f'Title: {col.title}')\n",
    "print(f'Number of samples: {col.feature_count}')\n",
    "print(f'Data type: {col.data_type}')\n",
    "print(f'Access type: {col.access_type}')\n",
    "print(f'Observation method: {col.observation_method}')\n",
    "print(f'Confidence score for land cover: {col.confidence_lc}')\n",
    "print(f'Confidence score for crop type: {col.confidence_ct}')\n",
    "print(f'Confidence score for irrigation label: {col.confidence_irr}')\n",
    "print(f'List of available crop types: {col.ewoc_codes}')\n",
    "print(f'List of available irrigation labels: {col.irr_codes}')\n",
    "print(f'Spatial extent: {col.spatial_extent}')\n",
    "print(f'Coordinate reference system (CRS): {col.crs}')\n",
    "print(f'Temporal extent: {col.temporal_extent}')\n",
    "print(f'Additional data: {col.additional_data}')\n",
    "print(f'Last modified: {col.last_modified}')\n",
    "print(f'Last modified by: {col.last_modified_by}')\n",
    "print(f'Creation time: {col.creation_time}')\n",
    "print(f'Created by: {col.created_by}')\n",
    "print(f'fid: {col.fid}')\n"
   ]
  },
  {
   "cell_type": "markdown",
   "metadata": {},
   "source": [
    "There are various ways to filter collections and only retrieve a subset of collections matching your search criteria. At the moment you can filter based on:\n",
    "- crop type\n",
    "- spatial extent\n",
    "- temporal extent\n",
    "- access type (public vs private)\n",
    "\n",
    "Here are some example queries demonstrating these filtering options:"
   ]
  },
  {
   "cell_type": "code",
   "execution_count": 4,
   "metadata": {},
   "outputs": [
    {
     "name": "stderr",
     "output_type": "stream",
     "text": [
      "\u001b[32m2024-11-26 15:54:56.034\u001b[0m | \u001b[1mINFO    \u001b[0m | \u001b[36mworldcereal.rdm_api.rdm_interaction\u001b[0m:\u001b[36mget_collections\u001b[0m:\u001b[36m143\u001b[0m - \u001b[1mTo access private collections, you need to authenticate.\u001b[0m\n"
     ]
    },
    {
     "data": {
      "text/html": [
       "Visit <a href=\"https://sso.terrascope.be/auth/realms/terrascope/device?user_code=CZYC-RPCN\" title=\"Authenticate at https://sso.terrascope.be/auth/realms/terrascope/device?user_code=CZYC-RPCN\" target=\"_blank\" rel=\"noopener noreferrer\">https://sso.terrascope.be/auth/realms/terrascope/device?user_code=CZYC-RPCN</a> <a href=\"#\" onclick=\"navigator.clipboard.writeText('https://sso.terrascope.be/auth/realms/terrascope/device?user_code=CZYC-RPCN');return false;\" title=\"Copy authentication URL to clipboard\">&#128203;</a> to authenticate."
      ]
     },
     "metadata": {},
     "output_type": "display_data"
    },
    {
     "data": {
      "text/html": [
       "✅ Authorized successfully"
      ]
     },
     "metadata": {},
     "output_type": "display_data"
    }
   ],
   "source": [
    "# Access public collections containing a certain crop type\n",
    "ewoc_codes = [1106000020] # soybean\n",
    "collections = rdm_interaction.get_collections(ewoc_codes=ewoc_codes)\n",
    "\n",
    "# Access public collections for geometry (located near Kenya)\n",
    "coords = [\n",
    "(34.45619011, -0.91010781),\n",
    "(34.79638823, -0.91010781),\n",
    "(34.79638823, -0.34539808),\n",
    "(34.45619011, -0.34539808),\n",
    "(34.45619011, -0.91010781)]\n",
    "polygon = Polygon(coords)   \n",
    "collections = rdm_interaction.get_collections(geometry=polygon)\n",
    "\n",
    "# Access public collections for bounding box and year\n",
    "temporal_extent = [\"2020-01-01\", \"2020-12-31\"]\n",
    "collections = rdm_interaction.get_collections(geometry=polygon,\n",
    "                                        temporal_extent=temporal_extent)\n",
    "\n",
    "# Access private collections\n",
    "# NOTE: this requires authentication using a valid Terrascope account\n",
    "collections = rdm_interaction.get_collections(include_public=False,\n",
    "                                        include_private=True)\n",
    "\n",
    "# Access private collections for crop type\n",
    "collections = rdm_interaction.get_collections(include_public=False,\n",
    "                                        include_private=True,\n",
    "                                        ewoc_codes=ewoc_codes)\n",
    "\n",
    "# Access both public and private collections for crop type\n",
    "collections = rdm_interaction.get_collections(include_private=True,\n",
    "                                        ewoc_codes=ewoc_codes)"
   ]
  },
  {
   "cell_type": "markdown",
   "metadata": {},
   "source": [
    "### 2. Get crop counts\n",
    "This functionality allows you to count the number of samples belonging to one or multiple crop types across one or multiple collections.\n",
    "\n",
    "In case you do not specify the crop types, the tool will automatically return all crop types present in the collections."
   ]
  },
  {
   "cell_type": "code",
   "execution_count": 5,
   "metadata": {},
   "outputs": [
    {
     "name": "stdout",
     "output_type": "stream",
     "text": [
      "ewoc_code                         1101010002  1106000020\n",
      "ref_id                                                  \n",
      "2017canaafccropinventorypoint110         799       16907\n",
      "2018canaafcacigtdpoint110                799       15180\n"
     ]
    }
   ],
   "source": [
    "ref_ids = ['2018canaafcacigtdpoint110', '2017canaafccropinventorypoint110']\n",
    "crop_codes = [1106000020, 1101010002] # soybean + spring wheat\n",
    "\n",
    "rdm_interaction = RdmInteraction()\n",
    "counts = rdm_interaction.get_crop_counts(ref_ids,\n",
    "                                         ewoc_codes=crop_codes,\n",
    "                                         )\n",
    "print(counts)"
   ]
  },
  {
   "cell_type": "markdown",
   "metadata": {},
   "source": [
    "### 3. Download individual samples\n",
    "Now that you have an idea about data availability, let's download individual samples!\n",
    "\n",
    "There are different ways to filter the samples you wish to download. You can freely combine these different filters in a single request:\n",
    "- ref_ids: a list of collection id's\n",
    "- ewoc_codes: a list of crop types\n",
    "- geometry: limit download to samples contained within a polygon. The geometry needs to be defined as a shapely polygon in CRS EPSG: 4326\n",
    "- temporal_extent: a list of two dates [start_date, end_date]\n",
    "- include_public: whether or not to include public collections\n",
    "- include_private: whether or not to include private collections\n",
    "- subset: if True, the function will only download a subsample of the samples for which the \"extract\" attribute is 1 or higher. If False (default), all samples matching your search criteria will be downloaded."
   ]
  },
  {
   "cell_type": "code",
   "execution_count": 7,
   "metadata": {},
   "outputs": [
    {
     "name": "stderr",
     "output_type": "stream",
     "text": [
      "\u001b[32m2024-11-26 15:56:41.070\u001b[0m | \u001b[1mINFO    \u001b[0m | \u001b[36mworldcereal.rdm_api.rdm_interaction\u001b[0m:\u001b[36mdownload_samples\u001b[0m:\u001b[36m425\u001b[0m - \u001b[1mQuerying 4 collections...\u001b[0m\n"
     ]
    },
    {
     "name": "stdout",
     "output_type": "stream",
     "text": [
      "Total number of samples downloaded: 326\n"
     ]
    },
    {
     "data": {
      "text/html": [
       "<div>\n",
       "<style scoped>\n",
       "    .dataframe tbody tr th:only-of-type {\n",
       "        vertical-align: middle;\n",
       "    }\n",
       "\n",
       "    .dataframe tbody tr th {\n",
       "        vertical-align: top;\n",
       "    }\n",
       "\n",
       "    .dataframe thead th {\n",
       "        text-align: right;\n",
       "    }\n",
       "</style>\n",
       "<table border=\"1\" class=\"dataframe\">\n",
       "  <thead>\n",
       "    <tr style=\"text-align: right;\">\n",
       "      <th></th>\n",
       "      <th>sample_id</th>\n",
       "      <th>ewoc_code</th>\n",
       "      <th>valid_time</th>\n",
       "      <th>quality_score_lc</th>\n",
       "      <th>quality_score_ct</th>\n",
       "      <th>extract</th>\n",
       "      <th>h3_l3_cell</th>\n",
       "      <th>ref_id</th>\n",
       "      <th>geometry</th>\n",
       "    </tr>\n",
       "  </thead>\n",
       "  <tbody>\n",
       "    <tr>\n",
       "      <th>0</th>\n",
       "      <td>2018_AF_One-Acre-Fund-MEL_POINT_110_2018_AF_OA...</td>\n",
       "      <td>1101060000</td>\n",
       "      <td>2018-08-01</td>\n",
       "      <td>89</td>\n",
       "      <td>85</td>\n",
       "      <td>1</td>\n",
       "      <td>837a6bfffffffff</td>\n",
       "      <td>2018afoafpoint110</td>\n",
       "      <td>POINT (34.70642 -0.43082)</td>\n",
       "    </tr>\n",
       "    <tr>\n",
       "      <th>1</th>\n",
       "      <td>2018_AF_One-Acre-Fund-MEL_POINT_110_2018_AF_OA...</td>\n",
       "      <td>1101060000</td>\n",
       "      <td>2018-08-01</td>\n",
       "      <td>89</td>\n",
       "      <td>85</td>\n",
       "      <td>1</td>\n",
       "      <td>837a6bfffffffff</td>\n",
       "      <td>2018afoafpoint110</td>\n",
       "      <td>POINT (34.70531 -0.42930)</td>\n",
       "    </tr>\n",
       "    <tr>\n",
       "      <th>2</th>\n",
       "      <td>2018_AF_One-Acre-Fund-MEL_POINT_110_2018_AF_OA...</td>\n",
       "      <td>1101060000</td>\n",
       "      <td>2018-08-01</td>\n",
       "      <td>89</td>\n",
       "      <td>85</td>\n",
       "      <td>1</td>\n",
       "      <td>837a6bfffffffff</td>\n",
       "      <td>2018afoafpoint110</td>\n",
       "      <td>POINT (34.70492 -0.43028)</td>\n",
       "    </tr>\n",
       "    <tr>\n",
       "      <th>3</th>\n",
       "      <td>2018_AF_One-Acre-Fund-MEL_POINT_110_2018_AF_OA...</td>\n",
       "      <td>1101060000</td>\n",
       "      <td>2018-08-01</td>\n",
       "      <td>89</td>\n",
       "      <td>85</td>\n",
       "      <td>1</td>\n",
       "      <td>837a6bfffffffff</td>\n",
       "      <td>2018afoafpoint110</td>\n",
       "      <td>POINT (34.70409 -0.42964)</td>\n",
       "    </tr>\n",
       "    <tr>\n",
       "      <th>4</th>\n",
       "      <td>2018_AF_One-Acre-Fund-MEL_POINT_110_2018_AF_OA...</td>\n",
       "      <td>1101060000</td>\n",
       "      <td>2018-08-01</td>\n",
       "      <td>89</td>\n",
       "      <td>85</td>\n",
       "      <td>1</td>\n",
       "      <td>837a6bfffffffff</td>\n",
       "      <td>2018afoafpoint110</td>\n",
       "      <td>POINT (34.73554 -0.41819)</td>\n",
       "    </tr>\n",
       "  </tbody>\n",
       "</table>\n",
       "</div>"
      ],
      "text/plain": [
       "                                           sample_id   ewoc_code valid_time  \\\n",
       "0  2018_AF_One-Acre-Fund-MEL_POINT_110_2018_AF_OA...  1101060000 2018-08-01   \n",
       "1  2018_AF_One-Acre-Fund-MEL_POINT_110_2018_AF_OA...  1101060000 2018-08-01   \n",
       "2  2018_AF_One-Acre-Fund-MEL_POINT_110_2018_AF_OA...  1101060000 2018-08-01   \n",
       "3  2018_AF_One-Acre-Fund-MEL_POINT_110_2018_AF_OA...  1101060000 2018-08-01   \n",
       "4  2018_AF_One-Acre-Fund-MEL_POINT_110_2018_AF_OA...  1101060000 2018-08-01   \n",
       "\n",
       "   quality_score_lc  quality_score_ct  extract       h3_l3_cell  \\\n",
       "0                89                85        1  837a6bfffffffff   \n",
       "1                89                85        1  837a6bfffffffff   \n",
       "2                89                85        1  837a6bfffffffff   \n",
       "3                89                85        1  837a6bfffffffff   \n",
       "4                89                85        1  837a6bfffffffff   \n",
       "\n",
       "              ref_id                   geometry  \n",
       "0  2018afoafpoint110  POINT (34.70642 -0.43082)  \n",
       "1  2018afoafpoint110  POINT (34.70531 -0.42930)  \n",
       "2  2018afoafpoint110  POINT (34.70492 -0.43028)  \n",
       "3  2018afoafpoint110  POINT (34.70409 -0.42964)  \n",
       "4  2018afoafpoint110  POINT (34.73554 -0.41819)  "
      ]
     },
     "execution_count": 7,
     "metadata": {},
     "output_type": "execute_result"
    }
   ],
   "source": [
    "rdm = RdmInteraction()\n",
    "\n",
    "# ref_ids = [\"2017ascawaprojectpoly111\"]\n",
    "ref_ids = None\n",
    "# geometry = None\n",
    "coords = [\n",
    "    (34.45619011, -0.91010781),\n",
    "    (34.79638823, -0.91010781),\n",
    "    (34.79638823, -0.34539808),\n",
    "    (34.45619011, -0.34539808),\n",
    "    (34.45619011, -0.91010781),\n",
    "]\n",
    "geometry = Polygon(coords)\n",
    "temporal_extent = None\n",
    "ewoc_codes = [1101060000]\n",
    "# ewoc_codes = None\n",
    "include_public = True\n",
    "include_private = False\n",
    "subset = False\n",
    "\n",
    "gdf = rdm.download_samples(\n",
    "    ref_ids=ref_ids,\n",
    "    subset=subset,\n",
    "    geometry=geometry,\n",
    "    temporal_extent=temporal_extent,\n",
    "    ewoc_codes=ewoc_codes,\n",
    "    include_public=include_public,\n",
    "    include_private=include_private,\n",
    ")\n",
    "\n",
    "print(f\"Total number of samples downloaded: {len(gdf)}\")\n",
    "gdf.head()"
   ]
  }
 ],
 "metadata": {
  "kernelspec": {
   "display_name": "worldcereal",
   "language": "python",
   "name": "python3"
  },
  "language_info": {
   "codemirror_mode": {
    "name": "ipython",
    "version": 3
   },
   "file_extension": ".py",
   "mimetype": "text/x-python",
   "name": "python",
   "nbconvert_exporter": "python",
   "pygments_lexer": "ipython3",
   "version": "3.10.0"
  }
 },
 "nbformat": 4,
 "nbformat_minor": 2
}
