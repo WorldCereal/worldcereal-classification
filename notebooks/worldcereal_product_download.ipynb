{
 "cells": [
  {
   "cell_type": "markdown",
   "metadata": {},
   "source": [
    "![](./resources/Demo-official_download.png)"
   ]
  },
  {
   "cell_type": "markdown",
   "metadata": {},
   "source": [
    "### Table of contents\n",
    "\n",
    "- [Purpose and prerequisites](###-Purpose-and-prerequisites)\n",
    "- [Introduction](###-Introduction)\n",
    "- [Step 1: Define the collection and product of interest](###-Step-1:-Define-the-collection-and-product-of-interest)\n",
    "- [Step 2: Define your region of interest](###-Step-2:-Define-your-region-of-interest)\n",
    "- [Step 3: Select your growing season of interest](###-Step-3:-Select-your-growing-season-of-interest)\n",
    "- [Step 4: Specify output folder](###-Step-4:-Specify-output-folder)\n",
    "- [Step 5: Download the products](###-Step-5:-Download-the-products)"
   ]
  },
  {
   "cell_type": "markdown",
   "metadata": {},
   "source": [
    "### Purpose and prerequisites\n",
    "\n",
    "This notebook demonstrates how to download an official WorldCereal product for your area and season of interest through OpenEO from the Copernicus Data Space Ecosystem (CDSE).\n",
    "\n",
    "You will need a [CDSE account](https://dataspace.copernicus.eu/) in order to use this notebook."
   ]
  },
  {
   "cell_type": "markdown",
   "metadata": {},
   "source": [
    "### Introduction\n",
    "\n",
    "The WorldCereal project has generated a suite of [global classification products for the year 2021](https://esa-worldcereal.org/en/products/global-maps), covering:\n",
    "- a temporary crop mask\n",
    "- season-specific active cropland markers\n",
    "- season-specific crop type masks for winter cereals, spring cereals and maize\n",
    "- season-specific active irrigation masks\n",
    "\n",
    "To account for local differences in crop seasonality, the world has been subdivided into Agro-ecological zones (AEZ). Each zone has its own definition of growing seasons, which is important to keep in mind when downloading a product! More specifically, an AEZ is characterized by one winter cereals season and up to two maize seasons. The figures below illustrate the spatial distribution of the AEZs and the availability of products for each season:\n",
    "\n",
    "![](./resources/Phase_I_AEZ.PNG)\n",
    "WorldCereal Agro-ecological zones for 2021 global products\n",
    "\n",
    "![](./resources/Phase_I_seasons.PNG)\n",
    "WorldCereal product availability per season for the 2021 product collection"
   ]
  },
  {
   "cell_type": "markdown",
   "metadata": {},
   "source": [
    "### Step 1: Define the collection and product of interest\n",
    "\n",
    "At this moment, global products are only available for the year 2021.\n",
    "\n",
    "Available products are:\n",
    "- TEMPORARYCROPS\n",
    "- ACTIVECROPLAND\n",
    "- WINTERCEREALS\n",
    "- SPRINGCEREALS\n",
    "- MAIZE\n",
    "- IRRIGATION"
   ]
  },
  {
   "cell_type": "code",
   "execution_count": 1,
   "metadata": {},
   "outputs": [],
   "source": [
    "product_collection = '2021'\n",
    "\n",
    "product = 'TEMPORARYCROPS'"
   ]
  },
  {
   "cell_type": "markdown",
   "metadata": {},
   "source": [
    "### Step 2: Define your region of interest\n",
    "\n",
    "Draw your desired spatial extent on the interactive map below.\n",
    "The maximum allowed area for downloading a product is 1000 x 1000 km².\n",
    "In case you are interested in larger areas, we recommend to download the AEZ-based products directly from [Zenodo](https://zenodo.org/records/7875105)."
   ]
  },
  {
   "cell_type": "code",
   "execution_count": 2,
   "metadata": {},
   "outputs": [
    {
     "data": {
      "application/vnd.jupyter.widget-view+json": {
       "model_id": "ef87f4f01b734596bef56a1624738c1c",
       "version_major": 2,
       "version_minor": 0
      },
      "text/plain": [
       "VBox(children=(Map(center=[51.1872, 5.1154], controls=(ZoomControl(options=['position', 'zoom_in_text', 'zoom_…"
      ]
     },
     "metadata": {},
     "output_type": "display_data"
    }
   ],
   "source": [
    "# Step 2: Define the area of interest\n",
    "\n",
    "from worldcereal.utils.map import ui_map\n",
    "\n",
    "map = ui_map(area_limit=1000000)\n",
    "map.show_map()"
   ]
  },
  {
   "cell_type": "markdown",
   "metadata": {},
   "source": [
    "### Step 3: Select your growing season of interest\n",
    "\n",
    "You can use the snippet below to consult the available growing seasons for your area of interest.\n",
    "\n",
    "Note that if you are only interested in the TEMPORARYCROPS product, you can skip this part."
   ]
  },
  {
   "cell_type": "code",
   "execution_count": 3,
   "metadata": {},
   "outputs": [
    {
     "data": {
      "image/png": "[encoded data removed]",
      "text/plain": [
       "<Figure size 640x480 with 1 Axes>"
      ]
     },
     "metadata": {},
     "output_type": "display_data"
    }
   ],
   "source": [
    "from notebook_utils.seasons import retrieve_phaseI_seasons\n",
    "\n",
    "spatial_extent = map.get_extent()\n",
    "seasons = retrieve_phaseI_seasons(spatial_extent)"
   ]
  },
  {
   "cell_type": "markdown",
   "metadata": {},
   "source": [
    "<div class=\"alert alert-block alert-info\">\n",
    "<b>Interpretation of growing seasons:</b><br> \n",
    "To correctly interprete the above figure, you should keep in mind that 2021 WorldCereal products have been produced for growing seasons ENDING in the year 2021.<br>\n",
    "Examples:<br>\n",
    "- If a season starts in September and ends in February, the temporal extent of the product is: Sept 2020 - Feb 2021<br>\n",
    "- If a season starts in March and ends in November, the temporal extent of the product is: March 2021 - November 2021.<br>\n",
    "</div>"
   ]
  },
  {
   "cell_type": "markdown",
   "metadata": {},
   "source": [
    "In case you would like to download the product for ALL growing seasons occuring in your area of interest, you should use:\n",
    "\n",
    "`growing_season` = None\n",
    "\n",
    "If interested in a specific growing season, specify the correct one from the figure above, example:\n",
    "\n",
    "`growing_season` = tc-maize-main"
   ]
  },
  {
   "cell_type": "code",
   "execution_count": 3,
   "metadata": {},
   "outputs": [],
   "source": [
    "growing_season = None"
   ]
  },
  {
   "cell_type": "markdown",
   "metadata": {},
   "source": [
    "### Step 4: Specify output folder\n",
    "\n",
    "The next cell will prompt you to provide a unique tag enabling you to specify a dedicated download folder for your products of interest."
   ]
  },
  {
   "cell_type": "code",
   "execution_count": 4,
   "metadata": {},
   "outputs": [
    {
     "name": "stdout",
     "output_type": "stream",
     "text": [
      "Output directory: /data/users/Private/jeroendegerickx/git/worldcereal/worldcereal-classification/notebooks/downloads/2021_product_TEST\n"
     ]
    }
   ],
   "source": [
    "import os\n",
    "from pathlib import Path\n",
    "from notebook_utils.classifier import get_input\n",
    "\n",
    "# Specify the local directory where the resulting maps should be downloaded to.\n",
    "run = get_input('directory')\n",
    "output_dir = Path(os.getcwd()) / \"downloads\" / f'2021_product_{run}'\n",
    "print(f\"Output directory: {output_dir}\")"
   ]
  },
  {
   "cell_type": "markdown",
   "metadata": {},
   "source": [
    "### Step 5: Download the products\n",
    "\n",
    "The following cell launches an OpenEO download job on the CDSE federation backend."
   ]
  },
  {
   "cell_type": "code",
   "execution_count": 5,
   "metadata": {},
   "outputs": [
    {
     "name": "stdout",
     "output_type": "stream",
     "text": [
      "Authenticated using refresh token.\n",
      "0:00:00 Job 'terrascope-j-25022114011644d381977aa2eed5d66c': send 'start'\n",
      "0:00:16 Job 'terrascope-j-25022114011644d381977aa2eed5d66c': queued (progress 0%)\n",
      "0:00:21 Job 'terrascope-j-25022114011644d381977aa2eed5d66c': queued (progress 0%)\n",
      "0:00:28 Job 'terrascope-j-25022114011644d381977aa2eed5d66c': queued (progress 0%)\n",
      "0:00:36 Job 'terrascope-j-25022114011644d381977aa2eed5d66c': queued (progress 0%)\n",
      "0:00:46 Job 'terrascope-j-25022114011644d381977aa2eed5d66c': queued (progress 0%)\n",
      "0:00:58 Job 'terrascope-j-25022114011644d381977aa2eed5d66c': running (progress N/A)\n",
      "0:01:14 Job 'terrascope-j-25022114011644d381977aa2eed5d66c': running (progress N/A)\n",
      "0:01:33 Job 'terrascope-j-25022114011644d381977aa2eed5d66c': running (progress N/A)\n",
      "0:01:57 Job 'terrascope-j-25022114011644d381977aa2eed5d66c': running (progress N/A)\n",
      "0:02:27 Job 'terrascope-j-25022114011644d381977aa2eed5d66c': running (progress N/A)\n",
      "0:03:05 Job 'terrascope-j-25022114011644d381977aa2eed5d66c': finished (progress 100%)\n"
     ]
    },
    {
     "ename": "ValidationError",
     "evalue": "2 validation errors for InferenceResults\nproducts.TEMPORARYCROPS.url\n  Input should be a valid string [type=string_type, input_value=None, input_type=NoneType]\n    For further information visit https://errors.pydantic.dev/2.8/v/string_type\nproducts.TEMPORARYCROPS.temporal_extent\n  Input should be a dictionary or an instance of TemporalContext [type=dataclass_type, input_value=None, input_type=NoneType]\n    For further information visit https://errors.pydantic.dev/2.8/v/dataclass_type",
     "output_type": "error",
     "traceback": [
      "\u001b[0;31m---------------------------------------------------------------------------\u001b[0m",
      "\u001b[0;31mValidationError\u001b[0m                           Traceback (most recent call last)",
      "Cell \u001b[0;32mIn[5], line 4\u001b[0m\n\u001b[1;32m      1\u001b[0m \u001b[38;5;28;01mfrom\u001b[39;00m \u001b[38;5;21;01mworldcereal\u001b[39;00m\u001b[38;5;21;01m.\u001b[39;00m\u001b[38;5;21;01mjob\u001b[39;00m \u001b[38;5;28;01mimport\u001b[39;00m download_official_product\n\u001b[1;32m      3\u001b[0m spatial_extent \u001b[38;5;241m=\u001b[39m \u001b[38;5;28mmap\u001b[39m\u001b[38;5;241m.\u001b[39mget_extent()\n\u001b[0;32m----> 4\u001b[0m product_paths \u001b[38;5;241m=\u001b[39m \u001b[43mdownload_official_product\u001b[49m\u001b[43m(\u001b[49m\u001b[43mspatial_extent\u001b[49m\u001b[43m,\u001b[49m\n\u001b[1;32m      5\u001b[0m \u001b[43m                                     \u001b[49m\u001b[43mproduct\u001b[49m\u001b[43m,\u001b[49m\n\u001b[1;32m      6\u001b[0m \u001b[43m                                     \u001b[49m\u001b[43moutput_dir\u001b[49m\u001b[43m,\u001b[49m\n\u001b[1;32m      7\u001b[0m \u001b[43m                                     \u001b[49m\u001b[43mseason\u001b[49m\u001b[38;5;241;43m=\u001b[39;49m\u001b[43mgrowing_season\u001b[49m\u001b[43m,\u001b[49m\n\u001b[1;32m      8\u001b[0m \u001b[43m                                     \u001b[49m\u001b[43mproduct_collection\u001b[49m\u001b[38;5;241;43m=\u001b[39;49m\u001b[43mproduct_collection\u001b[49m\u001b[43m,\u001b[49m\u001b[43m)\u001b[49m\n",
      "File \u001b[0;32m/data/users/Private/jeroendegerickx/git/worldcereal/worldcereal-classification/src/worldcereal/job.py:450\u001b[0m, in \u001b[0;36mdownload_official_product\u001b[0;34m(spatial_extent, product_type, output_dir, season, product_collection, out_format, backend_context, job_options)\u001b[0m\n\u001b[1;32m    447\u001b[0m metadata_file \u001b[38;5;241m=\u001b[39m output_dir \u001b[38;5;241m/\u001b[39m \u001b[38;5;124m\"\u001b[39m\u001b[38;5;124mjob-results.json\u001b[39m\u001b[38;5;124m\"\u001b[39m\n\u001b[1;32m    449\u001b[0m \u001b[38;5;66;03m# Return inference results\u001b[39;00m\n\u001b[0;32m--> 450\u001b[0m \u001b[38;5;28;01mreturn\u001b[39;00m \u001b[43mInferenceResults\u001b[49m\u001b[43m(\u001b[49m\n\u001b[1;32m    451\u001b[0m \u001b[43m    \u001b[49m\u001b[43mjob_id\u001b[49m\u001b[38;5;241;43m=\u001b[39;49m\u001b[43mjob\u001b[49m\u001b[38;5;241;43m.\u001b[39;49m\u001b[43mjob_id\u001b[49m\u001b[43m,\u001b[49m\u001b[43m \u001b[49m\u001b[43mproducts\u001b[49m\u001b[38;5;241;43m=\u001b[39;49m\u001b[43mproducts\u001b[49m\u001b[43m,\u001b[49m\u001b[43m \u001b[49m\u001b[43mmetadata\u001b[49m\u001b[38;5;241;43m=\u001b[39;49m\u001b[43mmetadata_file\u001b[49m\n\u001b[1;32m    452\u001b[0m \u001b[43m\u001b[49m\u001b[43m)\u001b[49m\n",
      "File \u001b[0;32m~/miniconda3/envs/worldcereal/lib/python3.10/site-packages/pydantic/main.py:192\u001b[0m, in \u001b[0;36mBaseModel.__init__\u001b[0;34m(self, **data)\u001b[0m\n\u001b[1;32m    190\u001b[0m \u001b[38;5;66;03m# `__tracebackhide__` tells pytest and some other tools to omit this function from tracebacks\u001b[39;00m\n\u001b[1;32m    191\u001b[0m __tracebackhide__ \u001b[38;5;241m=\u001b[39m \u001b[38;5;28;01mTrue\u001b[39;00m\n\u001b[0;32m--> 192\u001b[0m \u001b[38;5;28;43mself\u001b[39;49m\u001b[38;5;241;43m.\u001b[39;49m\u001b[43m__pydantic_validator__\u001b[49m\u001b[38;5;241;43m.\u001b[39;49m\u001b[43mvalidate_python\u001b[49m\u001b[43m(\u001b[49m\u001b[43mdata\u001b[49m\u001b[43m,\u001b[49m\u001b[43m \u001b[49m\u001b[43mself_instance\u001b[49m\u001b[38;5;241;43m=\u001b[39;49m\u001b[38;5;28;43mself\u001b[39;49m\u001b[43m)\u001b[49m\n",
      "\u001b[0;31mValidationError\u001b[0m: 2 validation errors for InferenceResults\nproducts.TEMPORARYCROPS.url\n  Input should be a valid string [type=string_type, input_value=None, input_type=NoneType]\n    For further information visit https://errors.pydantic.dev/2.8/v/string_type\nproducts.TEMPORARYCROPS.temporal_extent\n  Input should be a dictionary or an instance of TemporalContext [type=dataclass_type, input_value=None, input_type=NoneType]\n    For further information visit https://errors.pydantic.dev/2.8/v/dataclass_type"
     ]
    }
   ],
   "source": [
    "from worldcereal.job import download_official_product\n",
    "\n",
    "spatial_extent = map.get_extent()\n",
    "product_paths = download_official_product(spatial_extent,\n",
    "                                     product,\n",
    "                                     output_dir,\n",
    "                                     season=growing_season,\n",
    "                                     product_collection=product_collection,)\n"
   ]
  },
  {
   "cell_type": "code",
   "execution_count": 6,
   "metadata": {},
   "outputs": [
    {
     "ename": "NameError",
     "evalue": "name 'product_paths' is not defined",
     "output_type": "error",
     "traceback": [
      "\u001b[0;31m---------------------------------------------------------------------------\u001b[0m",
      "\u001b[0;31mNameError\u001b[0m                                 Traceback (most recent call last)",
      "Cell \u001b[0;32mIn[6], line 1\u001b[0m\n\u001b[0;32m----> 1\u001b[0m \u001b[43mproduct_paths\u001b[49m\n",
      "\u001b[0;31mNameError\u001b[0m: name 'product_paths' is not defined"
     ]
    }
   ],
   "source": [
    "product_paths"
   ]
  },
  {
   "cell_type": "markdown",
   "metadata": {},
   "source": [
    "### Step 6: Visualize products\n",
    "\n",
    "Either load the products directly into QGIS, or use the below code snippet for quick visualization.\n",
    "\n",
    "Keep in mind:\n",
    "- value 0 represents the \"negative class\". E.g. no-cropland in temporarycrops product, not maize in maize product\n",
    "- value 100 represents the \"positive class\". E.g. active in activecropland product, irrigated in irrigation product.\n",
    "- value 254 represents \"no cropland\" class in seasonal products\n",
    "- value 255 is the no-data value\n",
    "\n",
    "Using the snippet below, only the classification results itself are visualized. Some products contain, aside from the classification results, also information on the confidence score per pixel (0-100) in the second band of the resulting raster layer. Use QGIS to visualize this information if needed."
   ]
  },
  {
   "cell_type": "code",
   "execution_count": null,
   "metadata": {},
   "outputs": [
    {
     "data": {
      "image/png": "[encoded data removed]",
      "text/plain": [
       "<Figure size 1000x500 with 2 Axes>"
      ]
     },
     "metadata": {},
     "output_type": "display_data"
    }
   ],
   "source": [
    "from notebook_utils.visualization import visualize_2021_products\n",
    "# from pathlib import Path\n",
    "\n",
    "# product_paths = [Path('/vitodata/worldcereal/tmp/jeroen/TEMPORARYCROPS.tif')]\n",
    "# product = 'TEMPORARYCROPS'\n",
    "\n",
    "visualize_2021_products(product_paths, product)"
   ]
  },
  {
   "cell_type": "code",
   "execution_count": null,
   "metadata": {},
   "outputs": [],
   "source": [
    "to test:\n",
    "      - download maize, springcereals, wintercereals, activecropland --> no data value correct?\n",
    "      - download area on the border of 2 or more AEZs\n",
    "    - download a large area\n",
    "    \n",
    "  "
   ]
  }
 ],
 "metadata": {
  "kernelspec": {
   "display_name": "worldcereal",
   "language": "python",
   "name": "python3"
  },
  "language_info": {
   "codemirror_mode": {
    "name": "ipython",
    "version": 3
   },
   "file_extension": ".py",
   "mimetype": "text/x-python",
   "name": "python",
   "nbconvert_exporter": "python",
   "pygments_lexer": "ipython3",
   "version": "3.10.0"
  }
 },
 "nbformat": 4,
 "nbformat_minor": 2
}
