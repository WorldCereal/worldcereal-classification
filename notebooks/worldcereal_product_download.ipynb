{
 "cells": [
  {
   "cell_type": "markdown",
   "metadata": {},
   "source": [
    "![](./resources/Demo-official_download.png)"
   ]
  },
  {
   "cell_type": "markdown",
   "metadata": {},
   "source": [
    "### Table of contents\n",
    "\n",
    "- [Purpose and prerequisites](###-Purpose-and-prerequisites)\n",
    "- [Introduction](###-Introduction)\n",
    "- [Step 1: Define the collection and product of interest](###-Step-1:-Define-the-collection-and-product-of-interest)\n",
    "- [Step 2: Define your region of interest](###-Step-2:-Define-your-region-of-interest)\n",
    "- [Step 3: Select your growing season of interest](###-Step-3:-Select-your-growing-season-of-interest)\n",
    "- [Step 4: Specify output folder](###-Step-4:-Specify-output-folder)\n",
    "- [Step 5: Download the products](###-Step-5:-Download-the-products)\n",
    "- [Step 6: Visualize products](###-Step-6:-Visualize-products)"
   ]
  },
  {
   "cell_type": "markdown",
   "metadata": {},
   "source": [
    "### Purpose and prerequisites\n",
    "\n",
    "This notebook demonstrates how to download an official WorldCereal product for your area and season of interest through OpenEO from the Copernicus Data Space Ecosystem (CDSE).\n",
    "\n",
    "You will need a [CDSE account](https://dataspace.copernicus.eu/) in order to use this notebook."
   ]
  },
  {
   "cell_type": "markdown",
   "metadata": {},
   "source": [
    "### Introduction\n",
    "\n",
    "The WorldCereal project has generated a suite of [global classification products for the year 2021](https://esa-worldcereal.org/en/products/global-maps), covering:\n",
    "- a temporary crop mask\n",
    "- season-specific active cropland markers\n",
    "- season-specific crop type masks for winter cereals, spring cereals and maize\n",
    "- season-specific active irrigation masks\n",
    "\n",
    "To account for local differences in crop seasonality, the world has been subdivided into Agro-ecological zones (AEZ). Each zone has its own definition of growing seasons, which is important to keep in mind when downloading a product! More specifically, an AEZ is characterized by one winter cereals season and up to two maize seasons. The figures below illustrate the spatial distribution of the AEZs and the availability of products for each season:\n",
    "\n",
    "![](./resources/Phase_I_AEZ.PNG)\n",
    "WorldCereal Agro-ecological zones for 2021 global products\n",
    "\n",
    "![](./resources/Phase_I_seasons.PNG)\n",
    "WorldCereal product availability per season for the 2021 product collection"
   ]
  },
  {
   "cell_type": "markdown",
   "metadata": {},
   "source": [
    "### Step 1: Define the collection and product of interest\n",
    "\n",
    "At this moment, global products are only available for the year 2021.\n",
    "\n",
    "Available products are:\n",
    "- TEMPORARYCROPS\n",
    "- ACTIVECROPLAND\n",
    "- WINTERCEREALS\n",
    "- SPRINGCEREALS\n",
    "- MAIZE\n",
    "- IRRIGATION"
   ]
  },
  {
   "cell_type": "code",
   "execution_count": null,
   "metadata": {},
   "outputs": [],
   "source": [
    "product_collection = '2021'\n",
    "\n",
    "product = 'MAIZE'"
   ]
  },
  {
   "cell_type": "markdown",
   "metadata": {},
   "source": [
    "### Step 2: Define your region of interest\n",
    "\n",
    "Draw your desired spatial extent on the interactive map below.\n",
    "The maximum allowed area for downloading a product is 1000 x 1000 km².\n",
    "In case you are interested in larger areas, we recommend to download the AEZ-based products directly from [Zenodo](https://zenodo.org/records/7875105)."
   ]
  },
  {
   "cell_type": "code",
   "execution_count": null,
   "metadata": {},
   "outputs": [],
   "source": [
    "# Step 2: Define the area of interest\n",
    "\n",
    "from worldcereal.utils.map import ui_map\n",
    "\n",
    "map = ui_map(area_limit=1000000)\n",
    "map.show_map()"
   ]
  },
  {
   "cell_type": "markdown",
   "metadata": {},
   "source": [
    "### Step 3: Select your growing season of interest\n",
    "\n",
    "You can use the snippet below to consult the available growing seasons for your area of interest.\n",
    "\n",
    "Note that if you are only interested in the TEMPORARYCROPS product, you can skip this part."
   ]
  },
  {
   "cell_type": "code",
   "execution_count": null,
   "metadata": {},
   "outputs": [],
   "source": [
    "from notebook_utils.seasons import retrieve_phaseI_seasons\n",
    "\n",
    "spatial_extent = map.get_extent()\n",
    "seasons = retrieve_phaseI_seasons(spatial_extent)"
   ]
  },
  {
   "cell_type": "markdown",
   "metadata": {},
   "source": [
    "<div class=\"alert alert-block alert-info\">\n",
    "<b>Interpretation of growing seasons:</b><br> \n",
    "To correctly interprete the above figure, you should keep in mind that 2021 WorldCereal products have been produced for growing seasons ENDING in the year 2021.<br>\n",
    "Examples:<br>\n",
    "- If a season starts in September and ends in February, the temporal extent of the product is: Sept 2020 - Feb 2021<br>\n",
    "- If a season starts in March and ends in November, the temporal extent of the product is: March 2021 - November 2021.<br>\n",
    "</div>"
   ]
  },
  {
   "cell_type": "markdown",
   "metadata": {},
   "source": [
    "In case you would like to download the product for ALL growing seasons occuring in your area of interest, you should use:\n",
    "\n",
    "`growing_season` = None\n",
    "\n",
    "If interested in a specific growing season, specify the correct one from the figure above, example:\n",
    "\n",
    "`growing_season` = tc-maize-main"
   ]
  },
  {
   "cell_type": "code",
   "execution_count": null,
   "metadata": {},
   "outputs": [],
   "source": [
    "growing_season = None"
   ]
  },
  {
   "cell_type": "markdown",
   "metadata": {},
   "source": [
    "### Step 4: Specify output folder\n",
    "\n",
    "The next cell will prompt you to provide a unique tag enabling you to specify a dedicated download folder for your products of interest."
   ]
  },
  {
   "cell_type": "code",
   "execution_count": null,
   "metadata": {},
   "outputs": [],
   "source": [
    "import os\n",
    "from pathlib import Path\n",
    "from notebook_utils.classifier import get_input\n",
    "\n",
    "# Specify the local directory where the resulting maps should be downloaded to.\n",
    "run = get_input('directory')\n",
    "output_dir = Path(os.getcwd()) / \"downloads\" / f'2021_product_{run}'\n",
    "print(f\"Output directory: {output_dir}\")"
   ]
  },
  {
   "cell_type": "markdown",
   "metadata": {},
   "source": [
    "### Step 5: Download the products\n",
    "\n",
    "The following cell launches an OpenEO download job on the CDSE federation backend."
   ]
  },
  {
   "cell_type": "code",
   "execution_count": null,
   "metadata": {},
   "outputs": [],
   "source": [
    "from worldcereal.job import download_official_product\n",
    "\n",
    "spatial_extent = map.get_extent()\n",
    "product_paths = download_official_product(spatial_extent,\n",
    "                                     product,\n",
    "                                     output_dir,\n",
    "                                     season=growing_season,\n",
    "                                     product_collection=product_collection,)\n"
   ]
  },
  {
   "cell_type": "markdown",
   "metadata": {},
   "source": [
    "### Step 6: Visualize products\n",
    "\n",
    "Either load the products directly into QGIS, or use the below code snippet for quick visualization.\n",
    "\n",
    "Keep in mind:\n",
    "- value 0 represents the \"negative class\". E.g. no-cropland in temporarycrops product, not maize in maize product\n",
    "- value 100 represents the \"positive class\". E.g. active in activecropland product, irrigated in irrigation product.\n",
    "- value 254 represents \"no cropland\" class in seasonal products\n",
    "- value 255 is the no-data value\n",
    "\n",
    "Using the snippet below, only the classification results itself are visualized. Some products contain, aside from the classification results, also information on the confidence score per pixel (0-100) in the second band of the resulting raster layer. Use QGIS to visualize this information if needed."
   ]
  },
  {
   "cell_type": "code",
   "execution_count": null,
   "metadata": {},
   "outputs": [],
   "source": [
    "from notebook_utils.visualization import visualize_2021_products\n",
    "\n",
    "visualize_2021_products(product_paths, product)"
   ]
  }
 ],
 "metadata": {
  "kernelspec": {
   "display_name": "worldcereal",
   "language": "python",
   "name": "python3"
  },
  "language_info": {
   "codemirror_mode": {
    "name": "ipython",
    "version": 3
   },
   "file_extension": ".py",
   "mimetype": "text/x-python",
   "name": "python",
   "nbconvert_exporter": "python",
   "pygments_lexer": "ipython3",
   "version": "3.10.0"
  }
 },
 "nbformat": 4,
 "nbformat_minor": 2
}
